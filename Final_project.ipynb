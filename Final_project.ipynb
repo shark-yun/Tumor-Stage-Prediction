{
 "cells": [
  {
   "cell_type": "code",
   "execution_count": 1,
   "id": "0d6bd918",
   "metadata": {},
   "outputs": [],
   "source": [
    "import pandas as pd\n",
    "from sklearn.model_selection import train_test_split\n",
    "from sklearn import metrics"
   ]
  },
  {
   "cell_type": "code",
   "execution_count": 2,
   "id": "8520a7b9",
   "metadata": {},
   "outputs": [],
   "source": [
    "data = pd.read_csv('cleaned_data.csv')"
   ]
  },
  {
   "cell_type": "code",
   "execution_count": 9,
   "id": "aff5e92e",
   "metadata": {},
   "outputs": [
    {
     "data": {
      "text/plain": [
       "(2509, 22)"
      ]
     },
     "execution_count": 9,
     "metadata": {},
     "output_type": "execute_result"
    }
   ],
   "source": [
    "data.shape"
   ]
  },
  {
   "cell_type": "code",
   "execution_count": 14,
   "id": "99d3400a",
   "metadata": {},
   "outputs": [
    {
     "data": {
      "text/plain": [
       "(2509, 22)"
      ]
     },
     "execution_count": 14,
     "metadata": {},
     "output_type": "execute_result"
    }
   ],
   "source": [
    "#check if theres any NA\n",
    "data.dropna().shape"
   ]
  },
  {
   "cell_type": "markdown",
   "id": "1aa329a5",
   "metadata": {},
   "source": [
    "## Encoding the categorical predicators -> 0, 1, 2 . . ."
   ]
  },
  {
   "cell_type": "code",
   "execution_count": 7,
   "id": "6aaef6c1",
   "metadata": {},
   "outputs": [
    {
     "data": {
      "text/html": [
       "<div>\n",
       "<style scoped>\n",
       "    .dataframe tbody tr th:only-of-type {\n",
       "        vertical-align: middle;\n",
       "    }\n",
       "\n",
       "    .dataframe tbody tr th {\n",
       "        vertical-align: top;\n",
       "    }\n",
       "\n",
       "    .dataframe thead th {\n",
       "        text-align: right;\n",
       "    }\n",
       "</style>\n",
       "<table border=\"1\" class=\"dataframe\">\n",
       "  <thead>\n",
       "    <tr style=\"text-align: right;\">\n",
       "      <th></th>\n",
       "      <th>Age.at.Diagnosis</th>\n",
       "      <th>Cancer.Type</th>\n",
       "      <th>Cancer.Type.Detailed</th>\n",
       "      <th>Cellularity..high...3..moderate...2..low...1.</th>\n",
       "      <th>Chemotherapy</th>\n",
       "      <th>Pam50...Claudin.low.subtype</th>\n",
       "      <th>Cohort</th>\n",
       "      <th>ER.status.measured.by.IHC</th>\n",
       "      <th>ER.Status</th>\n",
       "      <th>Neoplasm.Histologic.Grade</th>\n",
       "      <th>...</th>\n",
       "      <th>Tumor.Other.Histologic.Subtype</th>\n",
       "      <th>Inferred.Menopausal.State</th>\n",
       "      <th>Primary.Tumor.Laterality</th>\n",
       "      <th>Lymph.nodes.examined.positive</th>\n",
       "      <th>Mutation.Count</th>\n",
       "      <th>Nottingham.prognostic.index</th>\n",
       "      <th>Oncotree.Code</th>\n",
       "      <th>PR.Status</th>\n",
       "      <th>Tumor.Size</th>\n",
       "      <th>Tumor.Stage</th>\n",
       "    </tr>\n",
       "  </thead>\n",
       "  <tbody>\n",
       "    <tr>\n",
       "      <th>0</th>\n",
       "      <td>75.65</td>\n",
       "      <td>0</td>\n",
       "      <td>2</td>\n",
       "      <td>2</td>\n",
       "      <td>0</td>\n",
       "      <td>6</td>\n",
       "      <td>1</td>\n",
       "      <td>1</td>\n",
       "      <td>1</td>\n",
       "      <td>3</td>\n",
       "      <td>...</td>\n",
       "      <td>0</td>\n",
       "      <td>0</td>\n",
       "      <td>1</td>\n",
       "      <td>10</td>\n",
       "      <td>6</td>\n",
       "      <td>6.044</td>\n",
       "      <td>2</td>\n",
       "      <td>0</td>\n",
       "      <td>22.0</td>\n",
       "      <td>2</td>\n",
       "    </tr>\n",
       "    <tr>\n",
       "      <th>1</th>\n",
       "      <td>43.19</td>\n",
       "      <td>0</td>\n",
       "      <td>2</td>\n",
       "      <td>0</td>\n",
       "      <td>0</td>\n",
       "      <td>2</td>\n",
       "      <td>1</td>\n",
       "      <td>1</td>\n",
       "      <td>1</td>\n",
       "      <td>3</td>\n",
       "      <td>...</td>\n",
       "      <td>0</td>\n",
       "      <td>1</td>\n",
       "      <td>1</td>\n",
       "      <td>0</td>\n",
       "      <td>2</td>\n",
       "      <td>4.020</td>\n",
       "      <td>2</td>\n",
       "      <td>1</td>\n",
       "      <td>10.0</td>\n",
       "      <td>1</td>\n",
       "    </tr>\n",
       "    <tr>\n",
       "      <th>2</th>\n",
       "      <td>48.87</td>\n",
       "      <td>0</td>\n",
       "      <td>2</td>\n",
       "      <td>0</td>\n",
       "      <td>1</td>\n",
       "      <td>3</td>\n",
       "      <td>1</td>\n",
       "      <td>1</td>\n",
       "      <td>1</td>\n",
       "      <td>2</td>\n",
       "      <td>...</td>\n",
       "      <td>0</td>\n",
       "      <td>1</td>\n",
       "      <td>1</td>\n",
       "      <td>1</td>\n",
       "      <td>2</td>\n",
       "      <td>4.030</td>\n",
       "      <td>2</td>\n",
       "      <td>1</td>\n",
       "      <td>15.0</td>\n",
       "      <td>2</td>\n",
       "    </tr>\n",
       "    <tr>\n",
       "      <th>3</th>\n",
       "      <td>47.68</td>\n",
       "      <td>0</td>\n",
       "      <td>5</td>\n",
       "      <td>2</td>\n",
       "      <td>1</td>\n",
       "      <td>3</td>\n",
       "      <td>1</td>\n",
       "      <td>1</td>\n",
       "      <td>1</td>\n",
       "      <td>2</td>\n",
       "      <td>...</td>\n",
       "      <td>4</td>\n",
       "      <td>1</td>\n",
       "      <td>1</td>\n",
       "      <td>3</td>\n",
       "      <td>1</td>\n",
       "      <td>4.050</td>\n",
       "      <td>6</td>\n",
       "      <td>1</td>\n",
       "      <td>25.0</td>\n",
       "      <td>2</td>\n",
       "    </tr>\n",
       "    <tr>\n",
       "      <th>4</th>\n",
       "      <td>76.97</td>\n",
       "      <td>0</td>\n",
       "      <td>5</td>\n",
       "      <td>0</td>\n",
       "      <td>1</td>\n",
       "      <td>3</td>\n",
       "      <td>1</td>\n",
       "      <td>1</td>\n",
       "      <td>1</td>\n",
       "      <td>3</td>\n",
       "      <td>...</td>\n",
       "      <td>4</td>\n",
       "      <td>0</td>\n",
       "      <td>1</td>\n",
       "      <td>8</td>\n",
       "      <td>2</td>\n",
       "      <td>6.080</td>\n",
       "      <td>6</td>\n",
       "      <td>1</td>\n",
       "      <td>40.0</td>\n",
       "      <td>2</td>\n",
       "    </tr>\n",
       "  </tbody>\n",
       "</table>\n",
       "<p>5 rows × 22 columns</p>\n",
       "</div>"
      ],
      "text/plain": [
       "   Age.at.Diagnosis  Cancer.Type  Cancer.Type.Detailed  \\\n",
       "0             75.65            0                     2   \n",
       "1             43.19            0                     2   \n",
       "2             48.87            0                     2   \n",
       "3             47.68            0                     5   \n",
       "4             76.97            0                     5   \n",
       "\n",
       "   Cellularity..high...3..moderate...2..low...1.  Chemotherapy  \\\n",
       "0                                              2             0   \n",
       "1                                              0             0   \n",
       "2                                              0             1   \n",
       "3                                              2             1   \n",
       "4                                              0             1   \n",
       "\n",
       "   Pam50...Claudin.low.subtype  Cohort  ER.status.measured.by.IHC  ER.Status  \\\n",
       "0                            6       1                          1          1   \n",
       "1                            2       1                          1          1   \n",
       "2                            3       1                          1          1   \n",
       "3                            3       1                          1          1   \n",
       "4                            3       1                          1          1   \n",
       "\n",
       "   Neoplasm.Histologic.Grade  ...  Tumor.Other.Histologic.Subtype  \\\n",
       "0                          3  ...                               0   \n",
       "1                          3  ...                               0   \n",
       "2                          2  ...                               0   \n",
       "3                          2  ...                               4   \n",
       "4                          3  ...                               4   \n",
       "\n",
       "   Inferred.Menopausal.State  Primary.Tumor.Laterality  \\\n",
       "0                          0                         1   \n",
       "1                          1                         1   \n",
       "2                          1                         1   \n",
       "3                          1                         1   \n",
       "4                          0                         1   \n",
       "\n",
       "   Lymph.nodes.examined.positive  Mutation.Count  Nottingham.prognostic.index  \\\n",
       "0                             10               6                        6.044   \n",
       "1                              0               2                        4.020   \n",
       "2                              1               2                        4.030   \n",
       "3                              3               1                        4.050   \n",
       "4                              8               2                        6.080   \n",
       "\n",
       "   Oncotree.Code  PR.Status  Tumor.Size  Tumor.Stage  \n",
       "0              2          0        22.0            2  \n",
       "1              2          1        10.0            1  \n",
       "2              2          1        15.0            2  \n",
       "3              6          1        25.0            2  \n",
       "4              6          1        40.0            2  \n",
       "\n",
       "[5 rows x 22 columns]"
      ]
     },
     "execution_count": 7,
     "metadata": {},
     "output_type": "execute_result"
    }
   ],
   "source": [
    "data.head()"
   ]
  },
  {
   "cell_type": "code",
   "execution_count": 5,
   "id": "b56d675a",
   "metadata": {},
   "outputs": [],
   "source": [
    "from sklearn import linear_model\n",
    "from sklearn import preprocessing\n",
    "le = preprocessing.LabelEncoder()"
   ]
  },
  {
   "cell_type": "code",
   "execution_count": 6,
   "id": "03788cff",
   "metadata": {},
   "outputs": [],
   "source": [
    "for i in data: \n",
    "    if isinstance(data[i][0], str):\n",
    "        data[i]= le.fit_transform(data[i])"
   ]
  },
  {
   "cell_type": "code",
   "execution_count": 194,
   "id": "bedfe2b5",
   "metadata": {},
   "outputs": [
    {
     "name": "stdout",
     "output_type": "stream",
     "text": [
      "                            OLS Regression Results                            \n",
      "==============================================================================\n",
      "Dep. Variable:            Tumor.Stage   R-squared:                       0.356\n",
      "Model:                            OLS   Adj. R-squared:                  0.351\n",
      "Method:                 Least Squares   F-statistic:                     65.49\n",
      "Date:                Sun, 27 Nov 2022   Prob (F-statistic):          2.38e-219\n",
      "Time:                        15:32:24   Log-Likelihood:                -1588.8\n",
      "No. Observations:                2509   AIC:                             3222.\n",
      "Df Residuals:                    2487   BIC:                             3350.\n",
      "Df Model:                          21                                         \n",
      "Covariance Type:            nonrobust                                         \n",
      "=================================================================================================================\n",
      "                                                    coef    std err          t      P>|t|      [0.025      0.975]\n",
      "-----------------------------------------------------------------------------------------------------------------\n",
      "const                                             0.5403      0.098      5.512      0.000       0.348       0.733\n",
      "Age.at.Diagnosis                                  0.0045      0.001      4.652      0.000       0.003       0.006\n",
      "Cancer.Type                                      -0.2288      0.192     -1.192      0.234      -0.605       0.148\n",
      "Cancer.Type.Detailed                             -0.0451      0.009     -5.255      0.000      -0.062      -0.028\n",
      "Cellularity..high...3..moderate...2..low...1.    -0.0032      0.010     -0.308      0.758      -0.023       0.017\n",
      "Chemotherapy                                      0.1873      0.032      5.830      0.000       0.124       0.250\n",
      "Pam50...Claudin.low.subtype                       0.0050      0.006      0.805      0.421      -0.007       0.017\n",
      "Cohort                                            0.0410      0.005      8.365      0.000       0.031       0.051\n",
      "ER.status.measured.by.IHC                         0.0469      0.042      1.105      0.269      -0.036       0.130\n",
      "ER.Status                                        -0.0335      0.042     -0.800      0.424      -0.116       0.049\n",
      "Neoplasm.Histologic.Grade                        -0.2012      0.021     -9.502      0.000      -0.243      -0.160\n",
      "HER2.status.measured.by.SNP6                      0.0278      0.017      1.674      0.094      -0.005       0.060\n",
      "HER2.Status                                       0.0305      0.043      0.705      0.481      -0.054       0.116\n",
      "Tumor.Other.Histologic.Subtype                   -0.0141      0.009     -1.507      0.132      -0.032       0.004\n",
      "Inferred.Menopausal.State                         0.0052      0.033      0.158      0.875      -0.059       0.070\n",
      "Primary.Tumor.Laterality                          0.0153      0.020      0.765      0.445      -0.024       0.054\n",
      "Lymph.nodes.examined.positive                     0.0014      0.003      0.470      0.639      -0.005       0.007\n",
      "Mutation.Count                                   -0.0013      0.002     -0.547      0.585      -0.006       0.003\n",
      "Nottingham.prognostic.index                       0.2509      0.014     18.412      0.000       0.224       0.278\n",
      "Oncotree.Code                                     0.0376      0.010      3.743      0.000       0.018       0.057\n",
      "PR.Status                                         0.0152      0.023      0.667      0.505      -0.029       0.060\n",
      "Tumor.Size                                        0.0101      0.001     15.465      0.000       0.009       0.011\n",
      "==============================================================================\n",
      "Omnibus:                      118.710   Durbin-Watson:                   1.834\n",
      "Prob(Omnibus):                  0.000   Jarque-Bera (JB):              401.147\n",
      "Skew:                           0.076   Prob(JB):                     7.80e-88\n",
      "Kurtosis:                       4.953   Cond. No.                     1.43e+03\n",
      "==============================================================================\n",
      "\n",
      "Notes:\n",
      "[1] Standard Errors assume that the covariance matrix of the errors is correctly specified.\n",
      "[2] The condition number is large, 1.43e+03. This might indicate that there are\n",
      "strong multicollinearity or other numerical problems.\n"
     ]
    }
   ],
   "source": [
    "import statsmodels.api as sm\n",
    "from scipy import stats\n",
    "X2 = sm.add_constant(X)\n",
    "est = sm.OLS(Y, X2)\n",
    "est2 = est.fit()\n",
    "print(est2.summary())"
   ]
  },
  {
   "cell_type": "code",
   "execution_count": 11,
   "id": "5209198a",
   "metadata": {},
   "outputs": [
    {
     "name": "stdout",
     "output_type": "stream",
     "text": [
      "(2509, 21)\n"
     ]
    }
   ],
   "source": [
    "X = data.loc[:, data.columns != 'Tumor.Stage']\n",
    "Y = data['Tumor.Stage']\n",
    "print(X.shape)\n"
   ]
  },
  {
   "cell_type": "markdown",
   "id": "efc84553",
   "metadata": {},
   "source": [
    "# Spliting Train-Test sets"
   ]
  },
  {
   "cell_type": "code",
   "execution_count": 64,
   "id": "3acc072b",
   "metadata": {},
   "outputs": [],
   "source": [
    "X_train, X_test, y_train, y_test = train_test_split( update_data, Y, test_size=0.2, random_state=42)"
   ]
  },
  {
   "cell_type": "markdown",
   "id": "6c8dccf6",
   "metadata": {},
   "source": [
    "## Simple Linear Regression"
   ]
  },
  {
   "cell_type": "code",
   "execution_count": 10,
   "id": "d0948f91",
   "metadata": {
    "scrolled": true
   },
   "outputs": [],
   "source": [
    "reg = linear_model.LinearRegression()\n",
    "reg.fit(X_train, y_train)\n",
    "y_pred = reg.predict(X_train)"
   ]
  },
  {
   "cell_type": "markdown",
   "id": "31bfc978",
   "metadata": {},
   "source": [
    "### Since the LR model output is numerical, and our desire output is classes. \n",
    "### So we set the different cut-off line for these numeric output as category output."
   ]
  },
  {
   "cell_type": "code",
   "execution_count": 71,
   "id": "dde95566",
   "metadata": {},
   "outputs": [
    {
     "name": "stderr",
     "output_type": "stream",
     "text": [
      "/var/folders/xd/39vn4ttx5239g2gxfkr0tm_r0000gn/T/ipykernel_52114/3578510354.py:1: DeprecationWarning: elementwise comparison failed; this will raise an error in the future.\n",
      "  print('Correct Training Classification Rate is:',round(sum(y_pred==y_train)/len(y_train),3) *100 ,'%')\n"
     ]
    },
    {
     "ename": "ValueError",
     "evalue": "('Lengths must match to compare', (2007,), (502,))",
     "output_type": "error",
     "traceback": [
      "\u001b[0;31m---------------------------------------------------------------------------\u001b[0m",
      "\u001b[0;31mValueError\u001b[0m                                Traceback (most recent call last)",
      "Input \u001b[0;32mIn [71]\u001b[0m, in \u001b[0;36m<cell line: 1>\u001b[0;34m()\u001b[0m\n\u001b[0;32m----> 1\u001b[0m \u001b[38;5;28mprint\u001b[39m(\u001b[38;5;124m'\u001b[39m\u001b[38;5;124mCorrect Training Classification Rate is:\u001b[39m\u001b[38;5;124m'\u001b[39m,\u001b[38;5;28mround\u001b[39m(\u001b[38;5;28msum\u001b[39m(\u001b[43my_pred\u001b[49m\u001b[38;5;241;43m==\u001b[39;49m\u001b[43my_train\u001b[49m)\u001b[38;5;241m/\u001b[39m\u001b[38;5;28mlen\u001b[39m(y_train),\u001b[38;5;241m3\u001b[39m) \u001b[38;5;241m*\u001b[39m\u001b[38;5;241m100\u001b[39m ,\u001b[38;5;124m'\u001b[39m\u001b[38;5;124m%\u001b[39m\u001b[38;5;124m'\u001b[39m)\n\u001b[1;32m      2\u001b[0m \u001b[38;5;28mprint\u001b[39m(\u001b[38;5;124m'\u001b[39m\u001b[38;5;124mMSE Training for LR:\u001b[39m\u001b[38;5;124m'\u001b[39m, \u001b[38;5;28msum\u001b[39m((y_pred\u001b[38;5;241m-\u001b[39my_train)\u001b[38;5;241m*\u001b[39m\u001b[38;5;241m*\u001b[39m\u001b[38;5;241m2\u001b[39m)\u001b[38;5;241m/\u001b[39m\u001b[38;5;28mlen\u001b[39m(y_train))\n",
      "File \u001b[0;32m~/opt/anaconda3/lib/python3.9/site-packages/pandas/core/ops/common.py:70\u001b[0m, in \u001b[0;36m_unpack_zerodim_and_defer.<locals>.new_method\u001b[0;34m(self, other)\u001b[0m\n\u001b[1;32m     66\u001b[0m             \u001b[38;5;28;01mreturn\u001b[39;00m \u001b[38;5;28mNotImplemented\u001b[39m\n\u001b[1;32m     68\u001b[0m other \u001b[38;5;241m=\u001b[39m item_from_zerodim(other)\n\u001b[0;32m---> 70\u001b[0m \u001b[38;5;28;01mreturn\u001b[39;00m \u001b[43mmethod\u001b[49m\u001b[43m(\u001b[49m\u001b[38;5;28;43mself\u001b[39;49m\u001b[43m,\u001b[49m\u001b[43m \u001b[49m\u001b[43mother\u001b[49m\u001b[43m)\u001b[49m\n",
      "File \u001b[0;32m~/opt/anaconda3/lib/python3.9/site-packages/pandas/core/arraylike.py:40\u001b[0m, in \u001b[0;36mOpsMixin.__eq__\u001b[0;34m(self, other)\u001b[0m\n\u001b[1;32m     38\u001b[0m \u001b[38;5;129m@unpack_zerodim_and_defer\u001b[39m(\u001b[38;5;124m\"\u001b[39m\u001b[38;5;124m__eq__\u001b[39m\u001b[38;5;124m\"\u001b[39m)\n\u001b[1;32m     39\u001b[0m \u001b[38;5;28;01mdef\u001b[39;00m \u001b[38;5;21m__eq__\u001b[39m(\u001b[38;5;28mself\u001b[39m, other):\n\u001b[0;32m---> 40\u001b[0m     \u001b[38;5;28;01mreturn\u001b[39;00m \u001b[38;5;28;43mself\u001b[39;49m\u001b[38;5;241;43m.\u001b[39;49m\u001b[43m_cmp_method\u001b[49m\u001b[43m(\u001b[49m\u001b[43mother\u001b[49m\u001b[43m,\u001b[49m\u001b[43m \u001b[49m\u001b[43moperator\u001b[49m\u001b[38;5;241;43m.\u001b[39;49m\u001b[43meq\u001b[49m\u001b[43m)\u001b[49m\n",
      "File \u001b[0;32m~/opt/anaconda3/lib/python3.9/site-packages/pandas/core/series.py:5623\u001b[0m, in \u001b[0;36mSeries._cmp_method\u001b[0;34m(self, other, op)\u001b[0m\n\u001b[1;32m   5620\u001b[0m rvalues \u001b[38;5;241m=\u001b[39m extract_array(other, extract_numpy\u001b[38;5;241m=\u001b[39m\u001b[38;5;28;01mTrue\u001b[39;00m, extract_range\u001b[38;5;241m=\u001b[39m\u001b[38;5;28;01mTrue\u001b[39;00m)\n\u001b[1;32m   5622\u001b[0m \u001b[38;5;28;01mwith\u001b[39;00m np\u001b[38;5;241m.\u001b[39merrstate(\u001b[38;5;28mall\u001b[39m\u001b[38;5;241m=\u001b[39m\u001b[38;5;124m\"\u001b[39m\u001b[38;5;124mignore\u001b[39m\u001b[38;5;124m\"\u001b[39m):\n\u001b[0;32m-> 5623\u001b[0m     res_values \u001b[38;5;241m=\u001b[39m \u001b[43mops\u001b[49m\u001b[38;5;241;43m.\u001b[39;49m\u001b[43mcomparison_op\u001b[49m\u001b[43m(\u001b[49m\u001b[43mlvalues\u001b[49m\u001b[43m,\u001b[49m\u001b[43m \u001b[49m\u001b[43mrvalues\u001b[49m\u001b[43m,\u001b[49m\u001b[43m \u001b[49m\u001b[43mop\u001b[49m\u001b[43m)\u001b[49m\n\u001b[1;32m   5625\u001b[0m \u001b[38;5;28;01mreturn\u001b[39;00m \u001b[38;5;28mself\u001b[39m\u001b[38;5;241m.\u001b[39m_construct_result(res_values, name\u001b[38;5;241m=\u001b[39mres_name)\n",
      "File \u001b[0;32m~/opt/anaconda3/lib/python3.9/site-packages/pandas/core/ops/array_ops.py:260\u001b[0m, in \u001b[0;36mcomparison_op\u001b[0;34m(left, right, op)\u001b[0m\n\u001b[1;32m    255\u001b[0m \u001b[38;5;28;01mif\u001b[39;00m \u001b[38;5;28misinstance\u001b[39m(rvalues, (np\u001b[38;5;241m.\u001b[39mndarray, ABCExtensionArray)):\n\u001b[1;32m    256\u001b[0m     \u001b[38;5;66;03m# TODO: make this treatment consistent across ops and classes.\u001b[39;00m\n\u001b[1;32m    257\u001b[0m     \u001b[38;5;66;03m#  We are not catching all listlikes here (e.g. frozenset, tuple)\u001b[39;00m\n\u001b[1;32m    258\u001b[0m     \u001b[38;5;66;03m#  The ambiguous case is object-dtype.  See GH#27803\u001b[39;00m\n\u001b[1;32m    259\u001b[0m     \u001b[38;5;28;01mif\u001b[39;00m \u001b[38;5;28mlen\u001b[39m(lvalues) \u001b[38;5;241m!=\u001b[39m \u001b[38;5;28mlen\u001b[39m(rvalues):\n\u001b[0;32m--> 260\u001b[0m         \u001b[38;5;28;01mraise\u001b[39;00m \u001b[38;5;167;01mValueError\u001b[39;00m(\n\u001b[1;32m    261\u001b[0m             \u001b[38;5;124m\"\u001b[39m\u001b[38;5;124mLengths must match to compare\u001b[39m\u001b[38;5;124m\"\u001b[39m, lvalues\u001b[38;5;241m.\u001b[39mshape, rvalues\u001b[38;5;241m.\u001b[39mshape\n\u001b[1;32m    262\u001b[0m         )\n\u001b[1;32m    264\u001b[0m \u001b[38;5;28;01mif\u001b[39;00m should_extension_dispatch(lvalues, rvalues) \u001b[38;5;129;01mor\u001b[39;00m (\n\u001b[1;32m    265\u001b[0m     (\u001b[38;5;28misinstance\u001b[39m(rvalues, (Timedelta, BaseOffset, Timestamp)) \u001b[38;5;129;01mor\u001b[39;00m right \u001b[38;5;129;01mis\u001b[39;00m NaT)\n\u001b[1;32m    266\u001b[0m     \u001b[38;5;129;01mand\u001b[39;00m \u001b[38;5;129;01mnot\u001b[39;00m is_object_dtype(lvalues\u001b[38;5;241m.\u001b[39mdtype)\n\u001b[1;32m    267\u001b[0m ):\n\u001b[1;32m    268\u001b[0m     \u001b[38;5;66;03m# Call the method on lvalues\u001b[39;00m\n\u001b[1;32m    269\u001b[0m     res_values \u001b[38;5;241m=\u001b[39m op(lvalues, rvalues)\n",
      "\u001b[0;31mValueError\u001b[0m: ('Lengths must match to compare', (2007,), (502,))"
     ]
    }
   ],
   "source": [
    "print('Correct Training Classification Rate is:',round(sum(y_pred==y_train)/len(y_train),3) *100 ,'%')\n",
    "print('MSE Training for LR:', sum((y_pred-y_train)**2)/len(y_train))"
   ]
  },
  {
   "cell_type": "code",
   "execution_count": 12,
   "id": "fba4ca81",
   "metadata": {},
   "outputs": [],
   "source": [
    "for i in range(len(y_pred)):\n",
    "    if y_pred[i] < 0.5:\n",
    "        y_pred[i] = 0\n",
    "    elif y_pred[i] < 1.5:\n",
    "        y_pred[i] = 1\n",
    "    elif y_pred[i] < 2.5:\n",
    "        y_pred[i] = 2\n",
    "    elif y_pred[i] < 3.5:\n",
    "        y_pred[i] = 3\n",
    "    else:\n",
    "        y_pred[i] = 4"
   ]
  },
  {
   "cell_type": "code",
   "execution_count": 13,
   "id": "59514f09",
   "metadata": {},
   "outputs": [
    {
     "name": "stdout",
     "output_type": "stream",
     "text": [
      "Correct Training Classification Rate is: 76.0 %\n",
      "MSE Training for LR: 0.27404085700049824\n"
     ]
    }
   ],
   "source": [
    "print('Correct Training Classification Rate is:',round(sum(y_pred==y_train)/len(y_train),3) *100 ,'%')\n",
    "print('MSE Training for LR:', sum((y_pred-y_train)**2)/len(y_train))"
   ]
  },
  {
   "cell_type": "code",
   "execution_count": 313,
   "id": "b68eddca",
   "metadata": {},
   "outputs": [
    {
     "name": "stdout",
     "output_type": "stream",
     "text": [
      "Correct Test Classification Rate is: 74.1 %\n",
      "MSE Test for LR: 0.28884462151394424\n"
     ]
    }
   ],
   "source": [
    "y_pred = reg.predict(X_test)\n",
    "for i in range(len(y_pred)):\n",
    "    if y_pred[i] < 0.5:\n",
    "        y_pred[i] = 0\n",
    "    elif y_pred[i] < 1.5:\n",
    "        y_pred[i] = 1\n",
    "    elif y_pred[i] < 2.5:\n",
    "        y_pred[i] = 2\n",
    "    elif y_pred[i] < 3.5:\n",
    "        y_pred[i] = 3\n",
    "    else:\n",
    "        y_pred[i] = 4\n",
    "print('Correct Test Classification Rate is:',round(sum(y_pred==y_test)/len(y_test) *100,2)  ,'%')\n",
    "print('MSE Test for LR:', sum((y_pred-y_test)**2)/len(y_test))"
   ]
  },
  {
   "cell_type": "code",
   "execution_count": 217,
   "id": "3def9dc1",
   "metadata": {},
   "outputs": [],
   "source": [
    "import random"
   ]
  },
  {
   "cell_type": "code",
   "execution_count": 269,
   "id": "2239d425",
   "metadata": {},
   "outputs": [
    {
     "name": "stdout",
     "output_type": "stream",
     "text": [
      "Correct Test Classification Rate is: 79.60000000000001 %\n",
      "Correct Test Classification Rate is: 73.2 %\n",
      "Correct Test Classification Rate is: 78.4 %\n",
      "Correct Test Classification Rate is: 77.2 %\n",
      "Correct Test Classification Rate is: 74.8 %\n",
      "Correct Test Classification Rate is: 76.0 %\n",
      "Correct Test Classification Rate is: 76.0 %\n",
      "Correct Test Classification Rate is: 75.6 %\n",
      "Correct Test Classification Rate is: 72.39999999999999 %\n",
      "Correct Test Classification Rate is: 76.4 %\n"
     ]
    }
   ],
   "source": []
  },
  {
   "cell_type": "code",
   "execution_count": 212,
   "id": "a7f42a94",
   "metadata": {},
   "outputs": [
    {
     "data": {
      "text/html": [
       "<div>\n",
       "<style scoped>\n",
       "    .dataframe tbody tr th:only-of-type {\n",
       "        vertical-align: middle;\n",
       "    }\n",
       "\n",
       "    .dataframe tbody tr th {\n",
       "        vertical-align: top;\n",
       "    }\n",
       "\n",
       "    .dataframe thead th {\n",
       "        text-align: right;\n",
       "    }\n",
       "</style>\n",
       "<table border=\"1\" class=\"dataframe\">\n",
       "  <thead>\n",
       "    <tr style=\"text-align: right;\">\n",
       "      <th></th>\n",
       "      <th>Age.at.Diagnosis</th>\n",
       "      <th>Cancer.Type</th>\n",
       "      <th>Cancer.Type.Detailed</th>\n",
       "      <th>Cellularity..high...3..moderate...2..low...1.</th>\n",
       "      <th>Chemotherapy</th>\n",
       "      <th>Pam50...Claudin.low.subtype</th>\n",
       "      <th>Cohort</th>\n",
       "      <th>ER.status.measured.by.IHC</th>\n",
       "      <th>ER.Status</th>\n",
       "      <th>Neoplasm.Histologic.Grade</th>\n",
       "      <th>...</th>\n",
       "      <th>HER2.Status</th>\n",
       "      <th>Tumor.Other.Histologic.Subtype</th>\n",
       "      <th>Inferred.Menopausal.State</th>\n",
       "      <th>Primary.Tumor.Laterality</th>\n",
       "      <th>Lymph.nodes.examined.positive</th>\n",
       "      <th>Mutation.Count</th>\n",
       "      <th>Nottingham.prognostic.index</th>\n",
       "      <th>Oncotree.Code</th>\n",
       "      <th>PR.Status</th>\n",
       "      <th>Tumor.Size</th>\n",
       "    </tr>\n",
       "  </thead>\n",
       "  <tbody>\n",
       "    <tr>\n",
       "      <th>0</th>\n",
       "      <td>75.65</td>\n",
       "      <td>0</td>\n",
       "      <td>2</td>\n",
       "      <td>2</td>\n",
       "      <td>0</td>\n",
       "      <td>6</td>\n",
       "      <td>1</td>\n",
       "      <td>1</td>\n",
       "      <td>1</td>\n",
       "      <td>3</td>\n",
       "      <td>...</td>\n",
       "      <td>0</td>\n",
       "      <td>0</td>\n",
       "      <td>0</td>\n",
       "      <td>1</td>\n",
       "      <td>10</td>\n",
       "      <td>6</td>\n",
       "      <td>6.044</td>\n",
       "      <td>2</td>\n",
       "      <td>0</td>\n",
       "      <td>22.0</td>\n",
       "    </tr>\n",
       "    <tr>\n",
       "      <th>1</th>\n",
       "      <td>43.19</td>\n",
       "      <td>0</td>\n",
       "      <td>2</td>\n",
       "      <td>0</td>\n",
       "      <td>0</td>\n",
       "      <td>2</td>\n",
       "      <td>1</td>\n",
       "      <td>1</td>\n",
       "      <td>1</td>\n",
       "      <td>3</td>\n",
       "      <td>...</td>\n",
       "      <td>0</td>\n",
       "      <td>0</td>\n",
       "      <td>1</td>\n",
       "      <td>1</td>\n",
       "      <td>0</td>\n",
       "      <td>2</td>\n",
       "      <td>4.020</td>\n",
       "      <td>2</td>\n",
       "      <td>1</td>\n",
       "      <td>10.0</td>\n",
       "    </tr>\n",
       "    <tr>\n",
       "      <th>2</th>\n",
       "      <td>48.87</td>\n",
       "      <td>0</td>\n",
       "      <td>2</td>\n",
       "      <td>0</td>\n",
       "      <td>1</td>\n",
       "      <td>3</td>\n",
       "      <td>1</td>\n",
       "      <td>1</td>\n",
       "      <td>1</td>\n",
       "      <td>2</td>\n",
       "      <td>...</td>\n",
       "      <td>0</td>\n",
       "      <td>0</td>\n",
       "      <td>1</td>\n",
       "      <td>1</td>\n",
       "      <td>1</td>\n",
       "      <td>2</td>\n",
       "      <td>4.030</td>\n",
       "      <td>2</td>\n",
       "      <td>1</td>\n",
       "      <td>15.0</td>\n",
       "    </tr>\n",
       "    <tr>\n",
       "      <th>3</th>\n",
       "      <td>47.68</td>\n",
       "      <td>0</td>\n",
       "      <td>5</td>\n",
       "      <td>2</td>\n",
       "      <td>1</td>\n",
       "      <td>3</td>\n",
       "      <td>1</td>\n",
       "      <td>1</td>\n",
       "      <td>1</td>\n",
       "      <td>2</td>\n",
       "      <td>...</td>\n",
       "      <td>0</td>\n",
       "      <td>4</td>\n",
       "      <td>1</td>\n",
       "      <td>1</td>\n",
       "      <td>3</td>\n",
       "      <td>1</td>\n",
       "      <td>4.050</td>\n",
       "      <td>6</td>\n",
       "      <td>1</td>\n",
       "      <td>25.0</td>\n",
       "    </tr>\n",
       "    <tr>\n",
       "      <th>4</th>\n",
       "      <td>76.97</td>\n",
       "      <td>0</td>\n",
       "      <td>5</td>\n",
       "      <td>0</td>\n",
       "      <td>1</td>\n",
       "      <td>3</td>\n",
       "      <td>1</td>\n",
       "      <td>1</td>\n",
       "      <td>1</td>\n",
       "      <td>3</td>\n",
       "      <td>...</td>\n",
       "      <td>0</td>\n",
       "      <td>4</td>\n",
       "      <td>0</td>\n",
       "      <td>1</td>\n",
       "      <td>8</td>\n",
       "      <td>2</td>\n",
       "      <td>6.080</td>\n",
       "      <td>6</td>\n",
       "      <td>1</td>\n",
       "      <td>40.0</td>\n",
       "    </tr>\n",
       "  </tbody>\n",
       "</table>\n",
       "<p>5 rows × 21 columns</p>\n",
       "</div>"
      ],
      "text/plain": [
       "   Age.at.Diagnosis  Cancer.Type  Cancer.Type.Detailed  \\\n",
       "0             75.65            0                     2   \n",
       "1             43.19            0                     2   \n",
       "2             48.87            0                     2   \n",
       "3             47.68            0                     5   \n",
       "4             76.97            0                     5   \n",
       "\n",
       "   Cellularity..high...3..moderate...2..low...1.  Chemotherapy  \\\n",
       "0                                              2             0   \n",
       "1                                              0             0   \n",
       "2                                              0             1   \n",
       "3                                              2             1   \n",
       "4                                              0             1   \n",
       "\n",
       "   Pam50...Claudin.low.subtype  Cohort  ER.status.measured.by.IHC  ER.Status  \\\n",
       "0                            6       1                          1          1   \n",
       "1                            2       1                          1          1   \n",
       "2                            3       1                          1          1   \n",
       "3                            3       1                          1          1   \n",
       "4                            3       1                          1          1   \n",
       "\n",
       "   Neoplasm.Histologic.Grade  ...  HER2.Status  \\\n",
       "0                          3  ...            0   \n",
       "1                          3  ...            0   \n",
       "2                          2  ...            0   \n",
       "3                          2  ...            0   \n",
       "4                          3  ...            0   \n",
       "\n",
       "   Tumor.Other.Histologic.Subtype  Inferred.Menopausal.State  \\\n",
       "0                               0                          0   \n",
       "1                               0                          1   \n",
       "2                               0                          1   \n",
       "3                               4                          1   \n",
       "4                               4                          0   \n",
       "\n",
       "   Primary.Tumor.Laterality  Lymph.nodes.examined.positive  Mutation.Count  \\\n",
       "0                         1                             10               6   \n",
       "1                         1                              0               2   \n",
       "2                         1                              1               2   \n",
       "3                         1                              3               1   \n",
       "4                         1                              8               2   \n",
       "\n",
       "   Nottingham.prognostic.index  Oncotree.Code  PR.Status  Tumor.Size  \n",
       "0                        6.044              2          0        22.0  \n",
       "1                        4.020              2          1        10.0  \n",
       "2                        4.030              2          1        15.0  \n",
       "3                        4.050              6          1        25.0  \n",
       "4                        6.080              6          1        40.0  \n",
       "\n",
       "[5 rows x 21 columns]"
      ]
     },
     "execution_count": 212,
     "metadata": {},
     "output_type": "execute_result"
    }
   ],
   "source": [
    "X[:5]"
   ]
  },
  {
   "cell_type": "markdown",
   "id": "333280ce",
   "metadata": {},
   "source": [
    "## Lasso "
   ]
  },
  {
   "cell_type": "code",
   "execution_count": 314,
   "id": "f3799d20",
   "metadata": {},
   "outputs": [],
   "source": [
    "reg_lasso = linear_model.Lasso(alpha=0.1)\n",
    "reg_lasso.fit(X_train, y_train)\n",
    "y_pred = reg_lasso.predict(X_test)"
   ]
  },
  {
   "cell_type": "code",
   "execution_count": 315,
   "id": "040eb439",
   "metadata": {},
   "outputs": [],
   "source": [
    "for i in range(len(y_pred)):\n",
    "    if y_pred[i] < 0.5:\n",
    "        y_pred[i] = 0\n",
    "    elif y_pred[i] < 1.5:\n",
    "        y_pred[i] = 1\n",
    "    elif y_pred[i] < 2.5:\n",
    "        y_pred[i] = 2\n",
    "    elif y_pred[i] < 3.5:\n",
    "        y_pred[i] = 3\n",
    "    else:\n",
    "        y_pred[i] = 4"
   ]
  },
  {
   "cell_type": "code",
   "execution_count": 316,
   "id": "df426efd",
   "metadata": {},
   "outputs": [
    {
     "name": "stdout",
     "output_type": "stream",
     "text": [
      "Classification Rate for Lasso is: 71.3 %\n"
     ]
    }
   ],
   "source": [
    "print('Classification Rate for Lasso is:',round(sum(y_test==y_pred)/len(y_pred),3) *100 ,'%')"
   ]
  },
  {
   "cell_type": "markdown",
   "id": "eeba9b63",
   "metadata": {},
   "source": [
    "## Ridge"
   ]
  },
  {
   "cell_type": "code",
   "execution_count": 317,
   "id": "65cbfe61",
   "metadata": {},
   "outputs": [],
   "source": [
    "#from sklearn import linear_model\n",
    "reg_ridge = linear_model.Ridge(alpha=.5)\n",
    "reg_ridge.fit(X_train, y_train)\n",
    "y_pred = reg_ridge.predict(X_test)"
   ]
  },
  {
   "cell_type": "code",
   "execution_count": 318,
   "id": "d62bdee9",
   "metadata": {},
   "outputs": [],
   "source": [
    "for i in range(len(y_pred)):\n",
    "    if y_pred[i] < 1:\n",
    "        y_pred[i] = 0\n",
    "    elif y_pred[i] < 1.5:\n",
    "        y_pred[i] = 1\n",
    "    elif y_pred[i] < 2.5:\n",
    "        y_pred[i] = 2\n",
    "    elif y_pred[i] < 3.3:\n",
    "        y_pred[i] = 3\n",
    "    else:\n",
    "        y_pred[i] = 4"
   ]
  },
  {
   "cell_type": "code",
   "execution_count": 319,
   "id": "11a86c23",
   "metadata": {},
   "outputs": [
    {
     "name": "stdout",
     "output_type": "stream",
     "text": [
      "Classification Rate for Ridge is: 73.1 %\n"
     ]
    }
   ],
   "source": [
    "print('Classification Rate for Ridge is:',round(sum(y_test==y_pred)/len(y_pred),3) *100 ,'%')"
   ]
  },
  {
   "cell_type": "code",
   "execution_count": null,
   "id": "774cd63b",
   "metadata": {},
   "outputs": [],
   "source": []
  },
  {
   "cell_type": "code",
   "execution_count": null,
   "id": "eedea240",
   "metadata": {},
   "outputs": [],
   "source": []
  },
  {
   "cell_type": "code",
   "execution_count": 320,
   "id": "c9ca6952",
   "metadata": {},
   "outputs": [],
   "source": [
    "from sklearn.linear_model import LogisticRegression\n",
    "from sklearn.metrics import classification_report, confusion_matrix"
   ]
  },
  {
   "cell_type": "code",
   "execution_count": 578,
   "id": "bc2daf6a",
   "metadata": {},
   "outputs": [],
   "source": [
    "model = LogisticRegression(solver='liblinear', random_state=0)"
   ]
  },
  {
   "cell_type": "code",
   "execution_count": 580,
   "id": "ebddf635",
   "metadata": {},
   "outputs": [],
   "source": [
    "model.fit(X_train, y_train)\n",
    "y_pred = model.predict(X_train)"
   ]
  },
  {
   "cell_type": "code",
   "execution_count": 585,
   "id": "1f66f4a6",
   "metadata": {},
   "outputs": [
    {
     "data": {
      "text/plain": [
       "1"
      ]
     },
     "execution_count": 585,
     "metadata": {},
     "output_type": "execute_result"
    }
   ],
   "source": [
    "sum(y_pred==3)"
   ]
  },
  {
   "cell_type": "code",
   "execution_count": 581,
   "id": "788dc775",
   "metadata": {},
   "outputs": [
    {
     "name": "stdout",
     "output_type": "stream",
     "text": [
      "Classification Rate for Logistic Regresiom is: 77.10000000000001 %\n"
     ]
    }
   ],
   "source": [
    "print('Classification Rate for Logistic Regresiom is:',round(sum(y_train==y_pred)/len(y_train),3) *100 ,'%')"
   ]
  },
  {
   "cell_type": "code",
   "execution_count": 14,
   "id": "1be78032",
   "metadata": {},
   "outputs": [],
   "source": [
    "from sklearn.neural_network import MLPClassifier\n",
    "#from sklearn.datasets import make_classification"
   ]
  },
  {
   "cell_type": "markdown",
   "id": "3a8380c3",
   "metadata": {},
   "source": [
    "The default solver ‘adam’ works pretty well on relatively large datasets (with thousands of training samples or more) in terms of both training time and validation score. For small datasets, however, ‘lbfgs’ can converge faster and perform better."
   ]
  },
  {
   "cell_type": "code",
   "execution_count": 545,
   "id": "e169040f",
   "metadata": {},
   "outputs": [
    {
     "data": {
      "text/plain": [
       "(2509, 16)"
      ]
     },
     "execution_count": 545,
     "metadata": {},
     "output_type": "execute_result"
    }
   ],
   "source": [
    "update_data.shape"
   ]
  },
  {
   "cell_type": "code",
   "execution_count": 24,
   "id": "accfe06d",
   "metadata": {},
   "outputs": [
    {
     "name": "stderr",
     "output_type": "stream",
     "text": [
      "/Users/yun/opt/anaconda3/lib/python3.9/site-packages/sklearn/neural_network/_multilayer_perceptron.py:692: ConvergenceWarning: Stochastic Optimizer: Maximum iterations (500) reached and the optimization hasn't converged yet.\n",
      "  warnings.warn(\n",
      "/Users/yun/opt/anaconda3/lib/python3.9/site-packages/sklearn/neural_network/_multilayer_perceptron.py:692: ConvergenceWarning: Stochastic Optimizer: Maximum iterations (500) reached and the optimization hasn't converged yet.\n",
      "  warnings.warn(\n",
      "/Users/yun/opt/anaconda3/lib/python3.9/site-packages/sklearn/neural_network/_multilayer_perceptron.py:692: ConvergenceWarning: Stochastic Optimizer: Maximum iterations (500) reached and the optimization hasn't converged yet.\n",
      "  warnings.warn(\n",
      "/Users/yun/opt/anaconda3/lib/python3.9/site-packages/sklearn/neural_network/_multilayer_perceptron.py:692: ConvergenceWarning: Stochastic Optimizer: Maximum iterations (500) reached and the optimization hasn't converged yet.\n",
      "  warnings.warn(\n",
      "/Users/yun/opt/anaconda3/lib/python3.9/site-packages/sklearn/neural_network/_multilayer_perceptron.py:692: ConvergenceWarning: Stochastic Optimizer: Maximum iterations (500) reached and the optimization hasn't converged yet.\n",
      "  warnings.warn(\n",
      "/Users/yun/opt/anaconda3/lib/python3.9/site-packages/sklearn/neural_network/_multilayer_perceptron.py:692: ConvergenceWarning: Stochastic Optimizer: Maximum iterations (500) reached and the optimization hasn't converged yet.\n",
      "  warnings.warn(\n",
      "/Users/yun/opt/anaconda3/lib/python3.9/site-packages/sklearn/neural_network/_multilayer_perceptron.py:692: ConvergenceWarning: Stochastic Optimizer: Maximum iterations (500) reached and the optimization hasn't converged yet.\n",
      "  warnings.warn(\n",
      "/Users/yun/opt/anaconda3/lib/python3.9/site-packages/sklearn/neural_network/_multilayer_perceptron.py:692: ConvergenceWarning: Stochastic Optimizer: Maximum iterations (500) reached and the optimization hasn't converged yet.\n",
      "  warnings.warn(\n",
      "/Users/yun/opt/anaconda3/lib/python3.9/site-packages/sklearn/neural_network/_multilayer_perceptron.py:692: ConvergenceWarning: Stochastic Optimizer: Maximum iterations (500) reached and the optimization hasn't converged yet.\n",
      "  warnings.warn(\n"
     ]
    },
    {
     "name": "stdout",
     "output_type": "stream",
     "text": [
      "0.7712111553784861\n",
      "Classification Rate for NN is: 79.4820717131474 %\n",
      "MSE: 0.2410358565737052\n"
     ]
    },
    {
     "name": "stderr",
     "output_type": "stream",
     "text": [
      "/Users/yun/opt/anaconda3/lib/python3.9/site-packages/sklearn/neural_network/_multilayer_perceptron.py:692: ConvergenceWarning: Stochastic Optimizer: Maximum iterations (500) reached and the optimization hasn't converged yet.\n",
      "  warnings.warn(\n"
     ]
    }
   ],
   "source": [
    "clf = MLPClassifier(random_state=42, max_iter=500,solver='adam',hidden_layer_sizes=(4,)).fit(X_train, y_train)\n",
    "\n",
    "\n",
    "print(np.mean(cross_val_score(clf, update_data, Y, cv=10)))\n",
    "y_pred = clf.predict(X_test)\n",
    "print('Classification Rate for NN is:',sum(y_test==y_pred)/len(y_pred) *100 ,'%')\n",
    "print('MSE:',mean_squared_error(y_test,y_pred))"
   ]
  },
  {
   "cell_type": "code",
   "execution_count": null,
   "id": "328ff889",
   "metadata": {},
   "outputs": [],
   "source": [
    "clf.get_params()"
   ]
  },
  {
   "cell_type": "code",
   "execution_count": 75,
   "id": "fd88f62f",
   "metadata": {},
   "outputs": [],
   "source": [
    "clf = MLPClassifier(random_state=42, max_iter=700,solver='adam',hidden_layer_sizes=(100,100,)).fit(X_train, y_train)"
   ]
  },
  {
   "cell_type": "code",
   "execution_count": 73,
   "id": "43d4780a",
   "metadata": {},
   "outputs": [],
   "source": [
    "y_pred = clf.predict(X_test)"
   ]
  },
  {
   "cell_type": "code",
   "execution_count": 17,
   "id": "a5895c59",
   "metadata": {},
   "outputs": [],
   "source": [
    "def mean_squared_error(y_p,y_t):\n",
    "    return sum((y_p-y_t)**2)/len(y_t)"
   ]
  },
  {
   "cell_type": "code",
   "execution_count": 76,
   "id": "58b2908c",
   "metadata": {},
   "outputs": [
    {
     "name": "stdout",
     "output_type": "stream",
     "text": [
      "Classification Rate for NN is: 76.69322709163346 %\n",
      "MSE: 0.23904382470119523\n"
     ]
    }
   ],
   "source": [
    "#clf = MLPClassifier(random_state=42).fit(X_train, y_train)\n",
    "y_pred = clf.predict(X_test)\n",
    "print('Classification Rate for NN is:',sum(y_test==y_pred)/len(y_pred) *100 ,'%')\n",
    "print('MSE:',mean_squared_error(y_test,y_pred))"
   ]
  },
  {
   "cell_type": "code",
   "execution_count": null,
   "id": "82cdc09d",
   "metadata": {},
   "outputs": [],
   "source": [
    "mse = []\n",
    "cv = []\n",
    "lo = 1\n",
    "for i in range(3,30):"
   ]
  },
  {
   "cell_type": "code",
   "execution_count": null,
   "id": "e82d58cb",
   "metadata": {},
   "outputs": [],
   "source": [
    "for i in range(4,20,2):\n",
    "    print(i)"
   ]
  },
  {
   "cell_type": "code",
   "execution_count": null,
   "id": "45c20f2f",
   "metadata": {},
   "outputs": [],
   "source": [
    "if lo > np.mean(cross_val_score(clf, update_data, Y, cv=10)):\n",
    "        lo = np.mean(cross_val_score(clf, update_data, Y, cv=10))\n",
    "        lo_x = i\n",
    "        clf = MLPClassifier(random_state=42, max_iter=1000,solver='adam',hidden_layer_sizes=(i,int(i**0.5),)).fit(X_train, y_train)\n",
    "    y_pred = clf.predict(X_test)\n",
    "    cv.append(np.mean(cross_val_score(clf, X_train, y_train, cv=10)))"
   ]
  },
  {
   "cell_type": "code",
   "execution_count": 23,
   "id": "8399a136",
   "metadata": {},
   "outputs": [],
   "source": [
    "import numpy as np\n",
    "from sklearn.model_selection import cross_val_score"
   ]
  },
  {
   "cell_type": "code",
   "execution_count": 70,
   "id": "dff7e463",
   "metadata": {},
   "outputs": [
    {
     "name": "stdout",
     "output_type": "stream",
     "text": [
      "Classification Rate for NN is: 77.29083665338645 %\n",
      "MSE: 0.26294820717131473\n",
      "Classification Rate for NN is: 74.7011952191235 %\n",
      "MSE: 0.2948207171314741\n",
      "Classification Rate for NN is: 75.4980079681275 %\n",
      "MSE: 0.29282868525896416\n",
      "Classification Rate for NN is: 78.68525896414343 %\n",
      "MSE: 0.23107569721115537\n",
      "Classification Rate for NN is: 74.30278884462152 %\n",
      "MSE: 0.29282868525896416\n",
      "Classification Rate for NN is: 77.29083665338645 %\n",
      "MSE: 0.26294820717131473\n",
      "Classification Rate for NN is: 78.48605577689243 %\n",
      "MSE: 0.250996015936255\n",
      "Classification Rate for NN is: 79.08366533864542 %\n",
      "MSE: 0.23306772908366533\n"
     ]
    }
   ],
   "source": [
    "cv = []\n",
    "mse = []\n",
    "lo = 1\n",
    "for i in range(8,16,1):\n",
    "    clf = MLPClassifier(random_state=42, max_iter=1000,solver='adam',hidden_layer_sizes=(i,)).fit(X_train, y_train)\n",
    "    y_pred = clf.predict(X_test)\n",
    "    mse.append(mean_squared_error(y_test,y_pred))\n",
    "    #np.mean(cross_val_score(clf, X_train, y_train, cv=10))\n",
    "    print('Classification Rate for NN is:',sum(y_test==y_pred)/len(y_pred) *100 ,'%')\n",
    "    cv.append(np.mean(cross_val_score(clf, X_train, y_train, cv=10)))\n",
    "    print('MSE:',mean_squared_error(y_test,y_pred))"
   ]
  },
  {
   "cell_type": "code",
   "execution_count": 48,
   "id": "fd9430a2",
   "metadata": {},
   "outputs": [
    {
     "name": "stdout",
     "output_type": "stream",
     "text": [
      "Best CV scroe for NN at 78.88 %\n"
     ]
    },
    {
     "data": {
      "image/png": "[encoded data removed]",
      "text/plain": [
       "<Figure size 432x288 with 1 Axes>"
      ]
     },
     "metadata": {
      "needs_background": "light"
     },
     "output_type": "display_data"
    }
   ],
   "source": [
    "plt.scatter(range(10,15,1),cv)\n",
    "plt.scatter(11,max(cv),color='red')\n",
    "plt.title('NN CV')\n",
    "print('Best CV scroe for NN at',round(max(cv),2),'%')"
   ]
  },
  {
   "cell_type": "code",
   "execution_count": 68,
   "id": "2042430c",
   "metadata": {},
   "outputs": [
    {
     "ename": "ValueError",
     "evalue": "x and y must be the same size",
     "output_type": "error",
     "traceback": [
      "\u001b[0;31m---------------------------------------------------------------------------\u001b[0m",
      "\u001b[0;31mValueError\u001b[0m                                Traceback (most recent call last)",
      "Input \u001b[0;32mIn [68]\u001b[0m, in \u001b[0;36m<cell line: 2>\u001b[0;34m()\u001b[0m\n\u001b[1;32m      1\u001b[0m \u001b[38;5;28;01mimport\u001b[39;00m \u001b[38;5;21;01mmatplotlib\u001b[39;00m\u001b[38;5;21;01m.\u001b[39;00m\u001b[38;5;21;01mpyplot\u001b[39;00m \u001b[38;5;28;01mas\u001b[39;00m \u001b[38;5;21;01mplt\u001b[39;00m\n\u001b[0;32m----> 2\u001b[0m \u001b[43mplt\u001b[49m\u001b[38;5;241;43m.\u001b[39;49m\u001b[43mscatter\u001b[49m\u001b[43m(\u001b[49m\u001b[38;5;28;43mrange\u001b[39;49m\u001b[43m(\u001b[49m\u001b[38;5;241;43m10\u001b[39;49m\u001b[43m,\u001b[49m\u001b[38;5;241;43m15\u001b[39;49m\u001b[43m,\u001b[49m\u001b[38;5;241;43m1\u001b[39;49m\u001b[43m)\u001b[49m\u001b[43m,\u001b[49m\u001b[43mmse\u001b[49m\u001b[43m)\u001b[49m\n\u001b[1;32m      3\u001b[0m plt\u001b[38;5;241m.\u001b[39mscatter(\u001b[38;5;241m10\u001b[39m,\u001b[38;5;28mmin\u001b[39m(mse),color\u001b[38;5;241m=\u001b[39m\u001b[38;5;124m'\u001b[39m\u001b[38;5;124mred\u001b[39m\u001b[38;5;124m'\u001b[39m)\n\u001b[1;32m      4\u001b[0m plt\u001b[38;5;241m.\u001b[39mtitle(\u001b[38;5;124m'\u001b[39m\u001b[38;5;124mNN MSE\u001b[39m\u001b[38;5;124m'\u001b[39m)\n",
      "File \u001b[0;32m~/opt/anaconda3/lib/python3.9/site-packages/matplotlib/pyplot.py:2807\u001b[0m, in \u001b[0;36mscatter\u001b[0;34m(x, y, s, c, marker, cmap, norm, vmin, vmax, alpha, linewidths, edgecolors, plotnonfinite, data, **kwargs)\u001b[0m\n\u001b[1;32m   2802\u001b[0m \u001b[38;5;129m@_copy_docstring_and_deprecators\u001b[39m(Axes\u001b[38;5;241m.\u001b[39mscatter)\n\u001b[1;32m   2803\u001b[0m \u001b[38;5;28;01mdef\u001b[39;00m \u001b[38;5;21mscatter\u001b[39m(\n\u001b[1;32m   2804\u001b[0m         x, y, s\u001b[38;5;241m=\u001b[39m\u001b[38;5;28;01mNone\u001b[39;00m, c\u001b[38;5;241m=\u001b[39m\u001b[38;5;28;01mNone\u001b[39;00m, marker\u001b[38;5;241m=\u001b[39m\u001b[38;5;28;01mNone\u001b[39;00m, cmap\u001b[38;5;241m=\u001b[39m\u001b[38;5;28;01mNone\u001b[39;00m, norm\u001b[38;5;241m=\u001b[39m\u001b[38;5;28;01mNone\u001b[39;00m,\n\u001b[1;32m   2805\u001b[0m         vmin\u001b[38;5;241m=\u001b[39m\u001b[38;5;28;01mNone\u001b[39;00m, vmax\u001b[38;5;241m=\u001b[39m\u001b[38;5;28;01mNone\u001b[39;00m, alpha\u001b[38;5;241m=\u001b[39m\u001b[38;5;28;01mNone\u001b[39;00m, linewidths\u001b[38;5;241m=\u001b[39m\u001b[38;5;28;01mNone\u001b[39;00m, \u001b[38;5;241m*\u001b[39m,\n\u001b[1;32m   2806\u001b[0m         edgecolors\u001b[38;5;241m=\u001b[39m\u001b[38;5;28;01mNone\u001b[39;00m, plotnonfinite\u001b[38;5;241m=\u001b[39m\u001b[38;5;28;01mFalse\u001b[39;00m, data\u001b[38;5;241m=\u001b[39m\u001b[38;5;28;01mNone\u001b[39;00m, \u001b[38;5;241m*\u001b[39m\u001b[38;5;241m*\u001b[39mkwargs):\n\u001b[0;32m-> 2807\u001b[0m     __ret \u001b[38;5;241m=\u001b[39m \u001b[43mgca\u001b[49m\u001b[43m(\u001b[49m\u001b[43m)\u001b[49m\u001b[38;5;241;43m.\u001b[39;49m\u001b[43mscatter\u001b[49m\u001b[43m(\u001b[49m\n\u001b[1;32m   2808\u001b[0m \u001b[43m        \u001b[49m\u001b[43mx\u001b[49m\u001b[43m,\u001b[49m\u001b[43m \u001b[49m\u001b[43my\u001b[49m\u001b[43m,\u001b[49m\u001b[43m \u001b[49m\u001b[43ms\u001b[49m\u001b[38;5;241;43m=\u001b[39;49m\u001b[43ms\u001b[49m\u001b[43m,\u001b[49m\u001b[43m \u001b[49m\u001b[43mc\u001b[49m\u001b[38;5;241;43m=\u001b[39;49m\u001b[43mc\u001b[49m\u001b[43m,\u001b[49m\u001b[43m \u001b[49m\u001b[43mmarker\u001b[49m\u001b[38;5;241;43m=\u001b[39;49m\u001b[43mmarker\u001b[49m\u001b[43m,\u001b[49m\u001b[43m \u001b[49m\u001b[43mcmap\u001b[49m\u001b[38;5;241;43m=\u001b[39;49m\u001b[43mcmap\u001b[49m\u001b[43m,\u001b[49m\u001b[43m \u001b[49m\u001b[43mnorm\u001b[49m\u001b[38;5;241;43m=\u001b[39;49m\u001b[43mnorm\u001b[49m\u001b[43m,\u001b[49m\n\u001b[1;32m   2809\u001b[0m \u001b[43m        \u001b[49m\u001b[43mvmin\u001b[49m\u001b[38;5;241;43m=\u001b[39;49m\u001b[43mvmin\u001b[49m\u001b[43m,\u001b[49m\u001b[43m \u001b[49m\u001b[43mvmax\u001b[49m\u001b[38;5;241;43m=\u001b[39;49m\u001b[43mvmax\u001b[49m\u001b[43m,\u001b[49m\u001b[43m \u001b[49m\u001b[43malpha\u001b[49m\u001b[38;5;241;43m=\u001b[39;49m\u001b[43malpha\u001b[49m\u001b[43m,\u001b[49m\u001b[43m \u001b[49m\u001b[43mlinewidths\u001b[49m\u001b[38;5;241;43m=\u001b[39;49m\u001b[43mlinewidths\u001b[49m\u001b[43m,\u001b[49m\n\u001b[1;32m   2810\u001b[0m \u001b[43m        \u001b[49m\u001b[43medgecolors\u001b[49m\u001b[38;5;241;43m=\u001b[39;49m\u001b[43medgecolors\u001b[49m\u001b[43m,\u001b[49m\u001b[43m \u001b[49m\u001b[43mplotnonfinite\u001b[49m\u001b[38;5;241;43m=\u001b[39;49m\u001b[43mplotnonfinite\u001b[49m\u001b[43m,\u001b[49m\n\u001b[1;32m   2811\u001b[0m \u001b[43m        \u001b[49m\u001b[38;5;241;43m*\u001b[39;49m\u001b[38;5;241;43m*\u001b[39;49m\u001b[43m(\u001b[49m\u001b[43m{\u001b[49m\u001b[38;5;124;43m\"\u001b[39;49m\u001b[38;5;124;43mdata\u001b[39;49m\u001b[38;5;124;43m\"\u001b[39;49m\u001b[43m:\u001b[49m\u001b[43m \u001b[49m\u001b[43mdata\u001b[49m\u001b[43m}\u001b[49m\u001b[43m \u001b[49m\u001b[38;5;28;43;01mif\u001b[39;49;00m\u001b[43m \u001b[49m\u001b[43mdata\u001b[49m\u001b[43m \u001b[49m\u001b[38;5;129;43;01mis\u001b[39;49;00m\u001b[43m \u001b[49m\u001b[38;5;129;43;01mnot\u001b[39;49;00m\u001b[43m \u001b[49m\u001b[38;5;28;43;01mNone\u001b[39;49;00m\u001b[43m \u001b[49m\u001b[38;5;28;43;01melse\u001b[39;49;00m\u001b[43m \u001b[49m\u001b[43m{\u001b[49m\u001b[43m}\u001b[49m\u001b[43m)\u001b[49m\u001b[43m,\u001b[49m\u001b[43m \u001b[49m\u001b[38;5;241;43m*\u001b[39;49m\u001b[38;5;241;43m*\u001b[39;49m\u001b[43mkwargs\u001b[49m\u001b[43m)\u001b[49m\n\u001b[1;32m   2812\u001b[0m     sci(__ret)\n\u001b[1;32m   2813\u001b[0m     \u001b[38;5;28;01mreturn\u001b[39;00m __ret\n",
      "File \u001b[0;32m~/opt/anaconda3/lib/python3.9/site-packages/matplotlib/__init__.py:1412\u001b[0m, in \u001b[0;36m_preprocess_data.<locals>.inner\u001b[0;34m(ax, data, *args, **kwargs)\u001b[0m\n\u001b[1;32m   1409\u001b[0m \u001b[38;5;129m@functools\u001b[39m\u001b[38;5;241m.\u001b[39mwraps(func)\n\u001b[1;32m   1410\u001b[0m \u001b[38;5;28;01mdef\u001b[39;00m \u001b[38;5;21minner\u001b[39m(ax, \u001b[38;5;241m*\u001b[39margs, data\u001b[38;5;241m=\u001b[39m\u001b[38;5;28;01mNone\u001b[39;00m, \u001b[38;5;241m*\u001b[39m\u001b[38;5;241m*\u001b[39mkwargs):\n\u001b[1;32m   1411\u001b[0m     \u001b[38;5;28;01mif\u001b[39;00m data \u001b[38;5;129;01mis\u001b[39;00m \u001b[38;5;28;01mNone\u001b[39;00m:\n\u001b[0;32m-> 1412\u001b[0m         \u001b[38;5;28;01mreturn\u001b[39;00m \u001b[43mfunc\u001b[49m\u001b[43m(\u001b[49m\u001b[43max\u001b[49m\u001b[43m,\u001b[49m\u001b[43m \u001b[49m\u001b[38;5;241;43m*\u001b[39;49m\u001b[38;5;28;43mmap\u001b[39;49m\u001b[43m(\u001b[49m\u001b[43msanitize_sequence\u001b[49m\u001b[43m,\u001b[49m\u001b[43m \u001b[49m\u001b[43margs\u001b[49m\u001b[43m)\u001b[49m\u001b[43m,\u001b[49m\u001b[43m \u001b[49m\u001b[38;5;241;43m*\u001b[39;49m\u001b[38;5;241;43m*\u001b[39;49m\u001b[43mkwargs\u001b[49m\u001b[43m)\u001b[49m\n\u001b[1;32m   1414\u001b[0m     bound \u001b[38;5;241m=\u001b[39m new_sig\u001b[38;5;241m.\u001b[39mbind(ax, \u001b[38;5;241m*\u001b[39margs, \u001b[38;5;241m*\u001b[39m\u001b[38;5;241m*\u001b[39mkwargs)\n\u001b[1;32m   1415\u001b[0m     auto_label \u001b[38;5;241m=\u001b[39m (bound\u001b[38;5;241m.\u001b[39marguments\u001b[38;5;241m.\u001b[39mget(label_namer)\n\u001b[1;32m   1416\u001b[0m                   \u001b[38;5;129;01mor\u001b[39;00m bound\u001b[38;5;241m.\u001b[39mkwargs\u001b[38;5;241m.\u001b[39mget(label_namer))\n",
      "File \u001b[0;32m~/opt/anaconda3/lib/python3.9/site-packages/matplotlib/axes/_axes.py:4369\u001b[0m, in \u001b[0;36mAxes.scatter\u001b[0;34m(self, x, y, s, c, marker, cmap, norm, vmin, vmax, alpha, linewidths, edgecolors, plotnonfinite, **kwargs)\u001b[0m\n\u001b[1;32m   4367\u001b[0m y \u001b[38;5;241m=\u001b[39m np\u001b[38;5;241m.\u001b[39mma\u001b[38;5;241m.\u001b[39mravel(y)\n\u001b[1;32m   4368\u001b[0m \u001b[38;5;28;01mif\u001b[39;00m x\u001b[38;5;241m.\u001b[39msize \u001b[38;5;241m!=\u001b[39m y\u001b[38;5;241m.\u001b[39msize:\n\u001b[0;32m-> 4369\u001b[0m     \u001b[38;5;28;01mraise\u001b[39;00m \u001b[38;5;167;01mValueError\u001b[39;00m(\u001b[38;5;124m\"\u001b[39m\u001b[38;5;124mx and y must be the same size\u001b[39m\u001b[38;5;124m\"\u001b[39m)\n\u001b[1;32m   4371\u001b[0m \u001b[38;5;28;01mif\u001b[39;00m s \u001b[38;5;129;01mis\u001b[39;00m \u001b[38;5;28;01mNone\u001b[39;00m:\n\u001b[1;32m   4372\u001b[0m     s \u001b[38;5;241m=\u001b[39m (\u001b[38;5;241m20\u001b[39m \u001b[38;5;28;01mif\u001b[39;00m rcParams[\u001b[38;5;124m'\u001b[39m\u001b[38;5;124m_internal.classic_mode\u001b[39m\u001b[38;5;124m'\u001b[39m] \u001b[38;5;28;01melse\u001b[39;00m\n\u001b[1;32m   4373\u001b[0m          rcParams[\u001b[38;5;124m'\u001b[39m\u001b[38;5;124mlines.markersize\u001b[39m\u001b[38;5;124m'\u001b[39m] \u001b[38;5;241m*\u001b[39m\u001b[38;5;241m*\u001b[39m \u001b[38;5;241m2.0\u001b[39m)\n",
      "\u001b[0;31mValueError\u001b[0m: x and y must be the same size"
     ]
    },
    {
     "data": {
      "image/png": "[encoded data removed]",
      "text/plain": [
       "<Figure size 432x288 with 1 Axes>"
      ]
     },
     "metadata": {
      "needs_background": "light"
     },
     "output_type": "display_data"
    }
   ],
   "source": [
    "import matplotlib.pyplot as plt\n",
    "plt.scatter(range(10,15,1),mse)\n",
    "plt.scatter(10,min(mse),color='red')\n",
    "plt.title('NN MSE')"
   ]
  },
  {
   "cell_type": "code",
   "execution_count": 306,
   "id": "1abdda90",
   "metadata": {},
   "outputs": [
    {
     "data": {
      "text/plain": [
       "<AxesSubplot:>"
      ]
     },
     "execution_count": 306,
     "metadata": {},
     "output_type": "execute_result"
    },
    {
     "data": {
      "image/png": "[encoded data removed]",
      "text/plain": [
       "<Figure size 720x576 with 2 Axes>"
      ]
     },
     "metadata": {
      "needs_background": "light"
     },
     "output_type": "display_data"
    }
   ],
   "source": [
    "import seaborn as sns\n",
    "\n",
    "f, ax = plt.subplots(figsize=(10, 8))\n",
    "corr = data.corr()\n",
    "sns.heatmap(corr,\n",
    "    cmap=sns.diverging_palette(220, 10, as_cmap=True),\n",
    "    vmin=-1.0, vmax=1.0,\n",
    "    square=True, ax=ax)"
   ]
  },
  {
   "cell_type": "code",
   "execution_count": 498,
   "id": "32f5b070",
   "metadata": {},
   "outputs": [],
   "source": [
    "update_data =data[['Age.at.Diagnosis',\n",
    " 'Chemotherapy',\n",
    " 'ER.status.measured.by.IHC',\n",
    " 'ER.Status',\n",
    " 'Neoplasm.Histologic.Grade',\n",
    " 'Lymph.nodes.examined.positive',\n",
    " 'Nottingham.prognostic.index',\n",
    " 'Tumor.Size']]\n",
    "\n",
    "\n"
   ]
  },
  {
   "cell_type": "code",
   "execution_count": 63,
   "id": "3b5aad17",
   "metadata": {},
   "outputs": [],
   "source": [
    "update_data =data[['Age.at.Diagnosis',\n",
    " 'Cancer.Type',\n",
    " 'Cancer.Type.Detailed',\n",
    " 'Cellularity..high...3..moderate...2..low...1.',\n",
    " 'Chemotherapy',\n",
    " 'Pam50...Claudin.low.subtype',\n",
    " 'Cohort',\n",
    " 'ER.status.measured.by.IHC',\n",
    " 'ER.Status',\n",
    " 'Neoplasm.Histologic.Grade',\n",
    " 'HER2.Status',\n",
    " 'Tumor.Other.Histologic.Subtype', \n",
    " 'Lymph.nodes.examined.positive',\n",
    " 'Mutation.Count',\n",
    " 'Nottingham.prognostic.index',\n",
    " 'Tumor.Size']]\n",
    "\n",
    "\n",
    "#removed: 'PR.Status', 'Primary.Tumor.Laterality', 'HER2.status.measured.by.SNP6', 'Oncotree.Code''Inferred.Menopausal.State',"
   ]
  },
  {
   "cell_type": "code",
   "execution_count": null,
   "id": "9326f4e3",
   "metadata": {},
   "outputs": [],
   "source": [
    "from sklearn.model_selection import ShuffleSplit\n",
    "n_samples = X.shape[0]\n",
    "cv= []\n",
    "for i in range(10):\n",
    "    cv.append(random.sample(range(n_samples), int(n_samples/10)))\n",
    "for j in cv:\n",
    "    y_pred = reg.predict(X.iloc[j,])\n",
    "    for i in range(len(y_pred)):\n",
    "        if y_pred[i] < 0.5:\n",
    "            y_pred[i] = 0\n",
    "        elif y_pred[i] < 1.5:\n",
    "            y_pred[i] = 1\n",
    "        elif y_pred[i] < 2.5:\n",
    "            y_pred[i] = 2\n",
    "        elif y_pred[i] < 3.5:\n",
    "            y_pred[i] = 3\n",
    "        else:\n",
    "            y_pred[i] = 4\n",
    "    print('Correct Test Classification Rate is:',round(sum(y_pred==Y[j])/len(y_pred),3) *100 ,'%')"
   ]
  },
  {
   "cell_type": "code",
   "execution_count": null,
   "id": "45dfcd84",
   "metadata": {},
   "outputs": [],
   "source": []
  },
  {
   "cell_type": "code",
   "execution_count": null,
   "id": "f8d7aec9",
   "metadata": {},
   "outputs": [],
   "source": []
  },
  {
   "cell_type": "markdown",
   "id": "c0d9a255",
   "metadata": {},
   "source": [
    "# After we implement NN, we try to backpropagate"
   ]
  },
  {
   "cell_type": "code",
   "execution_count": 353,
   "id": "b94f4d9c",
   "metadata": {},
   "outputs": [],
   "source": [
    "import numpy as np"
   ]
  },
  {
   "cell_type": "code",
   "execution_count": 459,
   "id": "7ba5bf2f",
   "metadata": {},
   "outputs": [],
   "source": [
    "learning_rate = 0.1\n",
    "iterations =500\n",
    "N = y_train.size\n",
    "\n",
    "#input feature\n",
    "input_size = update_data.shape[1]\n",
    "\n",
    "#hidden layers \n",
    "hidden_size = 10\n",
    "\n",
    "#output layers \n",
    "output_size = 1\n",
    "\n",
    "results = pd.DataFrame(columns=['mse','accuracy'])"
   ]
  },
  {
   "cell_type": "code",
   "execution_count": 460,
   "id": "42fb203f",
   "metadata": {},
   "outputs": [],
   "source": [
    "#Initialize Weights\n",
    "np.random.seed(10)\n",
    "\n",
    "#hidden layer\n",
    "W1 = np.random.normal(scale = 0.5, size = (input_size, hidden_size))\n",
    "\n",
    "#output layer\n",
    "W2 = np.random.normal(scale=0.5, size=(hidden_size , output_size))"
   ]
  },
  {
   "cell_type": "code",
   "execution_count": 465,
   "id": "c231c423",
   "metadata": {},
   "outputs": [],
   "source": [
    "def linear_unit(x):\n",
    "    for i in range(x.shape[0]):\n",
    "        for j in range(x.shape[1]):\n",
    "            x[i][j] = max(x[i][j],0)\n",
    "    return x\n",
    "\n",
    "def sigmoid(x):\n",
    "    return 1 / (1 + np.exp(-x))\n",
    "\n",
    "def mean_squared_error(y_pred, y_true):\n",
    "    return ((y_pred - y_true)**2).sum() / (2*y_pred.size)\n",
    "     \n",
    "def accuracy(y_pred, y_true):\n",
    "    acc = y_pred == y_true\n",
    "    return acc.mean()"
   ]
  },
  {
   "cell_type": "code",
   "execution_count": 466,
   "id": "ed32f5bc",
   "metadata": {},
   "outputs": [
    {
     "name": "stdout",
     "output_type": "stream",
     "text": [
      "7975.756791837221 0.0\n",
      "1.6341113058478996e+27 0.0\n",
      "1.7717987045341306 0.009466865969108122\n",
      "1.7717987045341306 0.009466865969108122\n",
      "1.7717987045341306 0.009466865969108122\n",
      "1.7717987045341306 0.009466865969108122\n",
      "1.7717987045341306 0.009466865969108122\n",
      "1.7717987045341306 0.009466865969108122\n",
      "1.7717987045341306 0.009466865969108122\n",
      "1.7717987045341306 0.009466865969108122\n"
     ]
    },
    {
     "name": "stderr",
     "output_type": "stream",
     "text": [
      "/var/folders/xd/39vn4ttx5239g2gxfkr0tm_r0000gn/T/ipykernel_47487/2820687247.py:21: FutureWarning: The frame.append method is deprecated and will be removed from pandas in a future version. Use pandas.concat instead.\n",
      "  results.append({\"mse\":mse, \"accuracy\":acc},ignore_index=True )\n",
      "/var/folders/xd/39vn4ttx5239g2gxfkr0tm_r0000gn/T/ipykernel_47487/2820687247.py:21: FutureWarning: The frame.append method is deprecated and will be removed from pandas in a future version. Use pandas.concat instead.\n",
      "  results.append({\"mse\":mse, \"accuracy\":acc},ignore_index=True )\n",
      "/var/folders/xd/39vn4ttx5239g2gxfkr0tm_r0000gn/T/ipykernel_47487/2820687247.py:21: FutureWarning: The frame.append method is deprecated and will be removed from pandas in a future version. Use pandas.concat instead.\n",
      "  results.append({\"mse\":mse, \"accuracy\":acc},ignore_index=True )\n",
      "/var/folders/xd/39vn4ttx5239g2gxfkr0tm_r0000gn/T/ipykernel_47487/2820687247.py:21: FutureWarning: The frame.append method is deprecated and will be removed from pandas in a future version. Use pandas.concat instead.\n",
      "  results.append({\"mse\":mse, \"accuracy\":acc},ignore_index=True )\n",
      "/var/folders/xd/39vn4ttx5239g2gxfkr0tm_r0000gn/T/ipykernel_47487/2820687247.py:21: FutureWarning: The frame.append method is deprecated and will be removed from pandas in a future version. Use pandas.concat instead.\n",
      "  results.append({\"mse\":mse, \"accuracy\":acc},ignore_index=True )\n",
      "/var/folders/xd/39vn4ttx5239g2gxfkr0tm_r0000gn/T/ipykernel_47487/2820687247.py:21: FutureWarning: The frame.append method is deprecated and will be removed from pandas in a future version. Use pandas.concat instead.\n",
      "  results.append({\"mse\":mse, \"accuracy\":acc},ignore_index=True )\n",
      "/var/folders/xd/39vn4ttx5239g2gxfkr0tm_r0000gn/T/ipykernel_47487/2820687247.py:21: FutureWarning: The frame.append method is deprecated and will be removed from pandas in a future version. Use pandas.concat instead.\n",
      "  results.append({\"mse\":mse, \"accuracy\":acc},ignore_index=True )\n",
      "/var/folders/xd/39vn4ttx5239g2gxfkr0tm_r0000gn/T/ipykernel_47487/2820687247.py:21: FutureWarning: The frame.append method is deprecated and will be removed from pandas in a future version. Use pandas.concat instead.\n",
      "  results.append({\"mse\":mse, \"accuracy\":acc},ignore_index=True )\n",
      "/var/folders/xd/39vn4ttx5239g2gxfkr0tm_r0000gn/T/ipykernel_47487/2820687247.py:21: FutureWarning: The frame.append method is deprecated and will be removed from pandas in a future version. Use pandas.concat instead.\n",
      "  results.append({\"mse\":mse, \"accuracy\":acc},ignore_index=True )\n",
      "/var/folders/xd/39vn4ttx5239g2gxfkr0tm_r0000gn/T/ipykernel_47487/2820687247.py:21: FutureWarning: The frame.append method is deprecated and will be removed from pandas in a future version. Use pandas.concat instead.\n",
      "  results.append({\"mse\":mse, \"accuracy\":acc},ignore_index=True )\n"
     ]
    },
    {
     "name": "stdout",
     "output_type": "stream",
     "text": [
      "1.7717987045341306 0.009466865969108122\n",
      "1.7717987045341306 0.009466865969108122\n",
      "1.7717987045341306 0.009466865969108122\n",
      "1.7717987045341306 0.009466865969108122\n",
      "1.7717987045341306 0.009466865969108122\n",
      "1.7717987045341306 0.009466865969108122\n",
      "1.7717987045341306 0.009466865969108122\n",
      "1.7717987045341306 0.009466865969108122\n",
      "1.7717987045341306 0.009466865969108122\n",
      "1.7717987045341306 0.009466865969108122\n"
     ]
    },
    {
     "name": "stderr",
     "output_type": "stream",
     "text": [
      "/var/folders/xd/39vn4ttx5239g2gxfkr0tm_r0000gn/T/ipykernel_47487/2820687247.py:21: FutureWarning: The frame.append method is deprecated and will be removed from pandas in a future version. Use pandas.concat instead.\n",
      "  results.append({\"mse\":mse, \"accuracy\":acc},ignore_index=True )\n",
      "/var/folders/xd/39vn4ttx5239g2gxfkr0tm_r0000gn/T/ipykernel_47487/2820687247.py:21: FutureWarning: The frame.append method is deprecated and will be removed from pandas in a future version. Use pandas.concat instead.\n",
      "  results.append({\"mse\":mse, \"accuracy\":acc},ignore_index=True )\n",
      "/var/folders/xd/39vn4ttx5239g2gxfkr0tm_r0000gn/T/ipykernel_47487/2820687247.py:21: FutureWarning: The frame.append method is deprecated and will be removed from pandas in a future version. Use pandas.concat instead.\n",
      "  results.append({\"mse\":mse, \"accuracy\":acc},ignore_index=True )\n",
      "/var/folders/xd/39vn4ttx5239g2gxfkr0tm_r0000gn/T/ipykernel_47487/2820687247.py:21: FutureWarning: The frame.append method is deprecated and will be removed from pandas in a future version. Use pandas.concat instead.\n",
      "  results.append({\"mse\":mse, \"accuracy\":acc},ignore_index=True )\n",
      "/var/folders/xd/39vn4ttx5239g2gxfkr0tm_r0000gn/T/ipykernel_47487/2820687247.py:21: FutureWarning: The frame.append method is deprecated and will be removed from pandas in a future version. Use pandas.concat instead.\n",
      "  results.append({\"mse\":mse, \"accuracy\":acc},ignore_index=True )\n",
      "/var/folders/xd/39vn4ttx5239g2gxfkr0tm_r0000gn/T/ipykernel_47487/2820687247.py:21: FutureWarning: The frame.append method is deprecated and will be removed from pandas in a future version. Use pandas.concat instead.\n",
      "  results.append({\"mse\":mse, \"accuracy\":acc},ignore_index=True )\n",
      "/var/folders/xd/39vn4ttx5239g2gxfkr0tm_r0000gn/T/ipykernel_47487/2820687247.py:21: FutureWarning: The frame.append method is deprecated and will be removed from pandas in a future version. Use pandas.concat instead.\n",
      "  results.append({\"mse\":mse, \"accuracy\":acc},ignore_index=True )\n",
      "/var/folders/xd/39vn4ttx5239g2gxfkr0tm_r0000gn/T/ipykernel_47487/2820687247.py:21: FutureWarning: The frame.append method is deprecated and will be removed from pandas in a future version. Use pandas.concat instead.\n",
      "  results.append({\"mse\":mse, \"accuracy\":acc},ignore_index=True )\n",
      "/var/folders/xd/39vn4ttx5239g2gxfkr0tm_r0000gn/T/ipykernel_47487/2820687247.py:21: FutureWarning: The frame.append method is deprecated and will be removed from pandas in a future version. Use pandas.concat instead.\n",
      "  results.append({\"mse\":mse, \"accuracy\":acc},ignore_index=True )\n",
      "/var/folders/xd/39vn4ttx5239g2gxfkr0tm_r0000gn/T/ipykernel_47487/2820687247.py:21: FutureWarning: The frame.append method is deprecated and will be removed from pandas in a future version. Use pandas.concat instead.\n",
      "  results.append({\"mse\":mse, \"accuracy\":acc},ignore_index=True )\n"
     ]
    },
    {
     "name": "stdout",
     "output_type": "stream",
     "text": [
      "1.7717987045341306 0.009466865969108122\n",
      "1.7717987045341306 0.009466865969108122\n",
      "1.7717987045341306 0.009466865969108122\n",
      "1.7717987045341306 0.009466865969108122\n",
      "1.7717987045341306 0.009466865969108122\n",
      "1.7717987045341306 0.009466865969108122\n",
      "1.7717987045341306 0.009466865969108122\n",
      "1.7717987045341306 0.009466865969108122\n",
      "1.7717987045341306 0.009466865969108122\n",
      "1.7717987045341306 0.009466865969108122\n"
     ]
    },
    {
     "name": "stderr",
     "output_type": "stream",
     "text": [
      "/var/folders/xd/39vn4ttx5239g2gxfkr0tm_r0000gn/T/ipykernel_47487/2820687247.py:21: FutureWarning: The frame.append method is deprecated and will be removed from pandas in a future version. Use pandas.concat instead.\n",
      "  results.append({\"mse\":mse, \"accuracy\":acc},ignore_index=True )\n",
      "/var/folders/xd/39vn4ttx5239g2gxfkr0tm_r0000gn/T/ipykernel_47487/2820687247.py:21: FutureWarning: The frame.append method is deprecated and will be removed from pandas in a future version. Use pandas.concat instead.\n",
      "  results.append({\"mse\":mse, \"accuracy\":acc},ignore_index=True )\n",
      "/var/folders/xd/39vn4ttx5239g2gxfkr0tm_r0000gn/T/ipykernel_47487/2820687247.py:21: FutureWarning: The frame.append method is deprecated and will be removed from pandas in a future version. Use pandas.concat instead.\n",
      "  results.append({\"mse\":mse, \"accuracy\":acc},ignore_index=True )\n",
      "/var/folders/xd/39vn4ttx5239g2gxfkr0tm_r0000gn/T/ipykernel_47487/2820687247.py:21: FutureWarning: The frame.append method is deprecated and will be removed from pandas in a future version. Use pandas.concat instead.\n",
      "  results.append({\"mse\":mse, \"accuracy\":acc},ignore_index=True )\n",
      "/var/folders/xd/39vn4ttx5239g2gxfkr0tm_r0000gn/T/ipykernel_47487/2820687247.py:21: FutureWarning: The frame.append method is deprecated and will be removed from pandas in a future version. Use pandas.concat instead.\n",
      "  results.append({\"mse\":mse, \"accuracy\":acc},ignore_index=True )\n",
      "/var/folders/xd/39vn4ttx5239g2gxfkr0tm_r0000gn/T/ipykernel_47487/2820687247.py:21: FutureWarning: The frame.append method is deprecated and will be removed from pandas in a future version. Use pandas.concat instead.\n",
      "  results.append({\"mse\":mse, \"accuracy\":acc},ignore_index=True )\n",
      "/var/folders/xd/39vn4ttx5239g2gxfkr0tm_r0000gn/T/ipykernel_47487/2820687247.py:21: FutureWarning: The frame.append method is deprecated and will be removed from pandas in a future version. Use pandas.concat instead.\n",
      "  results.append({\"mse\":mse, \"accuracy\":acc},ignore_index=True )\n",
      "/var/folders/xd/39vn4ttx5239g2gxfkr0tm_r0000gn/T/ipykernel_47487/2820687247.py:21: FutureWarning: The frame.append method is deprecated and will be removed from pandas in a future version. Use pandas.concat instead.\n",
      "  results.append({\"mse\":mse, \"accuracy\":acc},ignore_index=True )\n",
      "/var/folders/xd/39vn4ttx5239g2gxfkr0tm_r0000gn/T/ipykernel_47487/2820687247.py:21: FutureWarning: The frame.append method is deprecated and will be removed from pandas in a future version. Use pandas.concat instead.\n",
      "  results.append({\"mse\":mse, \"accuracy\":acc},ignore_index=True )\n",
      "/var/folders/xd/39vn4ttx5239g2gxfkr0tm_r0000gn/T/ipykernel_47487/2820687247.py:21: FutureWarning: The frame.append method is deprecated and will be removed from pandas in a future version. Use pandas.concat instead.\n",
      "  results.append({\"mse\":mse, \"accuracy\":acc},ignore_index=True )\n"
     ]
    },
    {
     "name": "stdout",
     "output_type": "stream",
     "text": [
      "1.7717987045341306 0.009466865969108122\n",
      "1.7717987045341306 0.009466865969108122\n",
      "1.7717987045341306 0.009466865969108122\n",
      "1.7717987045341306 0.009466865969108122\n",
      "1.7717987045341306 0.009466865969108122\n",
      "1.7717987045341306 0.009466865969108122\n",
      "1.7717987045341306 0.009466865969108122\n",
      "1.7717987045341306 0.009466865969108122\n",
      "1.7717987045341306 0.009466865969108122\n",
      "1.7717987045341306 0.009466865969108122\n"
     ]
    },
    {
     "name": "stderr",
     "output_type": "stream",
     "text": [
      "/var/folders/xd/39vn4ttx5239g2gxfkr0tm_r0000gn/T/ipykernel_47487/2820687247.py:21: FutureWarning: The frame.append method is deprecated and will be removed from pandas in a future version. Use pandas.concat instead.\n",
      "  results.append({\"mse\":mse, \"accuracy\":acc},ignore_index=True )\n",
      "/var/folders/xd/39vn4ttx5239g2gxfkr0tm_r0000gn/T/ipykernel_47487/2820687247.py:21: FutureWarning: The frame.append method is deprecated and will be removed from pandas in a future version. Use pandas.concat instead.\n",
      "  results.append({\"mse\":mse, \"accuracy\":acc},ignore_index=True )\n",
      "/var/folders/xd/39vn4ttx5239g2gxfkr0tm_r0000gn/T/ipykernel_47487/2820687247.py:21: FutureWarning: The frame.append method is deprecated and will be removed from pandas in a future version. Use pandas.concat instead.\n",
      "  results.append({\"mse\":mse, \"accuracy\":acc},ignore_index=True )\n",
      "/var/folders/xd/39vn4ttx5239g2gxfkr0tm_r0000gn/T/ipykernel_47487/2820687247.py:21: FutureWarning: The frame.append method is deprecated and will be removed from pandas in a future version. Use pandas.concat instead.\n",
      "  results.append({\"mse\":mse, \"accuracy\":acc},ignore_index=True )\n",
      "/var/folders/xd/39vn4ttx5239g2gxfkr0tm_r0000gn/T/ipykernel_47487/2820687247.py:21: FutureWarning: The frame.append method is deprecated and will be removed from pandas in a future version. Use pandas.concat instead.\n",
      "  results.append({\"mse\":mse, \"accuracy\":acc},ignore_index=True )\n",
      "/var/folders/xd/39vn4ttx5239g2gxfkr0tm_r0000gn/T/ipykernel_47487/2820687247.py:21: FutureWarning: The frame.append method is deprecated and will be removed from pandas in a future version. Use pandas.concat instead.\n",
      "  results.append({\"mse\":mse, \"accuracy\":acc},ignore_index=True )\n",
      "/var/folders/xd/39vn4ttx5239g2gxfkr0tm_r0000gn/T/ipykernel_47487/2820687247.py:21: FutureWarning: The frame.append method is deprecated and will be removed from pandas in a future version. Use pandas.concat instead.\n",
      "  results.append({\"mse\":mse, \"accuracy\":acc},ignore_index=True )\n",
      "/var/folders/xd/39vn4ttx5239g2gxfkr0tm_r0000gn/T/ipykernel_47487/2820687247.py:21: FutureWarning: The frame.append method is deprecated and will be removed from pandas in a future version. Use pandas.concat instead.\n",
      "  results.append({\"mse\":mse, \"accuracy\":acc},ignore_index=True )\n",
      "/var/folders/xd/39vn4ttx5239g2gxfkr0tm_r0000gn/T/ipykernel_47487/2820687247.py:21: FutureWarning: The frame.append method is deprecated and will be removed from pandas in a future version. Use pandas.concat instead.\n",
      "  results.append({\"mse\":mse, \"accuracy\":acc},ignore_index=True )\n",
      "/var/folders/xd/39vn4ttx5239g2gxfkr0tm_r0000gn/T/ipykernel_47487/2820687247.py:21: FutureWarning: The frame.append method is deprecated and will be removed from pandas in a future version. Use pandas.concat instead.\n",
      "  results.append({\"mse\":mse, \"accuracy\":acc},ignore_index=True )\n"
     ]
    },
    {
     "name": "stdout",
     "output_type": "stream",
     "text": [
      "1.7717987045341306 0.009466865969108122\n",
      "1.7717987045341306 0.009466865969108122\n",
      "1.7717987045341306 0.009466865969108122\n",
      "1.7717987045341306 0.009466865969108122\n",
      "1.7717987045341306 0.009466865969108122\n",
      "1.7717987045341306 0.009466865969108122\n",
      "1.7717987045341306 0.009466865969108122\n",
      "1.7717987045341306 0.009466865969108122\n",
      "1.7717987045341306 0.009466865969108122\n"
     ]
    },
    {
     "name": "stderr",
     "output_type": "stream",
     "text": [
      "/var/folders/xd/39vn4ttx5239g2gxfkr0tm_r0000gn/T/ipykernel_47487/2820687247.py:21: FutureWarning: The frame.append method is deprecated and will be removed from pandas in a future version. Use pandas.concat instead.\n",
      "  results.append({\"mse\":mse, \"accuracy\":acc},ignore_index=True )\n",
      "/var/folders/xd/39vn4ttx5239g2gxfkr0tm_r0000gn/T/ipykernel_47487/2820687247.py:21: FutureWarning: The frame.append method is deprecated and will be removed from pandas in a future version. Use pandas.concat instead.\n",
      "  results.append({\"mse\":mse, \"accuracy\":acc},ignore_index=True )\n",
      "/var/folders/xd/39vn4ttx5239g2gxfkr0tm_r0000gn/T/ipykernel_47487/2820687247.py:21: FutureWarning: The frame.append method is deprecated and will be removed from pandas in a future version. Use pandas.concat instead.\n",
      "  results.append({\"mse\":mse, \"accuracy\":acc},ignore_index=True )\n",
      "/var/folders/xd/39vn4ttx5239g2gxfkr0tm_r0000gn/T/ipykernel_47487/2820687247.py:21: FutureWarning: The frame.append method is deprecated and will be removed from pandas in a future version. Use pandas.concat instead.\n",
      "  results.append({\"mse\":mse, \"accuracy\":acc},ignore_index=True )\n",
      "/var/folders/xd/39vn4ttx5239g2gxfkr0tm_r0000gn/T/ipykernel_47487/2820687247.py:21: FutureWarning: The frame.append method is deprecated and will be removed from pandas in a future version. Use pandas.concat instead.\n",
      "  results.append({\"mse\":mse, \"accuracy\":acc},ignore_index=True )\n",
      "/var/folders/xd/39vn4ttx5239g2gxfkr0tm_r0000gn/T/ipykernel_47487/2820687247.py:21: FutureWarning: The frame.append method is deprecated and will be removed from pandas in a future version. Use pandas.concat instead.\n",
      "  results.append({\"mse\":mse, \"accuracy\":acc},ignore_index=True )\n",
      "/var/folders/xd/39vn4ttx5239g2gxfkr0tm_r0000gn/T/ipykernel_47487/2820687247.py:21: FutureWarning: The frame.append method is deprecated and will be removed from pandas in a future version. Use pandas.concat instead.\n",
      "  results.append({\"mse\":mse, \"accuracy\":acc},ignore_index=True )\n",
      "/var/folders/xd/39vn4ttx5239g2gxfkr0tm_r0000gn/T/ipykernel_47487/2820687247.py:21: FutureWarning: The frame.append method is deprecated and will be removed from pandas in a future version. Use pandas.concat instead.\n",
      "  results.append({\"mse\":mse, \"accuracy\":acc},ignore_index=True )\n",
      "/var/folders/xd/39vn4ttx5239g2gxfkr0tm_r0000gn/T/ipykernel_47487/2820687247.py:21: FutureWarning: The frame.append method is deprecated and will be removed from pandas in a future version. Use pandas.concat instead.\n",
      "  results.append({\"mse\":mse, \"accuracy\":acc},ignore_index=True )\n"
     ]
    },
    {
     "name": "stdout",
     "output_type": "stream",
     "text": [
      "1.7717987045341306 0.009466865969108122\n",
      "1.7717987045341306 0.009466865969108122\n",
      "1.7717987045341306 0.009466865969108122\n",
      "1.7717987045341306 0.009466865969108122\n",
      "1.7717987045341306 0.009466865969108122\n",
      "1.7717987045341306 0.009466865969108122\n",
      "1.7717987045341306 0.009466865969108122\n",
      "1.7717987045341306 0.009466865969108122\n",
      "1.7717987045341306 0.009466865969108122\n",
      "1.7717987045341306 0.009466865969108122\n"
     ]
    },
    {
     "name": "stderr",
     "output_type": "stream",
     "text": [
      "/var/folders/xd/39vn4ttx5239g2gxfkr0tm_r0000gn/T/ipykernel_47487/2820687247.py:21: FutureWarning: The frame.append method is deprecated and will be removed from pandas in a future version. Use pandas.concat instead.\n",
      "  results.append({\"mse\":mse, \"accuracy\":acc},ignore_index=True )\n",
      "/var/folders/xd/39vn4ttx5239g2gxfkr0tm_r0000gn/T/ipykernel_47487/2820687247.py:21: FutureWarning: The frame.append method is deprecated and will be removed from pandas in a future version. Use pandas.concat instead.\n",
      "  results.append({\"mse\":mse, \"accuracy\":acc},ignore_index=True )\n",
      "/var/folders/xd/39vn4ttx5239g2gxfkr0tm_r0000gn/T/ipykernel_47487/2820687247.py:21: FutureWarning: The frame.append method is deprecated and will be removed from pandas in a future version. Use pandas.concat instead.\n",
      "  results.append({\"mse\":mse, \"accuracy\":acc},ignore_index=True )\n",
      "/var/folders/xd/39vn4ttx5239g2gxfkr0tm_r0000gn/T/ipykernel_47487/2820687247.py:21: FutureWarning: The frame.append method is deprecated and will be removed from pandas in a future version. Use pandas.concat instead.\n",
      "  results.append({\"mse\":mse, \"accuracy\":acc},ignore_index=True )\n",
      "/var/folders/xd/39vn4ttx5239g2gxfkr0tm_r0000gn/T/ipykernel_47487/2820687247.py:21: FutureWarning: The frame.append method is deprecated and will be removed from pandas in a future version. Use pandas.concat instead.\n",
      "  results.append({\"mse\":mse, \"accuracy\":acc},ignore_index=True )\n",
      "/var/folders/xd/39vn4ttx5239g2gxfkr0tm_r0000gn/T/ipykernel_47487/2820687247.py:21: FutureWarning: The frame.append method is deprecated and will be removed from pandas in a future version. Use pandas.concat instead.\n",
      "  results.append({\"mse\":mse, \"accuracy\":acc},ignore_index=True )\n",
      "/var/folders/xd/39vn4ttx5239g2gxfkr0tm_r0000gn/T/ipykernel_47487/2820687247.py:21: FutureWarning: The frame.append method is deprecated and will be removed from pandas in a future version. Use pandas.concat instead.\n",
      "  results.append({\"mse\":mse, \"accuracy\":acc},ignore_index=True )\n",
      "/var/folders/xd/39vn4ttx5239g2gxfkr0tm_r0000gn/T/ipykernel_47487/2820687247.py:21: FutureWarning: The frame.append method is deprecated and will be removed from pandas in a future version. Use pandas.concat instead.\n",
      "  results.append({\"mse\":mse, \"accuracy\":acc},ignore_index=True )\n",
      "/var/folders/xd/39vn4ttx5239g2gxfkr0tm_r0000gn/T/ipykernel_47487/2820687247.py:21: FutureWarning: The frame.append method is deprecated and will be removed from pandas in a future version. Use pandas.concat instead.\n",
      "  results.append({\"mse\":mse, \"accuracy\":acc},ignore_index=True )\n",
      "/var/folders/xd/39vn4ttx5239g2gxfkr0tm_r0000gn/T/ipykernel_47487/2820687247.py:21: FutureWarning: The frame.append method is deprecated and will be removed from pandas in a future version. Use pandas.concat instead.\n",
      "  results.append({\"mse\":mse, \"accuracy\":acc},ignore_index=True )\n"
     ]
    },
    {
     "name": "stdout",
     "output_type": "stream",
     "text": [
      "1.7717987045341306 0.009466865969108122\n",
      "1.7717987045341306 0.009466865969108122\n",
      "1.7717987045341306 0.009466865969108122\n",
      "1.7717987045341306 0.009466865969108122\n",
      "1.7717987045341306 0.009466865969108122\n",
      "1.7717987045341306 0.009466865969108122\n",
      "1.7717987045341306 0.009466865969108122\n",
      "1.7717987045341306 0.009466865969108122\n",
      "1.7717987045341306 0.009466865969108122\n",
      "1.7717987045341306 0.009466865969108122\n"
     ]
    },
    {
     "name": "stderr",
     "output_type": "stream",
     "text": [
      "/var/folders/xd/39vn4ttx5239g2gxfkr0tm_r0000gn/T/ipykernel_47487/2820687247.py:21: FutureWarning: The frame.append method is deprecated and will be removed from pandas in a future version. Use pandas.concat instead.\n",
      "  results.append({\"mse\":mse, \"accuracy\":acc},ignore_index=True )\n",
      "/var/folders/xd/39vn4ttx5239g2gxfkr0tm_r0000gn/T/ipykernel_47487/2820687247.py:21: FutureWarning: The frame.append method is deprecated and will be removed from pandas in a future version. Use pandas.concat instead.\n",
      "  results.append({\"mse\":mse, \"accuracy\":acc},ignore_index=True )\n",
      "/var/folders/xd/39vn4ttx5239g2gxfkr0tm_r0000gn/T/ipykernel_47487/2820687247.py:21: FutureWarning: The frame.append method is deprecated and will be removed from pandas in a future version. Use pandas.concat instead.\n",
      "  results.append({\"mse\":mse, \"accuracy\":acc},ignore_index=True )\n",
      "/var/folders/xd/39vn4ttx5239g2gxfkr0tm_r0000gn/T/ipykernel_47487/2820687247.py:21: FutureWarning: The frame.append method is deprecated and will be removed from pandas in a future version. Use pandas.concat instead.\n",
      "  results.append({\"mse\":mse, \"accuracy\":acc},ignore_index=True )\n",
      "/var/folders/xd/39vn4ttx5239g2gxfkr0tm_r0000gn/T/ipykernel_47487/2820687247.py:21: FutureWarning: The frame.append method is deprecated and will be removed from pandas in a future version. Use pandas.concat instead.\n",
      "  results.append({\"mse\":mse, \"accuracy\":acc},ignore_index=True )\n",
      "/var/folders/xd/39vn4ttx5239g2gxfkr0tm_r0000gn/T/ipykernel_47487/2820687247.py:21: FutureWarning: The frame.append method is deprecated and will be removed from pandas in a future version. Use pandas.concat instead.\n",
      "  results.append({\"mse\":mse, \"accuracy\":acc},ignore_index=True )\n",
      "/var/folders/xd/39vn4ttx5239g2gxfkr0tm_r0000gn/T/ipykernel_47487/2820687247.py:21: FutureWarning: The frame.append method is deprecated and will be removed from pandas in a future version. Use pandas.concat instead.\n",
      "  results.append({\"mse\":mse, \"accuracy\":acc},ignore_index=True )\n",
      "/var/folders/xd/39vn4ttx5239g2gxfkr0tm_r0000gn/T/ipykernel_47487/2820687247.py:21: FutureWarning: The frame.append method is deprecated and will be removed from pandas in a future version. Use pandas.concat instead.\n",
      "  results.append({\"mse\":mse, \"accuracy\":acc},ignore_index=True )\n",
      "/var/folders/xd/39vn4ttx5239g2gxfkr0tm_r0000gn/T/ipykernel_47487/2820687247.py:21: FutureWarning: The frame.append method is deprecated and will be removed from pandas in a future version. Use pandas.concat instead.\n",
      "  results.append({\"mse\":mse, \"accuracy\":acc},ignore_index=True )\n",
      "/var/folders/xd/39vn4ttx5239g2gxfkr0tm_r0000gn/T/ipykernel_47487/2820687247.py:21: FutureWarning: The frame.append method is deprecated and will be removed from pandas in a future version. Use pandas.concat instead.\n",
      "  results.append({\"mse\":mse, \"accuracy\":acc},ignore_index=True )\n"
     ]
    },
    {
     "name": "stdout",
     "output_type": "stream",
     "text": [
      "1.7717987045341306 0.009466865969108122\n",
      "1.7717987045341306 0.009466865969108122\n",
      "1.7717987045341306 0.009466865969108122\n",
      "1.7717987045341306 0.009466865969108122\n",
      "1.7717987045341306 0.009466865969108122\n",
      "1.7717987045341306 0.009466865969108122\n",
      "1.7717987045341306 0.009466865969108122\n",
      "1.7717987045341306 0.009466865969108122\n",
      "1.7717987045341306 0.009466865969108122\n",
      "1.7717987045341306 0.009466865969108122\n"
     ]
    },
    {
     "name": "stderr",
     "output_type": "stream",
     "text": [
      "/var/folders/xd/39vn4ttx5239g2gxfkr0tm_r0000gn/T/ipykernel_47487/2820687247.py:21: FutureWarning: The frame.append method is deprecated and will be removed from pandas in a future version. Use pandas.concat instead.\n",
      "  results.append({\"mse\":mse, \"accuracy\":acc},ignore_index=True )\n",
      "/var/folders/xd/39vn4ttx5239g2gxfkr0tm_r0000gn/T/ipykernel_47487/2820687247.py:21: FutureWarning: The frame.append method is deprecated and will be removed from pandas in a future version. Use pandas.concat instead.\n",
      "  results.append({\"mse\":mse, \"accuracy\":acc},ignore_index=True )\n",
      "/var/folders/xd/39vn4ttx5239g2gxfkr0tm_r0000gn/T/ipykernel_47487/2820687247.py:21: FutureWarning: The frame.append method is deprecated and will be removed from pandas in a future version. Use pandas.concat instead.\n",
      "  results.append({\"mse\":mse, \"accuracy\":acc},ignore_index=True )\n",
      "/var/folders/xd/39vn4ttx5239g2gxfkr0tm_r0000gn/T/ipykernel_47487/2820687247.py:21: FutureWarning: The frame.append method is deprecated and will be removed from pandas in a future version. Use pandas.concat instead.\n",
      "  results.append({\"mse\":mse, \"accuracy\":acc},ignore_index=True )\n",
      "/var/folders/xd/39vn4ttx5239g2gxfkr0tm_r0000gn/T/ipykernel_47487/2820687247.py:21: FutureWarning: The frame.append method is deprecated and will be removed from pandas in a future version. Use pandas.concat instead.\n",
      "  results.append({\"mse\":mse, \"accuracy\":acc},ignore_index=True )\n",
      "/var/folders/xd/39vn4ttx5239g2gxfkr0tm_r0000gn/T/ipykernel_47487/2820687247.py:21: FutureWarning: The frame.append method is deprecated and will be removed from pandas in a future version. Use pandas.concat instead.\n",
      "  results.append({\"mse\":mse, \"accuracy\":acc},ignore_index=True )\n",
      "/var/folders/xd/39vn4ttx5239g2gxfkr0tm_r0000gn/T/ipykernel_47487/2820687247.py:21: FutureWarning: The frame.append method is deprecated and will be removed from pandas in a future version. Use pandas.concat instead.\n",
      "  results.append({\"mse\":mse, \"accuracy\":acc},ignore_index=True )\n",
      "/var/folders/xd/39vn4ttx5239g2gxfkr0tm_r0000gn/T/ipykernel_47487/2820687247.py:21: FutureWarning: The frame.append method is deprecated and will be removed from pandas in a future version. Use pandas.concat instead.\n",
      "  results.append({\"mse\":mse, \"accuracy\":acc},ignore_index=True )\n",
      "/var/folders/xd/39vn4ttx5239g2gxfkr0tm_r0000gn/T/ipykernel_47487/2820687247.py:21: FutureWarning: The frame.append method is deprecated and will be removed from pandas in a future version. Use pandas.concat instead.\n",
      "  results.append({\"mse\":mse, \"accuracy\":acc},ignore_index=True )\n",
      "/var/folders/xd/39vn4ttx5239g2gxfkr0tm_r0000gn/T/ipykernel_47487/2820687247.py:21: FutureWarning: The frame.append method is deprecated and will be removed from pandas in a future version. Use pandas.concat instead.\n",
      "  results.append({\"mse\":mse, \"accuracy\":acc},ignore_index=True )\n"
     ]
    },
    {
     "name": "stdout",
     "output_type": "stream",
     "text": [
      "1.7717987045341306 0.009466865969108122\n",
      "1.7717987045341306 0.009466865969108122\n",
      "1.7717987045341306 0.009466865969108122\n",
      "1.7717987045341306 0.009466865969108122\n",
      "1.7717987045341306 0.009466865969108122\n",
      "1.7717987045341306 0.009466865969108122\n",
      "1.7717987045341306 0.009466865969108122\n",
      "1.7717987045341306 0.009466865969108122\n",
      "1.7717987045341306 0.009466865969108122\n",
      "1.7717987045341306 0.009466865969108122\n"
     ]
    },
    {
     "name": "stderr",
     "output_type": "stream",
     "text": [
      "/var/folders/xd/39vn4ttx5239g2gxfkr0tm_r0000gn/T/ipykernel_47487/2820687247.py:21: FutureWarning: The frame.append method is deprecated and will be removed from pandas in a future version. Use pandas.concat instead.\n",
      "  results.append({\"mse\":mse, \"accuracy\":acc},ignore_index=True )\n",
      "/var/folders/xd/39vn4ttx5239g2gxfkr0tm_r0000gn/T/ipykernel_47487/2820687247.py:21: FutureWarning: The frame.append method is deprecated and will be removed from pandas in a future version. Use pandas.concat instead.\n",
      "  results.append({\"mse\":mse, \"accuracy\":acc},ignore_index=True )\n",
      "/var/folders/xd/39vn4ttx5239g2gxfkr0tm_r0000gn/T/ipykernel_47487/2820687247.py:21: FutureWarning: The frame.append method is deprecated and will be removed from pandas in a future version. Use pandas.concat instead.\n",
      "  results.append({\"mse\":mse, \"accuracy\":acc},ignore_index=True )\n",
      "/var/folders/xd/39vn4ttx5239g2gxfkr0tm_r0000gn/T/ipykernel_47487/2820687247.py:21: FutureWarning: The frame.append method is deprecated and will be removed from pandas in a future version. Use pandas.concat instead.\n",
      "  results.append({\"mse\":mse, \"accuracy\":acc},ignore_index=True )\n",
      "/var/folders/xd/39vn4ttx5239g2gxfkr0tm_r0000gn/T/ipykernel_47487/2820687247.py:21: FutureWarning: The frame.append method is deprecated and will be removed from pandas in a future version. Use pandas.concat instead.\n",
      "  results.append({\"mse\":mse, \"accuracy\":acc},ignore_index=True )\n",
      "/var/folders/xd/39vn4ttx5239g2gxfkr0tm_r0000gn/T/ipykernel_47487/2820687247.py:21: FutureWarning: The frame.append method is deprecated and will be removed from pandas in a future version. Use pandas.concat instead.\n",
      "  results.append({\"mse\":mse, \"accuracy\":acc},ignore_index=True )\n",
      "/var/folders/xd/39vn4ttx5239g2gxfkr0tm_r0000gn/T/ipykernel_47487/2820687247.py:21: FutureWarning: The frame.append method is deprecated and will be removed from pandas in a future version. Use pandas.concat instead.\n",
      "  results.append({\"mse\":mse, \"accuracy\":acc},ignore_index=True )\n",
      "/var/folders/xd/39vn4ttx5239g2gxfkr0tm_r0000gn/T/ipykernel_47487/2820687247.py:21: FutureWarning: The frame.append method is deprecated and will be removed from pandas in a future version. Use pandas.concat instead.\n",
      "  results.append({\"mse\":mse, \"accuracy\":acc},ignore_index=True )\n",
      "/var/folders/xd/39vn4ttx5239g2gxfkr0tm_r0000gn/T/ipykernel_47487/2820687247.py:21: FutureWarning: The frame.append method is deprecated and will be removed from pandas in a future version. Use pandas.concat instead.\n",
      "  results.append({\"mse\":mse, \"accuracy\":acc},ignore_index=True )\n",
      "/var/folders/xd/39vn4ttx5239g2gxfkr0tm_r0000gn/T/ipykernel_47487/2820687247.py:21: FutureWarning: The frame.append method is deprecated and will be removed from pandas in a future version. Use pandas.concat instead.\n",
      "  results.append({\"mse\":mse, \"accuracy\":acc},ignore_index=True )\n"
     ]
    },
    {
     "name": "stdout",
     "output_type": "stream",
     "text": [
      "1.7717987045341306 0.009466865969108122\n",
      "1.7717987045341306 0.009466865969108122\n",
      "1.7717987045341306 0.009466865969108122\n",
      "1.7717987045341306 0.009466865969108122\n",
      "1.7717987045341306 0.009466865969108122\n",
      "1.7717987045341306 0.009466865969108122\n",
      "1.7717987045341306 0.009466865969108122\n",
      "1.7717987045341306 0.009466865969108122\n",
      "1.7717987045341306 0.009466865969108122\n",
      "1.7717987045341306 0.009466865969108122\n"
     ]
    },
    {
     "name": "stderr",
     "output_type": "stream",
     "text": [
      "/var/folders/xd/39vn4ttx5239g2gxfkr0tm_r0000gn/T/ipykernel_47487/2820687247.py:21: FutureWarning: The frame.append method is deprecated and will be removed from pandas in a future version. Use pandas.concat instead.\n",
      "  results.append({\"mse\":mse, \"accuracy\":acc},ignore_index=True )\n",
      "/var/folders/xd/39vn4ttx5239g2gxfkr0tm_r0000gn/T/ipykernel_47487/2820687247.py:21: FutureWarning: The frame.append method is deprecated and will be removed from pandas in a future version. Use pandas.concat instead.\n",
      "  results.append({\"mse\":mse, \"accuracy\":acc},ignore_index=True )\n",
      "/var/folders/xd/39vn4ttx5239g2gxfkr0tm_r0000gn/T/ipykernel_47487/2820687247.py:21: FutureWarning: The frame.append method is deprecated and will be removed from pandas in a future version. Use pandas.concat instead.\n",
      "  results.append({\"mse\":mse, \"accuracy\":acc},ignore_index=True )\n",
      "/var/folders/xd/39vn4ttx5239g2gxfkr0tm_r0000gn/T/ipykernel_47487/2820687247.py:21: FutureWarning: The frame.append method is deprecated and will be removed from pandas in a future version. Use pandas.concat instead.\n",
      "  results.append({\"mse\":mse, \"accuracy\":acc},ignore_index=True )\n",
      "/var/folders/xd/39vn4ttx5239g2gxfkr0tm_r0000gn/T/ipykernel_47487/2820687247.py:21: FutureWarning: The frame.append method is deprecated and will be removed from pandas in a future version. Use pandas.concat instead.\n",
      "  results.append({\"mse\":mse, \"accuracy\":acc},ignore_index=True )\n",
      "/var/folders/xd/39vn4ttx5239g2gxfkr0tm_r0000gn/T/ipykernel_47487/2820687247.py:21: FutureWarning: The frame.append method is deprecated and will be removed from pandas in a future version. Use pandas.concat instead.\n",
      "  results.append({\"mse\":mse, \"accuracy\":acc},ignore_index=True )\n",
      "/var/folders/xd/39vn4ttx5239g2gxfkr0tm_r0000gn/T/ipykernel_47487/2820687247.py:21: FutureWarning: The frame.append method is deprecated and will be removed from pandas in a future version. Use pandas.concat instead.\n",
      "  results.append({\"mse\":mse, \"accuracy\":acc},ignore_index=True )\n",
      "/var/folders/xd/39vn4ttx5239g2gxfkr0tm_r0000gn/T/ipykernel_47487/2820687247.py:21: FutureWarning: The frame.append method is deprecated and will be removed from pandas in a future version. Use pandas.concat instead.\n",
      "  results.append({\"mse\":mse, \"accuracy\":acc},ignore_index=True )\n",
      "/var/folders/xd/39vn4ttx5239g2gxfkr0tm_r0000gn/T/ipykernel_47487/2820687247.py:21: FutureWarning: The frame.append method is deprecated and will be removed from pandas in a future version. Use pandas.concat instead.\n",
      "  results.append({\"mse\":mse, \"accuracy\":acc},ignore_index=True )\n",
      "/var/folders/xd/39vn4ttx5239g2gxfkr0tm_r0000gn/T/ipykernel_47487/2820687247.py:21: FutureWarning: The frame.append method is deprecated and will be removed from pandas in a future version. Use pandas.concat instead.\n",
      "  results.append({\"mse\":mse, \"accuracy\":acc},ignore_index=True )\n"
     ]
    },
    {
     "name": "stdout",
     "output_type": "stream",
     "text": [
      "1.7717987045341306 0.009466865969108122\n",
      "1.7717987045341306 0.009466865969108122\n",
      "1.7717987045341306 0.009466865969108122\n",
      "1.7717987045341306 0.009466865969108122\n",
      "1.7717987045341306 0.009466865969108122\n",
      "1.7717987045341306 0.009466865969108122\n",
      "1.7717987045341306 0.009466865969108122\n",
      "1.7717987045341306 0.009466865969108122\n",
      "1.7717987045341306 0.009466865969108122\n",
      "1.7717987045341306 0.009466865969108122\n"
     ]
    },
    {
     "name": "stderr",
     "output_type": "stream",
     "text": [
      "/var/folders/xd/39vn4ttx5239g2gxfkr0tm_r0000gn/T/ipykernel_47487/2820687247.py:21: FutureWarning: The frame.append method is deprecated and will be removed from pandas in a future version. Use pandas.concat instead.\n",
      "  results.append({\"mse\":mse, \"accuracy\":acc},ignore_index=True )\n",
      "/var/folders/xd/39vn4ttx5239g2gxfkr0tm_r0000gn/T/ipykernel_47487/2820687247.py:21: FutureWarning: The frame.append method is deprecated and will be removed from pandas in a future version. Use pandas.concat instead.\n",
      "  results.append({\"mse\":mse, \"accuracy\":acc},ignore_index=True )\n",
      "/var/folders/xd/39vn4ttx5239g2gxfkr0tm_r0000gn/T/ipykernel_47487/2820687247.py:21: FutureWarning: The frame.append method is deprecated and will be removed from pandas in a future version. Use pandas.concat instead.\n",
      "  results.append({\"mse\":mse, \"accuracy\":acc},ignore_index=True )\n",
      "/var/folders/xd/39vn4ttx5239g2gxfkr0tm_r0000gn/T/ipykernel_47487/2820687247.py:21: FutureWarning: The frame.append method is deprecated and will be removed from pandas in a future version. Use pandas.concat instead.\n",
      "  results.append({\"mse\":mse, \"accuracy\":acc},ignore_index=True )\n",
      "/var/folders/xd/39vn4ttx5239g2gxfkr0tm_r0000gn/T/ipykernel_47487/2820687247.py:21: FutureWarning: The frame.append method is deprecated and will be removed from pandas in a future version. Use pandas.concat instead.\n",
      "  results.append({\"mse\":mse, \"accuracy\":acc},ignore_index=True )\n",
      "/var/folders/xd/39vn4ttx5239g2gxfkr0tm_r0000gn/T/ipykernel_47487/2820687247.py:21: FutureWarning: The frame.append method is deprecated and will be removed from pandas in a future version. Use pandas.concat instead.\n",
      "  results.append({\"mse\":mse, \"accuracy\":acc},ignore_index=True )\n",
      "/var/folders/xd/39vn4ttx5239g2gxfkr0tm_r0000gn/T/ipykernel_47487/2820687247.py:21: FutureWarning: The frame.append method is deprecated and will be removed from pandas in a future version. Use pandas.concat instead.\n",
      "  results.append({\"mse\":mse, \"accuracy\":acc},ignore_index=True )\n",
      "/var/folders/xd/39vn4ttx5239g2gxfkr0tm_r0000gn/T/ipykernel_47487/2820687247.py:21: FutureWarning: The frame.append method is deprecated and will be removed from pandas in a future version. Use pandas.concat instead.\n",
      "  results.append({\"mse\":mse, \"accuracy\":acc},ignore_index=True )\n",
      "/var/folders/xd/39vn4ttx5239g2gxfkr0tm_r0000gn/T/ipykernel_47487/2820687247.py:21: FutureWarning: The frame.append method is deprecated and will be removed from pandas in a future version. Use pandas.concat instead.\n",
      "  results.append({\"mse\":mse, \"accuracy\":acc},ignore_index=True )\n",
      "/var/folders/xd/39vn4ttx5239g2gxfkr0tm_r0000gn/T/ipykernel_47487/2820687247.py:21: FutureWarning: The frame.append method is deprecated and will be removed from pandas in a future version. Use pandas.concat instead.\n",
      "  results.append({\"mse\":mse, \"accuracy\":acc},ignore_index=True )\n"
     ]
    },
    {
     "name": "stdout",
     "output_type": "stream",
     "text": [
      "1.7717987045341306 0.009466865969108122\n",
      "1.7717987045341306 0.009466865969108122\n",
      "1.7717987045341306 0.009466865969108122\n",
      "1.7717987045341306 0.009466865969108122\n",
      "1.7717987045341306 0.009466865969108122\n",
      "1.7717987045341306 0.009466865969108122\n",
      "1.7717987045341306 0.009466865969108122\n",
      "1.7717987045341306 0.009466865969108122\n",
      "1.7717987045341306 0.009466865969108122\n",
      "1.7717987045341306 0.009466865969108122\n"
     ]
    },
    {
     "name": "stderr",
     "output_type": "stream",
     "text": [
      "/var/folders/xd/39vn4ttx5239g2gxfkr0tm_r0000gn/T/ipykernel_47487/2820687247.py:21: FutureWarning: The frame.append method is deprecated and will be removed from pandas in a future version. Use pandas.concat instead.\n",
      "  results.append({\"mse\":mse, \"accuracy\":acc},ignore_index=True )\n",
      "/var/folders/xd/39vn4ttx5239g2gxfkr0tm_r0000gn/T/ipykernel_47487/2820687247.py:21: FutureWarning: The frame.append method is deprecated and will be removed from pandas in a future version. Use pandas.concat instead.\n",
      "  results.append({\"mse\":mse, \"accuracy\":acc},ignore_index=True )\n",
      "/var/folders/xd/39vn4ttx5239g2gxfkr0tm_r0000gn/T/ipykernel_47487/2820687247.py:21: FutureWarning: The frame.append method is deprecated and will be removed from pandas in a future version. Use pandas.concat instead.\n",
      "  results.append({\"mse\":mse, \"accuracy\":acc},ignore_index=True )\n",
      "/var/folders/xd/39vn4ttx5239g2gxfkr0tm_r0000gn/T/ipykernel_47487/2820687247.py:21: FutureWarning: The frame.append method is deprecated and will be removed from pandas in a future version. Use pandas.concat instead.\n",
      "  results.append({\"mse\":mse, \"accuracy\":acc},ignore_index=True )\n",
      "/var/folders/xd/39vn4ttx5239g2gxfkr0tm_r0000gn/T/ipykernel_47487/2820687247.py:21: FutureWarning: The frame.append method is deprecated and will be removed from pandas in a future version. Use pandas.concat instead.\n",
      "  results.append({\"mse\":mse, \"accuracy\":acc},ignore_index=True )\n",
      "/var/folders/xd/39vn4ttx5239g2gxfkr0tm_r0000gn/T/ipykernel_47487/2820687247.py:21: FutureWarning: The frame.append method is deprecated and will be removed from pandas in a future version. Use pandas.concat instead.\n",
      "  results.append({\"mse\":mse, \"accuracy\":acc},ignore_index=True )\n",
      "/var/folders/xd/39vn4ttx5239g2gxfkr0tm_r0000gn/T/ipykernel_47487/2820687247.py:21: FutureWarning: The frame.append method is deprecated and will be removed from pandas in a future version. Use pandas.concat instead.\n",
      "  results.append({\"mse\":mse, \"accuracy\":acc},ignore_index=True )\n",
      "/var/folders/xd/39vn4ttx5239g2gxfkr0tm_r0000gn/T/ipykernel_47487/2820687247.py:21: FutureWarning: The frame.append method is deprecated and will be removed from pandas in a future version. Use pandas.concat instead.\n",
      "  results.append({\"mse\":mse, \"accuracy\":acc},ignore_index=True )\n",
      "/var/folders/xd/39vn4ttx5239g2gxfkr0tm_r0000gn/T/ipykernel_47487/2820687247.py:21: FutureWarning: The frame.append method is deprecated and will be removed from pandas in a future version. Use pandas.concat instead.\n",
      "  results.append({\"mse\":mse, \"accuracy\":acc},ignore_index=True )\n",
      "/var/folders/xd/39vn4ttx5239g2gxfkr0tm_r0000gn/T/ipykernel_47487/2820687247.py:21: FutureWarning: The frame.append method is deprecated and will be removed from pandas in a future version. Use pandas.concat instead.\n",
      "  results.append({\"mse\":mse, \"accuracy\":acc},ignore_index=True )\n"
     ]
    },
    {
     "name": "stdout",
     "output_type": "stream",
     "text": [
      "1.7717987045341306 0.009466865969108122\n",
      "1.7717987045341306 0.009466865969108122\n",
      "1.7717987045341306 0.009466865969108122\n",
      "1.7717987045341306 0.009466865969108122\n",
      "1.7717987045341306 0.009466865969108122\n",
      "1.7717987045341306 0.009466865969108122\n",
      "1.7717987045341306 0.009466865969108122\n",
      "1.7717987045341306 0.009466865969108122\n",
      "1.7717987045341306 0.009466865969108122\n",
      "1.7717987045341306 0.009466865969108122\n"
     ]
    },
    {
     "name": "stderr",
     "output_type": "stream",
     "text": [
      "/var/folders/xd/39vn4ttx5239g2gxfkr0tm_r0000gn/T/ipykernel_47487/2820687247.py:21: FutureWarning: The frame.append method is deprecated and will be removed from pandas in a future version. Use pandas.concat instead.\n",
      "  results.append({\"mse\":mse, \"accuracy\":acc},ignore_index=True )\n",
      "/var/folders/xd/39vn4ttx5239g2gxfkr0tm_r0000gn/T/ipykernel_47487/2820687247.py:21: FutureWarning: The frame.append method is deprecated and will be removed from pandas in a future version. Use pandas.concat instead.\n",
      "  results.append({\"mse\":mse, \"accuracy\":acc},ignore_index=True )\n",
      "/var/folders/xd/39vn4ttx5239g2gxfkr0tm_r0000gn/T/ipykernel_47487/2820687247.py:21: FutureWarning: The frame.append method is deprecated and will be removed from pandas in a future version. Use pandas.concat instead.\n",
      "  results.append({\"mse\":mse, \"accuracy\":acc},ignore_index=True )\n",
      "/var/folders/xd/39vn4ttx5239g2gxfkr0tm_r0000gn/T/ipykernel_47487/2820687247.py:21: FutureWarning: The frame.append method is deprecated and will be removed from pandas in a future version. Use pandas.concat instead.\n",
      "  results.append({\"mse\":mse, \"accuracy\":acc},ignore_index=True )\n",
      "/var/folders/xd/39vn4ttx5239g2gxfkr0tm_r0000gn/T/ipykernel_47487/2820687247.py:21: FutureWarning: The frame.append method is deprecated and will be removed from pandas in a future version. Use pandas.concat instead.\n",
      "  results.append({\"mse\":mse, \"accuracy\":acc},ignore_index=True )\n",
      "/var/folders/xd/39vn4ttx5239g2gxfkr0tm_r0000gn/T/ipykernel_47487/2820687247.py:21: FutureWarning: The frame.append method is deprecated and will be removed from pandas in a future version. Use pandas.concat instead.\n",
      "  results.append({\"mse\":mse, \"accuracy\":acc},ignore_index=True )\n",
      "/var/folders/xd/39vn4ttx5239g2gxfkr0tm_r0000gn/T/ipykernel_47487/2820687247.py:21: FutureWarning: The frame.append method is deprecated and will be removed from pandas in a future version. Use pandas.concat instead.\n",
      "  results.append({\"mse\":mse, \"accuracy\":acc},ignore_index=True )\n",
      "/var/folders/xd/39vn4ttx5239g2gxfkr0tm_r0000gn/T/ipykernel_47487/2820687247.py:21: FutureWarning: The frame.append method is deprecated and will be removed from pandas in a future version. Use pandas.concat instead.\n",
      "  results.append({\"mse\":mse, \"accuracy\":acc},ignore_index=True )\n",
      "/var/folders/xd/39vn4ttx5239g2gxfkr0tm_r0000gn/T/ipykernel_47487/2820687247.py:21: FutureWarning: The frame.append method is deprecated and will be removed from pandas in a future version. Use pandas.concat instead.\n",
      "  results.append({\"mse\":mse, \"accuracy\":acc},ignore_index=True )\n",
      "/var/folders/xd/39vn4ttx5239g2gxfkr0tm_r0000gn/T/ipykernel_47487/2820687247.py:21: FutureWarning: The frame.append method is deprecated and will be removed from pandas in a future version. Use pandas.concat instead.\n",
      "  results.append({\"mse\":mse, \"accuracy\":acc},ignore_index=True )\n"
     ]
    },
    {
     "name": "stdout",
     "output_type": "stream",
     "text": [
      "1.7717987045341306 0.009466865969108122\n",
      "1.7717987045341306 0.009466865969108122\n",
      "1.7717987045341306 0.009466865969108122\n",
      "1.7717987045341306 0.009466865969108122\n",
      "1.7717987045341306 0.009466865969108122\n",
      "1.7717987045341306 0.009466865969108122\n",
      "1.7717987045341306 0.009466865969108122\n",
      "1.7717987045341306 0.009466865969108122\n",
      "1.7717987045341306 0.009466865969108122\n",
      "1.7717987045341306 0.009466865969108122\n"
     ]
    },
    {
     "name": "stderr",
     "output_type": "stream",
     "text": [
      "/var/folders/xd/39vn4ttx5239g2gxfkr0tm_r0000gn/T/ipykernel_47487/2820687247.py:21: FutureWarning: The frame.append method is deprecated and will be removed from pandas in a future version. Use pandas.concat instead.\n",
      "  results.append({\"mse\":mse, \"accuracy\":acc},ignore_index=True )\n",
      "/var/folders/xd/39vn4ttx5239g2gxfkr0tm_r0000gn/T/ipykernel_47487/2820687247.py:21: FutureWarning: The frame.append method is deprecated and will be removed from pandas in a future version. Use pandas.concat instead.\n",
      "  results.append({\"mse\":mse, \"accuracy\":acc},ignore_index=True )\n",
      "/var/folders/xd/39vn4ttx5239g2gxfkr0tm_r0000gn/T/ipykernel_47487/2820687247.py:21: FutureWarning: The frame.append method is deprecated and will be removed from pandas in a future version. Use pandas.concat instead.\n",
      "  results.append({\"mse\":mse, \"accuracy\":acc},ignore_index=True )\n",
      "/var/folders/xd/39vn4ttx5239g2gxfkr0tm_r0000gn/T/ipykernel_47487/2820687247.py:21: FutureWarning: The frame.append method is deprecated and will be removed from pandas in a future version. Use pandas.concat instead.\n",
      "  results.append({\"mse\":mse, \"accuracy\":acc},ignore_index=True )\n",
      "/var/folders/xd/39vn4ttx5239g2gxfkr0tm_r0000gn/T/ipykernel_47487/2820687247.py:21: FutureWarning: The frame.append method is deprecated and will be removed from pandas in a future version. Use pandas.concat instead.\n",
      "  results.append({\"mse\":mse, \"accuracy\":acc},ignore_index=True )\n",
      "/var/folders/xd/39vn4ttx5239g2gxfkr0tm_r0000gn/T/ipykernel_47487/2820687247.py:21: FutureWarning: The frame.append method is deprecated and will be removed from pandas in a future version. Use pandas.concat instead.\n",
      "  results.append({\"mse\":mse, \"accuracy\":acc},ignore_index=True )\n",
      "/var/folders/xd/39vn4ttx5239g2gxfkr0tm_r0000gn/T/ipykernel_47487/2820687247.py:21: FutureWarning: The frame.append method is deprecated and will be removed from pandas in a future version. Use pandas.concat instead.\n",
      "  results.append({\"mse\":mse, \"accuracy\":acc},ignore_index=True )\n",
      "/var/folders/xd/39vn4ttx5239g2gxfkr0tm_r0000gn/T/ipykernel_47487/2820687247.py:21: FutureWarning: The frame.append method is deprecated and will be removed from pandas in a future version. Use pandas.concat instead.\n",
      "  results.append({\"mse\":mse, \"accuracy\":acc},ignore_index=True )\n",
      "/var/folders/xd/39vn4ttx5239g2gxfkr0tm_r0000gn/T/ipykernel_47487/2820687247.py:21: FutureWarning: The frame.append method is deprecated and will be removed from pandas in a future version. Use pandas.concat instead.\n",
      "  results.append({\"mse\":mse, \"accuracy\":acc},ignore_index=True )\n",
      "/var/folders/xd/39vn4ttx5239g2gxfkr0tm_r0000gn/T/ipykernel_47487/2820687247.py:21: FutureWarning: The frame.append method is deprecated and will be removed from pandas in a future version. Use pandas.concat instead.\n",
      "  results.append({\"mse\":mse, \"accuracy\":acc},ignore_index=True )\n"
     ]
    },
    {
     "name": "stdout",
     "output_type": "stream",
     "text": [
      "1.7717987045341306 0.009466865969108122\n",
      "1.7717987045341306 0.009466865969108122\n",
      "1.7717987045341306 0.009466865969108122\n",
      "1.7717987045341306 0.009466865969108122\n",
      "1.7717987045341306 0.009466865969108122\n",
      "1.7717987045341306 0.009466865969108122\n",
      "1.7717987045341306 0.009466865969108122\n",
      "1.7717987045341306 0.009466865969108122\n",
      "1.7717987045341306 0.009466865969108122\n",
      "1.7717987045341306 0.009466865969108122\n"
     ]
    },
    {
     "name": "stderr",
     "output_type": "stream",
     "text": [
      "/var/folders/xd/39vn4ttx5239g2gxfkr0tm_r0000gn/T/ipykernel_47487/2820687247.py:21: FutureWarning: The frame.append method is deprecated and will be removed from pandas in a future version. Use pandas.concat instead.\n",
      "  results.append({\"mse\":mse, \"accuracy\":acc},ignore_index=True )\n",
      "/var/folders/xd/39vn4ttx5239g2gxfkr0tm_r0000gn/T/ipykernel_47487/2820687247.py:21: FutureWarning: The frame.append method is deprecated and will be removed from pandas in a future version. Use pandas.concat instead.\n",
      "  results.append({\"mse\":mse, \"accuracy\":acc},ignore_index=True )\n",
      "/var/folders/xd/39vn4ttx5239g2gxfkr0tm_r0000gn/T/ipykernel_47487/2820687247.py:21: FutureWarning: The frame.append method is deprecated and will be removed from pandas in a future version. Use pandas.concat instead.\n",
      "  results.append({\"mse\":mse, \"accuracy\":acc},ignore_index=True )\n",
      "/var/folders/xd/39vn4ttx5239g2gxfkr0tm_r0000gn/T/ipykernel_47487/2820687247.py:21: FutureWarning: The frame.append method is deprecated and will be removed from pandas in a future version. Use pandas.concat instead.\n",
      "  results.append({\"mse\":mse, \"accuracy\":acc},ignore_index=True )\n",
      "/var/folders/xd/39vn4ttx5239g2gxfkr0tm_r0000gn/T/ipykernel_47487/2820687247.py:21: FutureWarning: The frame.append method is deprecated and will be removed from pandas in a future version. Use pandas.concat instead.\n",
      "  results.append({\"mse\":mse, \"accuracy\":acc},ignore_index=True )\n",
      "/var/folders/xd/39vn4ttx5239g2gxfkr0tm_r0000gn/T/ipykernel_47487/2820687247.py:21: FutureWarning: The frame.append method is deprecated and will be removed from pandas in a future version. Use pandas.concat instead.\n",
      "  results.append({\"mse\":mse, \"accuracy\":acc},ignore_index=True )\n",
      "/var/folders/xd/39vn4ttx5239g2gxfkr0tm_r0000gn/T/ipykernel_47487/2820687247.py:21: FutureWarning: The frame.append method is deprecated and will be removed from pandas in a future version. Use pandas.concat instead.\n",
      "  results.append({\"mse\":mse, \"accuracy\":acc},ignore_index=True )\n",
      "/var/folders/xd/39vn4ttx5239g2gxfkr0tm_r0000gn/T/ipykernel_47487/2820687247.py:21: FutureWarning: The frame.append method is deprecated and will be removed from pandas in a future version. Use pandas.concat instead.\n",
      "  results.append({\"mse\":mse, \"accuracy\":acc},ignore_index=True )\n",
      "/var/folders/xd/39vn4ttx5239g2gxfkr0tm_r0000gn/T/ipykernel_47487/2820687247.py:21: FutureWarning: The frame.append method is deprecated and will be removed from pandas in a future version. Use pandas.concat instead.\n",
      "  results.append({\"mse\":mse, \"accuracy\":acc},ignore_index=True )\n",
      "/var/folders/xd/39vn4ttx5239g2gxfkr0tm_r0000gn/T/ipykernel_47487/2820687247.py:21: FutureWarning: The frame.append method is deprecated and will be removed from pandas in a future version. Use pandas.concat instead.\n",
      "  results.append({\"mse\":mse, \"accuracy\":acc},ignore_index=True )\n"
     ]
    },
    {
     "name": "stdout",
     "output_type": "stream",
     "text": [
      "1.7717987045341306 0.009466865969108122\n",
      "1.7717987045341306 0.009466865969108122\n",
      "1.7717987045341306 0.009466865969108122\n",
      "1.7717987045341306 0.009466865969108122\n",
      "1.7717987045341306 0.009466865969108122\n",
      "1.7717987045341306 0.009466865969108122\n",
      "1.7717987045341306 0.009466865969108122\n",
      "1.7717987045341306 0.009466865969108122\n",
      "1.7717987045341306 0.009466865969108122\n",
      "1.7717987045341306 0.009466865969108122\n"
     ]
    },
    {
     "name": "stderr",
     "output_type": "stream",
     "text": [
      "/var/folders/xd/39vn4ttx5239g2gxfkr0tm_r0000gn/T/ipykernel_47487/2820687247.py:21: FutureWarning: The frame.append method is deprecated and will be removed from pandas in a future version. Use pandas.concat instead.\n",
      "  results.append({\"mse\":mse, \"accuracy\":acc},ignore_index=True )\n",
      "/var/folders/xd/39vn4ttx5239g2gxfkr0tm_r0000gn/T/ipykernel_47487/2820687247.py:21: FutureWarning: The frame.append method is deprecated and will be removed from pandas in a future version. Use pandas.concat instead.\n",
      "  results.append({\"mse\":mse, \"accuracy\":acc},ignore_index=True )\n",
      "/var/folders/xd/39vn4ttx5239g2gxfkr0tm_r0000gn/T/ipykernel_47487/2820687247.py:21: FutureWarning: The frame.append method is deprecated and will be removed from pandas in a future version. Use pandas.concat instead.\n",
      "  results.append({\"mse\":mse, \"accuracy\":acc},ignore_index=True )\n",
      "/var/folders/xd/39vn4ttx5239g2gxfkr0tm_r0000gn/T/ipykernel_47487/2820687247.py:21: FutureWarning: The frame.append method is deprecated and will be removed from pandas in a future version. Use pandas.concat instead.\n",
      "  results.append({\"mse\":mse, \"accuracy\":acc},ignore_index=True )\n",
      "/var/folders/xd/39vn4ttx5239g2gxfkr0tm_r0000gn/T/ipykernel_47487/2820687247.py:21: FutureWarning: The frame.append method is deprecated and will be removed from pandas in a future version. Use pandas.concat instead.\n",
      "  results.append({\"mse\":mse, \"accuracy\":acc},ignore_index=True )\n",
      "/var/folders/xd/39vn4ttx5239g2gxfkr0tm_r0000gn/T/ipykernel_47487/2820687247.py:21: FutureWarning: The frame.append method is deprecated and will be removed from pandas in a future version. Use pandas.concat instead.\n",
      "  results.append({\"mse\":mse, \"accuracy\":acc},ignore_index=True )\n",
      "/var/folders/xd/39vn4ttx5239g2gxfkr0tm_r0000gn/T/ipykernel_47487/2820687247.py:21: FutureWarning: The frame.append method is deprecated and will be removed from pandas in a future version. Use pandas.concat instead.\n",
      "  results.append({\"mse\":mse, \"accuracy\":acc},ignore_index=True )\n",
      "/var/folders/xd/39vn4ttx5239g2gxfkr0tm_r0000gn/T/ipykernel_47487/2820687247.py:21: FutureWarning: The frame.append method is deprecated and will be removed from pandas in a future version. Use pandas.concat instead.\n",
      "  results.append({\"mse\":mse, \"accuracy\":acc},ignore_index=True )\n",
      "/var/folders/xd/39vn4ttx5239g2gxfkr0tm_r0000gn/T/ipykernel_47487/2820687247.py:21: FutureWarning: The frame.append method is deprecated and will be removed from pandas in a future version. Use pandas.concat instead.\n",
      "  results.append({\"mse\":mse, \"accuracy\":acc},ignore_index=True )\n",
      "/var/folders/xd/39vn4ttx5239g2gxfkr0tm_r0000gn/T/ipykernel_47487/2820687247.py:21: FutureWarning: The frame.append method is deprecated and will be removed from pandas in a future version. Use pandas.concat instead.\n",
      "  results.append({\"mse\":mse, \"accuracy\":acc},ignore_index=True )\n"
     ]
    },
    {
     "name": "stdout",
     "output_type": "stream",
     "text": [
      "1.7717987045341306 0.009466865969108122\n",
      "1.7717987045341306 0.009466865969108122\n",
      "1.7717987045341306 0.009466865969108122\n",
      "1.7717987045341306 0.009466865969108122\n",
      "1.7717987045341306 0.009466865969108122\n",
      "1.7717987045341306 0.009466865969108122\n",
      "1.7717987045341306 0.009466865969108122\n",
      "1.7717987045341306 0.009466865969108122\n",
      "1.7717987045341306 0.009466865969108122\n",
      "1.7717987045341306 0.009466865969108122\n"
     ]
    },
    {
     "name": "stderr",
     "output_type": "stream",
     "text": [
      "/var/folders/xd/39vn4ttx5239g2gxfkr0tm_r0000gn/T/ipykernel_47487/2820687247.py:21: FutureWarning: The frame.append method is deprecated and will be removed from pandas in a future version. Use pandas.concat instead.\n",
      "  results.append({\"mse\":mse, \"accuracy\":acc},ignore_index=True )\n",
      "/var/folders/xd/39vn4ttx5239g2gxfkr0tm_r0000gn/T/ipykernel_47487/2820687247.py:21: FutureWarning: The frame.append method is deprecated and will be removed from pandas in a future version. Use pandas.concat instead.\n",
      "  results.append({\"mse\":mse, \"accuracy\":acc},ignore_index=True )\n",
      "/var/folders/xd/39vn4ttx5239g2gxfkr0tm_r0000gn/T/ipykernel_47487/2820687247.py:21: FutureWarning: The frame.append method is deprecated and will be removed from pandas in a future version. Use pandas.concat instead.\n",
      "  results.append({\"mse\":mse, \"accuracy\":acc},ignore_index=True )\n",
      "/var/folders/xd/39vn4ttx5239g2gxfkr0tm_r0000gn/T/ipykernel_47487/2820687247.py:21: FutureWarning: The frame.append method is deprecated and will be removed from pandas in a future version. Use pandas.concat instead.\n",
      "  results.append({\"mse\":mse, \"accuracy\":acc},ignore_index=True )\n",
      "/var/folders/xd/39vn4ttx5239g2gxfkr0tm_r0000gn/T/ipykernel_47487/2820687247.py:21: FutureWarning: The frame.append method is deprecated and will be removed from pandas in a future version. Use pandas.concat instead.\n",
      "  results.append({\"mse\":mse, \"accuracy\":acc},ignore_index=True )\n",
      "/var/folders/xd/39vn4ttx5239g2gxfkr0tm_r0000gn/T/ipykernel_47487/2820687247.py:21: FutureWarning: The frame.append method is deprecated and will be removed from pandas in a future version. Use pandas.concat instead.\n",
      "  results.append({\"mse\":mse, \"accuracy\":acc},ignore_index=True )\n",
      "/var/folders/xd/39vn4ttx5239g2gxfkr0tm_r0000gn/T/ipykernel_47487/2820687247.py:21: FutureWarning: The frame.append method is deprecated and will be removed from pandas in a future version. Use pandas.concat instead.\n",
      "  results.append({\"mse\":mse, \"accuracy\":acc},ignore_index=True )\n",
      "/var/folders/xd/39vn4ttx5239g2gxfkr0tm_r0000gn/T/ipykernel_47487/2820687247.py:21: FutureWarning: The frame.append method is deprecated and will be removed from pandas in a future version. Use pandas.concat instead.\n",
      "  results.append({\"mse\":mse, \"accuracy\":acc},ignore_index=True )\n",
      "/var/folders/xd/39vn4ttx5239g2gxfkr0tm_r0000gn/T/ipykernel_47487/2820687247.py:21: FutureWarning: The frame.append method is deprecated and will be removed from pandas in a future version. Use pandas.concat instead.\n",
      "  results.append({\"mse\":mse, \"accuracy\":acc},ignore_index=True )\n",
      "/var/folders/xd/39vn4ttx5239g2gxfkr0tm_r0000gn/T/ipykernel_47487/2820687247.py:21: FutureWarning: The frame.append method is deprecated and will be removed from pandas in a future version. Use pandas.concat instead.\n",
      "  results.append({\"mse\":mse, \"accuracy\":acc},ignore_index=True )\n"
     ]
    },
    {
     "name": "stdout",
     "output_type": "stream",
     "text": [
      "1.7717987045341306 0.009466865969108122\n",
      "1.7717987045341306 0.009466865969108122\n",
      "1.7717987045341306 0.009466865969108122\n",
      "1.7717987045341306 0.009466865969108122\n",
      "1.7717987045341306 0.009466865969108122\n",
      "1.7717987045341306 0.009466865969108122\n",
      "1.7717987045341306 0.009466865969108122\n",
      "1.7717987045341306 0.009466865969108122\n",
      "1.7717987045341306 0.009466865969108122\n",
      "1.7717987045341306 0.009466865969108122\n"
     ]
    },
    {
     "name": "stderr",
     "output_type": "stream",
     "text": [
      "/var/folders/xd/39vn4ttx5239g2gxfkr0tm_r0000gn/T/ipykernel_47487/2820687247.py:21: FutureWarning: The frame.append method is deprecated and will be removed from pandas in a future version. Use pandas.concat instead.\n",
      "  results.append({\"mse\":mse, \"accuracy\":acc},ignore_index=True )\n",
      "/var/folders/xd/39vn4ttx5239g2gxfkr0tm_r0000gn/T/ipykernel_47487/2820687247.py:21: FutureWarning: The frame.append method is deprecated and will be removed from pandas in a future version. Use pandas.concat instead.\n",
      "  results.append({\"mse\":mse, \"accuracy\":acc},ignore_index=True )\n",
      "/var/folders/xd/39vn4ttx5239g2gxfkr0tm_r0000gn/T/ipykernel_47487/2820687247.py:21: FutureWarning: The frame.append method is deprecated and will be removed from pandas in a future version. Use pandas.concat instead.\n",
      "  results.append({\"mse\":mse, \"accuracy\":acc},ignore_index=True )\n",
      "/var/folders/xd/39vn4ttx5239g2gxfkr0tm_r0000gn/T/ipykernel_47487/2820687247.py:21: FutureWarning: The frame.append method is deprecated and will be removed from pandas in a future version. Use pandas.concat instead.\n",
      "  results.append({\"mse\":mse, \"accuracy\":acc},ignore_index=True )\n",
      "/var/folders/xd/39vn4ttx5239g2gxfkr0tm_r0000gn/T/ipykernel_47487/2820687247.py:21: FutureWarning: The frame.append method is deprecated and will be removed from pandas in a future version. Use pandas.concat instead.\n",
      "  results.append({\"mse\":mse, \"accuracy\":acc},ignore_index=True )\n",
      "/var/folders/xd/39vn4ttx5239g2gxfkr0tm_r0000gn/T/ipykernel_47487/2820687247.py:21: FutureWarning: The frame.append method is deprecated and will be removed from pandas in a future version. Use pandas.concat instead.\n",
      "  results.append({\"mse\":mse, \"accuracy\":acc},ignore_index=True )\n",
      "/var/folders/xd/39vn4ttx5239g2gxfkr0tm_r0000gn/T/ipykernel_47487/2820687247.py:21: FutureWarning: The frame.append method is deprecated and will be removed from pandas in a future version. Use pandas.concat instead.\n",
      "  results.append({\"mse\":mse, \"accuracy\":acc},ignore_index=True )\n",
      "/var/folders/xd/39vn4ttx5239g2gxfkr0tm_r0000gn/T/ipykernel_47487/2820687247.py:21: FutureWarning: The frame.append method is deprecated and will be removed from pandas in a future version. Use pandas.concat instead.\n",
      "  results.append({\"mse\":mse, \"accuracy\":acc},ignore_index=True )\n",
      "/var/folders/xd/39vn4ttx5239g2gxfkr0tm_r0000gn/T/ipykernel_47487/2820687247.py:21: FutureWarning: The frame.append method is deprecated and will be removed from pandas in a future version. Use pandas.concat instead.\n",
      "  results.append({\"mse\":mse, \"accuracy\":acc},ignore_index=True )\n",
      "/var/folders/xd/39vn4ttx5239g2gxfkr0tm_r0000gn/T/ipykernel_47487/2820687247.py:21: FutureWarning: The frame.append method is deprecated and will be removed from pandas in a future version. Use pandas.concat instead.\n",
      "  results.append({\"mse\":mse, \"accuracy\":acc},ignore_index=True )\n"
     ]
    },
    {
     "name": "stdout",
     "output_type": "stream",
     "text": [
      "1.7717987045341306 0.009466865969108122\n",
      "1.7717987045341306 0.009466865969108122\n",
      "1.7717987045341306 0.009466865969108122\n",
      "1.7717987045341306 0.009466865969108122\n",
      "1.7717987045341306 0.009466865969108122\n",
      "1.7717987045341306 0.009466865969108122\n",
      "1.7717987045341306 0.009466865969108122\n",
      "1.7717987045341306 0.009466865969108122\n",
      "1.7717987045341306 0.009466865969108122\n",
      "1.7717987045341306 0.009466865969108122\n"
     ]
    },
    {
     "name": "stderr",
     "output_type": "stream",
     "text": [
      "/var/folders/xd/39vn4ttx5239g2gxfkr0tm_r0000gn/T/ipykernel_47487/2820687247.py:21: FutureWarning: The frame.append method is deprecated and will be removed from pandas in a future version. Use pandas.concat instead.\n",
      "  results.append({\"mse\":mse, \"accuracy\":acc},ignore_index=True )\n",
      "/var/folders/xd/39vn4ttx5239g2gxfkr0tm_r0000gn/T/ipykernel_47487/2820687247.py:21: FutureWarning: The frame.append method is deprecated and will be removed from pandas in a future version. Use pandas.concat instead.\n",
      "  results.append({\"mse\":mse, \"accuracy\":acc},ignore_index=True )\n",
      "/var/folders/xd/39vn4ttx5239g2gxfkr0tm_r0000gn/T/ipykernel_47487/2820687247.py:21: FutureWarning: The frame.append method is deprecated and will be removed from pandas in a future version. Use pandas.concat instead.\n",
      "  results.append({\"mse\":mse, \"accuracy\":acc},ignore_index=True )\n",
      "/var/folders/xd/39vn4ttx5239g2gxfkr0tm_r0000gn/T/ipykernel_47487/2820687247.py:21: FutureWarning: The frame.append method is deprecated and will be removed from pandas in a future version. Use pandas.concat instead.\n",
      "  results.append({\"mse\":mse, \"accuracy\":acc},ignore_index=True )\n",
      "/var/folders/xd/39vn4ttx5239g2gxfkr0tm_r0000gn/T/ipykernel_47487/2820687247.py:21: FutureWarning: The frame.append method is deprecated and will be removed from pandas in a future version. Use pandas.concat instead.\n",
      "  results.append({\"mse\":mse, \"accuracy\":acc},ignore_index=True )\n",
      "/var/folders/xd/39vn4ttx5239g2gxfkr0tm_r0000gn/T/ipykernel_47487/2820687247.py:21: FutureWarning: The frame.append method is deprecated and will be removed from pandas in a future version. Use pandas.concat instead.\n",
      "  results.append({\"mse\":mse, \"accuracy\":acc},ignore_index=True )\n",
      "/var/folders/xd/39vn4ttx5239g2gxfkr0tm_r0000gn/T/ipykernel_47487/2820687247.py:21: FutureWarning: The frame.append method is deprecated and will be removed from pandas in a future version. Use pandas.concat instead.\n",
      "  results.append({\"mse\":mse, \"accuracy\":acc},ignore_index=True )\n",
      "/var/folders/xd/39vn4ttx5239g2gxfkr0tm_r0000gn/T/ipykernel_47487/2820687247.py:21: FutureWarning: The frame.append method is deprecated and will be removed from pandas in a future version. Use pandas.concat instead.\n",
      "  results.append({\"mse\":mse, \"accuracy\":acc},ignore_index=True )\n",
      "/var/folders/xd/39vn4ttx5239g2gxfkr0tm_r0000gn/T/ipykernel_47487/2820687247.py:21: FutureWarning: The frame.append method is deprecated and will be removed from pandas in a future version. Use pandas.concat instead.\n",
      "  results.append({\"mse\":mse, \"accuracy\":acc},ignore_index=True )\n",
      "/var/folders/xd/39vn4ttx5239g2gxfkr0tm_r0000gn/T/ipykernel_47487/2820687247.py:21: FutureWarning: The frame.append method is deprecated and will be removed from pandas in a future version. Use pandas.concat instead.\n",
      "  results.append({\"mse\":mse, \"accuracy\":acc},ignore_index=True )\n"
     ]
    },
    {
     "name": "stdout",
     "output_type": "stream",
     "text": [
      "1.7717987045341306 0.009466865969108122\n",
      "1.7717987045341306 0.009466865969108122\n",
      "1.7717987045341306 0.009466865969108122\n",
      "1.7717987045341306 0.009466865969108122\n",
      "1.7717987045341306 0.009466865969108122\n",
      "1.7717987045341306 0.009466865969108122\n",
      "1.7717987045341306 0.009466865969108122\n",
      "1.7717987045341306 0.009466865969108122\n",
      "1.7717987045341306 0.009466865969108122\n",
      "1.7717987045341306 0.009466865969108122\n"
     ]
    },
    {
     "name": "stderr",
     "output_type": "stream",
     "text": [
      "/var/folders/xd/39vn4ttx5239g2gxfkr0tm_r0000gn/T/ipykernel_47487/2820687247.py:21: FutureWarning: The frame.append method is deprecated and will be removed from pandas in a future version. Use pandas.concat instead.\n",
      "  results.append({\"mse\":mse, \"accuracy\":acc},ignore_index=True )\n",
      "/var/folders/xd/39vn4ttx5239g2gxfkr0tm_r0000gn/T/ipykernel_47487/2820687247.py:21: FutureWarning: The frame.append method is deprecated and will be removed from pandas in a future version. Use pandas.concat instead.\n",
      "  results.append({\"mse\":mse, \"accuracy\":acc},ignore_index=True )\n",
      "/var/folders/xd/39vn4ttx5239g2gxfkr0tm_r0000gn/T/ipykernel_47487/2820687247.py:21: FutureWarning: The frame.append method is deprecated and will be removed from pandas in a future version. Use pandas.concat instead.\n",
      "  results.append({\"mse\":mse, \"accuracy\":acc},ignore_index=True )\n",
      "/var/folders/xd/39vn4ttx5239g2gxfkr0tm_r0000gn/T/ipykernel_47487/2820687247.py:21: FutureWarning: The frame.append method is deprecated and will be removed from pandas in a future version. Use pandas.concat instead.\n",
      "  results.append({\"mse\":mse, \"accuracy\":acc},ignore_index=True )\n",
      "/var/folders/xd/39vn4ttx5239g2gxfkr0tm_r0000gn/T/ipykernel_47487/2820687247.py:21: FutureWarning: The frame.append method is deprecated and will be removed from pandas in a future version. Use pandas.concat instead.\n",
      "  results.append({\"mse\":mse, \"accuracy\":acc},ignore_index=True )\n",
      "/var/folders/xd/39vn4ttx5239g2gxfkr0tm_r0000gn/T/ipykernel_47487/2820687247.py:21: FutureWarning: The frame.append method is deprecated and will be removed from pandas in a future version. Use pandas.concat instead.\n",
      "  results.append({\"mse\":mse, \"accuracy\":acc},ignore_index=True )\n",
      "/var/folders/xd/39vn4ttx5239g2gxfkr0tm_r0000gn/T/ipykernel_47487/2820687247.py:21: FutureWarning: The frame.append method is deprecated and will be removed from pandas in a future version. Use pandas.concat instead.\n",
      "  results.append({\"mse\":mse, \"accuracy\":acc},ignore_index=True )\n",
      "/var/folders/xd/39vn4ttx5239g2gxfkr0tm_r0000gn/T/ipykernel_47487/2820687247.py:21: FutureWarning: The frame.append method is deprecated and will be removed from pandas in a future version. Use pandas.concat instead.\n",
      "  results.append({\"mse\":mse, \"accuracy\":acc},ignore_index=True )\n",
      "/var/folders/xd/39vn4ttx5239g2gxfkr0tm_r0000gn/T/ipykernel_47487/2820687247.py:21: FutureWarning: The frame.append method is deprecated and will be removed from pandas in a future version. Use pandas.concat instead.\n",
      "  results.append({\"mse\":mse, \"accuracy\":acc},ignore_index=True )\n",
      "/var/folders/xd/39vn4ttx5239g2gxfkr0tm_r0000gn/T/ipykernel_47487/2820687247.py:21: FutureWarning: The frame.append method is deprecated and will be removed from pandas in a future version. Use pandas.concat instead.\n",
      "  results.append({\"mse\":mse, \"accuracy\":acc},ignore_index=True )\n"
     ]
    },
    {
     "name": "stdout",
     "output_type": "stream",
     "text": [
      "1.7717987045341306 0.009466865969108122\n",
      "1.7717987045341306 0.009466865969108122\n",
      "1.7717987045341306 0.009466865969108122\n",
      "1.7717987045341306 0.009466865969108122\n",
      "1.7717987045341306 0.009466865969108122\n",
      "1.7717987045341306 0.009466865969108122\n",
      "1.7717987045341306 0.009466865969108122\n",
      "1.7717987045341306 0.009466865969108122\n",
      "1.7717987045341306 0.009466865969108122\n",
      "1.7717987045341306 0.009466865969108122\n"
     ]
    },
    {
     "name": "stderr",
     "output_type": "stream",
     "text": [
      "/var/folders/xd/39vn4ttx5239g2gxfkr0tm_r0000gn/T/ipykernel_47487/2820687247.py:21: FutureWarning: The frame.append method is deprecated and will be removed from pandas in a future version. Use pandas.concat instead.\n",
      "  results.append({\"mse\":mse, \"accuracy\":acc},ignore_index=True )\n",
      "/var/folders/xd/39vn4ttx5239g2gxfkr0tm_r0000gn/T/ipykernel_47487/2820687247.py:21: FutureWarning: The frame.append method is deprecated and will be removed from pandas in a future version. Use pandas.concat instead.\n",
      "  results.append({\"mse\":mse, \"accuracy\":acc},ignore_index=True )\n",
      "/var/folders/xd/39vn4ttx5239g2gxfkr0tm_r0000gn/T/ipykernel_47487/2820687247.py:21: FutureWarning: The frame.append method is deprecated and will be removed from pandas in a future version. Use pandas.concat instead.\n",
      "  results.append({\"mse\":mse, \"accuracy\":acc},ignore_index=True )\n",
      "/var/folders/xd/39vn4ttx5239g2gxfkr0tm_r0000gn/T/ipykernel_47487/2820687247.py:21: FutureWarning: The frame.append method is deprecated and will be removed from pandas in a future version. Use pandas.concat instead.\n",
      "  results.append({\"mse\":mse, \"accuracy\":acc},ignore_index=True )\n",
      "/var/folders/xd/39vn4ttx5239g2gxfkr0tm_r0000gn/T/ipykernel_47487/2820687247.py:21: FutureWarning: The frame.append method is deprecated and will be removed from pandas in a future version. Use pandas.concat instead.\n",
      "  results.append({\"mse\":mse, \"accuracy\":acc},ignore_index=True )\n",
      "/var/folders/xd/39vn4ttx5239g2gxfkr0tm_r0000gn/T/ipykernel_47487/2820687247.py:21: FutureWarning: The frame.append method is deprecated and will be removed from pandas in a future version. Use pandas.concat instead.\n",
      "  results.append({\"mse\":mse, \"accuracy\":acc},ignore_index=True )\n",
      "/var/folders/xd/39vn4ttx5239g2gxfkr0tm_r0000gn/T/ipykernel_47487/2820687247.py:21: FutureWarning: The frame.append method is deprecated and will be removed from pandas in a future version. Use pandas.concat instead.\n",
      "  results.append({\"mse\":mse, \"accuracy\":acc},ignore_index=True )\n",
      "/var/folders/xd/39vn4ttx5239g2gxfkr0tm_r0000gn/T/ipykernel_47487/2820687247.py:21: FutureWarning: The frame.append method is deprecated and will be removed from pandas in a future version. Use pandas.concat instead.\n",
      "  results.append({\"mse\":mse, \"accuracy\":acc},ignore_index=True )\n",
      "/var/folders/xd/39vn4ttx5239g2gxfkr0tm_r0000gn/T/ipykernel_47487/2820687247.py:21: FutureWarning: The frame.append method is deprecated and will be removed from pandas in a future version. Use pandas.concat instead.\n",
      "  results.append({\"mse\":mse, \"accuracy\":acc},ignore_index=True )\n",
      "/var/folders/xd/39vn4ttx5239g2gxfkr0tm_r0000gn/T/ipykernel_47487/2820687247.py:21: FutureWarning: The frame.append method is deprecated and will be removed from pandas in a future version. Use pandas.concat instead.\n",
      "  results.append({\"mse\":mse, \"accuracy\":acc},ignore_index=True )\n"
     ]
    },
    {
     "name": "stdout",
     "output_type": "stream",
     "text": [
      "1.7717987045341306 0.009466865969108122\n",
      "1.7717987045341306 0.009466865969108122\n",
      "1.7717987045341306 0.009466865969108122\n",
      "1.7717987045341306 0.009466865969108122\n",
      "1.7717987045341306 0.009466865969108122\n",
      "1.7717987045341306 0.009466865969108122\n",
      "1.7717987045341306 0.009466865969108122\n",
      "1.7717987045341306 0.009466865969108122\n",
      "1.7717987045341306 0.009466865969108122\n",
      "1.7717987045341306 0.009466865969108122\n"
     ]
    },
    {
     "name": "stderr",
     "output_type": "stream",
     "text": [
      "/var/folders/xd/39vn4ttx5239g2gxfkr0tm_r0000gn/T/ipykernel_47487/2820687247.py:21: FutureWarning: The frame.append method is deprecated and will be removed from pandas in a future version. Use pandas.concat instead.\n",
      "  results.append({\"mse\":mse, \"accuracy\":acc},ignore_index=True )\n",
      "/var/folders/xd/39vn4ttx5239g2gxfkr0tm_r0000gn/T/ipykernel_47487/2820687247.py:21: FutureWarning: The frame.append method is deprecated and will be removed from pandas in a future version. Use pandas.concat instead.\n",
      "  results.append({\"mse\":mse, \"accuracy\":acc},ignore_index=True )\n",
      "/var/folders/xd/39vn4ttx5239g2gxfkr0tm_r0000gn/T/ipykernel_47487/2820687247.py:21: FutureWarning: The frame.append method is deprecated and will be removed from pandas in a future version. Use pandas.concat instead.\n",
      "  results.append({\"mse\":mse, \"accuracy\":acc},ignore_index=True )\n",
      "/var/folders/xd/39vn4ttx5239g2gxfkr0tm_r0000gn/T/ipykernel_47487/2820687247.py:21: FutureWarning: The frame.append method is deprecated and will be removed from pandas in a future version. Use pandas.concat instead.\n",
      "  results.append({\"mse\":mse, \"accuracy\":acc},ignore_index=True )\n",
      "/var/folders/xd/39vn4ttx5239g2gxfkr0tm_r0000gn/T/ipykernel_47487/2820687247.py:21: FutureWarning: The frame.append method is deprecated and will be removed from pandas in a future version. Use pandas.concat instead.\n",
      "  results.append({\"mse\":mse, \"accuracy\":acc},ignore_index=True )\n",
      "/var/folders/xd/39vn4ttx5239g2gxfkr0tm_r0000gn/T/ipykernel_47487/2820687247.py:21: FutureWarning: The frame.append method is deprecated and will be removed from pandas in a future version. Use pandas.concat instead.\n",
      "  results.append({\"mse\":mse, \"accuracy\":acc},ignore_index=True )\n",
      "/var/folders/xd/39vn4ttx5239g2gxfkr0tm_r0000gn/T/ipykernel_47487/2820687247.py:21: FutureWarning: The frame.append method is deprecated and will be removed from pandas in a future version. Use pandas.concat instead.\n",
      "  results.append({\"mse\":mse, \"accuracy\":acc},ignore_index=True )\n",
      "/var/folders/xd/39vn4ttx5239g2gxfkr0tm_r0000gn/T/ipykernel_47487/2820687247.py:21: FutureWarning: The frame.append method is deprecated and will be removed from pandas in a future version. Use pandas.concat instead.\n",
      "  results.append({\"mse\":mse, \"accuracy\":acc},ignore_index=True )\n",
      "/var/folders/xd/39vn4ttx5239g2gxfkr0tm_r0000gn/T/ipykernel_47487/2820687247.py:21: FutureWarning: The frame.append method is deprecated and will be removed from pandas in a future version. Use pandas.concat instead.\n",
      "  results.append({\"mse\":mse, \"accuracy\":acc},ignore_index=True )\n",
      "/var/folders/xd/39vn4ttx5239g2gxfkr0tm_r0000gn/T/ipykernel_47487/2820687247.py:21: FutureWarning: The frame.append method is deprecated and will be removed from pandas in a future version. Use pandas.concat instead.\n",
      "  results.append({\"mse\":mse, \"accuracy\":acc},ignore_index=True )\n"
     ]
    },
    {
     "name": "stdout",
     "output_type": "stream",
     "text": [
      "1.7717987045341306 0.009466865969108122\n",
      "1.7717987045341306 0.009466865969108122\n",
      "1.7717987045341306 0.009466865969108122\n",
      "1.7717987045341306 0.009466865969108122\n",
      "1.7717987045341306 0.009466865969108122\n",
      "1.7717987045341306 0.009466865969108122\n",
      "1.7717987045341306 0.009466865969108122\n",
      "1.7717987045341306 0.009466865969108122\n",
      "1.7717987045341306 0.009466865969108122\n",
      "1.7717987045341306 0.009466865969108122\n"
     ]
    },
    {
     "name": "stderr",
     "output_type": "stream",
     "text": [
      "/var/folders/xd/39vn4ttx5239g2gxfkr0tm_r0000gn/T/ipykernel_47487/2820687247.py:21: FutureWarning: The frame.append method is deprecated and will be removed from pandas in a future version. Use pandas.concat instead.\n",
      "  results.append({\"mse\":mse, \"accuracy\":acc},ignore_index=True )\n",
      "/var/folders/xd/39vn4ttx5239g2gxfkr0tm_r0000gn/T/ipykernel_47487/2820687247.py:21: FutureWarning: The frame.append method is deprecated and will be removed from pandas in a future version. Use pandas.concat instead.\n",
      "  results.append({\"mse\":mse, \"accuracy\":acc},ignore_index=True )\n",
      "/var/folders/xd/39vn4ttx5239g2gxfkr0tm_r0000gn/T/ipykernel_47487/2820687247.py:21: FutureWarning: The frame.append method is deprecated and will be removed from pandas in a future version. Use pandas.concat instead.\n",
      "  results.append({\"mse\":mse, \"accuracy\":acc},ignore_index=True )\n",
      "/var/folders/xd/39vn4ttx5239g2gxfkr0tm_r0000gn/T/ipykernel_47487/2820687247.py:21: FutureWarning: The frame.append method is deprecated and will be removed from pandas in a future version. Use pandas.concat instead.\n",
      "  results.append({\"mse\":mse, \"accuracy\":acc},ignore_index=True )\n",
      "/var/folders/xd/39vn4ttx5239g2gxfkr0tm_r0000gn/T/ipykernel_47487/2820687247.py:21: FutureWarning: The frame.append method is deprecated and will be removed from pandas in a future version. Use pandas.concat instead.\n",
      "  results.append({\"mse\":mse, \"accuracy\":acc},ignore_index=True )\n",
      "/var/folders/xd/39vn4ttx5239g2gxfkr0tm_r0000gn/T/ipykernel_47487/2820687247.py:21: FutureWarning: The frame.append method is deprecated and will be removed from pandas in a future version. Use pandas.concat instead.\n",
      "  results.append({\"mse\":mse, \"accuracy\":acc},ignore_index=True )\n",
      "/var/folders/xd/39vn4ttx5239g2gxfkr0tm_r0000gn/T/ipykernel_47487/2820687247.py:21: FutureWarning: The frame.append method is deprecated and will be removed from pandas in a future version. Use pandas.concat instead.\n",
      "  results.append({\"mse\":mse, \"accuracy\":acc},ignore_index=True )\n",
      "/var/folders/xd/39vn4ttx5239g2gxfkr0tm_r0000gn/T/ipykernel_47487/2820687247.py:21: FutureWarning: The frame.append method is deprecated and will be removed from pandas in a future version. Use pandas.concat instead.\n",
      "  results.append({\"mse\":mse, \"accuracy\":acc},ignore_index=True )\n",
      "/var/folders/xd/39vn4ttx5239g2gxfkr0tm_r0000gn/T/ipykernel_47487/2820687247.py:21: FutureWarning: The frame.append method is deprecated and will be removed from pandas in a future version. Use pandas.concat instead.\n",
      "  results.append({\"mse\":mse, \"accuracy\":acc},ignore_index=True )\n",
      "/var/folders/xd/39vn4ttx5239g2gxfkr0tm_r0000gn/T/ipykernel_47487/2820687247.py:21: FutureWarning: The frame.append method is deprecated and will be removed from pandas in a future version. Use pandas.concat instead.\n",
      "  results.append({\"mse\":mse, \"accuracy\":acc},ignore_index=True )\n"
     ]
    },
    {
     "name": "stdout",
     "output_type": "stream",
     "text": [
      "1.7717987045341306 0.009466865969108122\n",
      "1.7717987045341306 0.009466865969108122\n",
      "1.7717987045341306 0.009466865969108122\n",
      "1.7717987045341306 0.009466865969108122\n",
      "1.7717987045341306 0.009466865969108122\n",
      "1.7717987045341306 0.009466865969108122\n",
      "1.7717987045341306 0.009466865969108122\n",
      "1.7717987045341306 0.009466865969108122\n",
      "1.7717987045341306 0.009466865969108122\n",
      "1.7717987045341306 0.009466865969108122\n"
     ]
    },
    {
     "name": "stderr",
     "output_type": "stream",
     "text": [
      "/var/folders/xd/39vn4ttx5239g2gxfkr0tm_r0000gn/T/ipykernel_47487/2820687247.py:21: FutureWarning: The frame.append method is deprecated and will be removed from pandas in a future version. Use pandas.concat instead.\n",
      "  results.append({\"mse\":mse, \"accuracy\":acc},ignore_index=True )\n",
      "/var/folders/xd/39vn4ttx5239g2gxfkr0tm_r0000gn/T/ipykernel_47487/2820687247.py:21: FutureWarning: The frame.append method is deprecated and will be removed from pandas in a future version. Use pandas.concat instead.\n",
      "  results.append({\"mse\":mse, \"accuracy\":acc},ignore_index=True )\n",
      "/var/folders/xd/39vn4ttx5239g2gxfkr0tm_r0000gn/T/ipykernel_47487/2820687247.py:21: FutureWarning: The frame.append method is deprecated and will be removed from pandas in a future version. Use pandas.concat instead.\n",
      "  results.append({\"mse\":mse, \"accuracy\":acc},ignore_index=True )\n",
      "/var/folders/xd/39vn4ttx5239g2gxfkr0tm_r0000gn/T/ipykernel_47487/2820687247.py:21: FutureWarning: The frame.append method is deprecated and will be removed from pandas in a future version. Use pandas.concat instead.\n",
      "  results.append({\"mse\":mse, \"accuracy\":acc},ignore_index=True )\n",
      "/var/folders/xd/39vn4ttx5239g2gxfkr0tm_r0000gn/T/ipykernel_47487/2820687247.py:21: FutureWarning: The frame.append method is deprecated and will be removed from pandas in a future version. Use pandas.concat instead.\n",
      "  results.append({\"mse\":mse, \"accuracy\":acc},ignore_index=True )\n",
      "/var/folders/xd/39vn4ttx5239g2gxfkr0tm_r0000gn/T/ipykernel_47487/2820687247.py:21: FutureWarning: The frame.append method is deprecated and will be removed from pandas in a future version. Use pandas.concat instead.\n",
      "  results.append({\"mse\":mse, \"accuracy\":acc},ignore_index=True )\n",
      "/var/folders/xd/39vn4ttx5239g2gxfkr0tm_r0000gn/T/ipykernel_47487/2820687247.py:21: FutureWarning: The frame.append method is deprecated and will be removed from pandas in a future version. Use pandas.concat instead.\n",
      "  results.append({\"mse\":mse, \"accuracy\":acc},ignore_index=True )\n",
      "/var/folders/xd/39vn4ttx5239g2gxfkr0tm_r0000gn/T/ipykernel_47487/2820687247.py:21: FutureWarning: The frame.append method is deprecated and will be removed from pandas in a future version. Use pandas.concat instead.\n",
      "  results.append({\"mse\":mse, \"accuracy\":acc},ignore_index=True )\n",
      "/var/folders/xd/39vn4ttx5239g2gxfkr0tm_r0000gn/T/ipykernel_47487/2820687247.py:21: FutureWarning: The frame.append method is deprecated and will be removed from pandas in a future version. Use pandas.concat instead.\n",
      "  results.append({\"mse\":mse, \"accuracy\":acc},ignore_index=True )\n",
      "/var/folders/xd/39vn4ttx5239g2gxfkr0tm_r0000gn/T/ipykernel_47487/2820687247.py:21: FutureWarning: The frame.append method is deprecated and will be removed from pandas in a future version. Use pandas.concat instead.\n",
      "  results.append({\"mse\":mse, \"accuracy\":acc},ignore_index=True )\n"
     ]
    },
    {
     "name": "stdout",
     "output_type": "stream",
     "text": [
      "1.7717987045341306 0.009466865969108122\n",
      "1.7717987045341306 0.009466865969108122\n",
      "1.7717987045341306 0.009466865969108122\n",
      "1.7717987045341306 0.009466865969108122\n",
      "1.7717987045341306 0.009466865969108122\n",
      "1.7717987045341306 0.009466865969108122\n",
      "1.7717987045341306 0.009466865969108122\n",
      "1.7717987045341306 0.009466865969108122\n",
      "1.7717987045341306 0.009466865969108122\n"
     ]
    },
    {
     "name": "stderr",
     "output_type": "stream",
     "text": [
      "/var/folders/xd/39vn4ttx5239g2gxfkr0tm_r0000gn/T/ipykernel_47487/2820687247.py:21: FutureWarning: The frame.append method is deprecated and will be removed from pandas in a future version. Use pandas.concat instead.\n",
      "  results.append({\"mse\":mse, \"accuracy\":acc},ignore_index=True )\n",
      "/var/folders/xd/39vn4ttx5239g2gxfkr0tm_r0000gn/T/ipykernel_47487/2820687247.py:21: FutureWarning: The frame.append method is deprecated and will be removed from pandas in a future version. Use pandas.concat instead.\n",
      "  results.append({\"mse\":mse, \"accuracy\":acc},ignore_index=True )\n",
      "/var/folders/xd/39vn4ttx5239g2gxfkr0tm_r0000gn/T/ipykernel_47487/2820687247.py:21: FutureWarning: The frame.append method is deprecated and will be removed from pandas in a future version. Use pandas.concat instead.\n",
      "  results.append({\"mse\":mse, \"accuracy\":acc},ignore_index=True )\n",
      "/var/folders/xd/39vn4ttx5239g2gxfkr0tm_r0000gn/T/ipykernel_47487/2820687247.py:21: FutureWarning: The frame.append method is deprecated and will be removed from pandas in a future version. Use pandas.concat instead.\n",
      "  results.append({\"mse\":mse, \"accuracy\":acc},ignore_index=True )\n",
      "/var/folders/xd/39vn4ttx5239g2gxfkr0tm_r0000gn/T/ipykernel_47487/2820687247.py:21: FutureWarning: The frame.append method is deprecated and will be removed from pandas in a future version. Use pandas.concat instead.\n",
      "  results.append({\"mse\":mse, \"accuracy\":acc},ignore_index=True )\n",
      "/var/folders/xd/39vn4ttx5239g2gxfkr0tm_r0000gn/T/ipykernel_47487/2820687247.py:21: FutureWarning: The frame.append method is deprecated and will be removed from pandas in a future version. Use pandas.concat instead.\n",
      "  results.append({\"mse\":mse, \"accuracy\":acc},ignore_index=True )\n",
      "/var/folders/xd/39vn4ttx5239g2gxfkr0tm_r0000gn/T/ipykernel_47487/2820687247.py:21: FutureWarning: The frame.append method is deprecated and will be removed from pandas in a future version. Use pandas.concat instead.\n",
      "  results.append({\"mse\":mse, \"accuracy\":acc},ignore_index=True )\n",
      "/var/folders/xd/39vn4ttx5239g2gxfkr0tm_r0000gn/T/ipykernel_47487/2820687247.py:21: FutureWarning: The frame.append method is deprecated and will be removed from pandas in a future version. Use pandas.concat instead.\n",
      "  results.append({\"mse\":mse, \"accuracy\":acc},ignore_index=True )\n",
      "/var/folders/xd/39vn4ttx5239g2gxfkr0tm_r0000gn/T/ipykernel_47487/2820687247.py:21: FutureWarning: The frame.append method is deprecated and will be removed from pandas in a future version. Use pandas.concat instead.\n",
      "  results.append({\"mse\":mse, \"accuracy\":acc},ignore_index=True )\n",
      "/var/folders/xd/39vn4ttx5239g2gxfkr0tm_r0000gn/T/ipykernel_47487/2820687247.py:21: FutureWarning: The frame.append method is deprecated and will be removed from pandas in a future version. Use pandas.concat instead.\n",
      "  results.append({\"mse\":mse, \"accuracy\":acc},ignore_index=True )\n"
     ]
    },
    {
     "name": "stdout",
     "output_type": "stream",
     "text": [
      "1.7717987045341306 0.009466865969108122\n",
      "1.7717987045341306 0.009466865969108122\n",
      "1.7717987045341306 0.009466865969108122\n",
      "1.7717987045341306 0.009466865969108122\n",
      "1.7717987045341306 0.009466865969108122\n",
      "1.7717987045341306 0.009466865969108122\n",
      "1.7717987045341306 0.009466865969108122\n",
      "1.7717987045341306 0.009466865969108122\n",
      "1.7717987045341306 0.009466865969108122\n",
      "1.7717987045341306 0.009466865969108122\n"
     ]
    },
    {
     "name": "stderr",
     "output_type": "stream",
     "text": [
      "/var/folders/xd/39vn4ttx5239g2gxfkr0tm_r0000gn/T/ipykernel_47487/2820687247.py:21: FutureWarning: The frame.append method is deprecated and will be removed from pandas in a future version. Use pandas.concat instead.\n",
      "  results.append({\"mse\":mse, \"accuracy\":acc},ignore_index=True )\n",
      "/var/folders/xd/39vn4ttx5239g2gxfkr0tm_r0000gn/T/ipykernel_47487/2820687247.py:21: FutureWarning: The frame.append method is deprecated and will be removed from pandas in a future version. Use pandas.concat instead.\n",
      "  results.append({\"mse\":mse, \"accuracy\":acc},ignore_index=True )\n",
      "/var/folders/xd/39vn4ttx5239g2gxfkr0tm_r0000gn/T/ipykernel_47487/2820687247.py:21: FutureWarning: The frame.append method is deprecated and will be removed from pandas in a future version. Use pandas.concat instead.\n",
      "  results.append({\"mse\":mse, \"accuracy\":acc},ignore_index=True )\n",
      "/var/folders/xd/39vn4ttx5239g2gxfkr0tm_r0000gn/T/ipykernel_47487/2820687247.py:21: FutureWarning: The frame.append method is deprecated and will be removed from pandas in a future version. Use pandas.concat instead.\n",
      "  results.append({\"mse\":mse, \"accuracy\":acc},ignore_index=True )\n",
      "/var/folders/xd/39vn4ttx5239g2gxfkr0tm_r0000gn/T/ipykernel_47487/2820687247.py:21: FutureWarning: The frame.append method is deprecated and will be removed from pandas in a future version. Use pandas.concat instead.\n",
      "  results.append({\"mse\":mse, \"accuracy\":acc},ignore_index=True )\n",
      "/var/folders/xd/39vn4ttx5239g2gxfkr0tm_r0000gn/T/ipykernel_47487/2820687247.py:21: FutureWarning: The frame.append method is deprecated and will be removed from pandas in a future version. Use pandas.concat instead.\n",
      "  results.append({\"mse\":mse, \"accuracy\":acc},ignore_index=True )\n",
      "/var/folders/xd/39vn4ttx5239g2gxfkr0tm_r0000gn/T/ipykernel_47487/2820687247.py:21: FutureWarning: The frame.append method is deprecated and will be removed from pandas in a future version. Use pandas.concat instead.\n",
      "  results.append({\"mse\":mse, \"accuracy\":acc},ignore_index=True )\n",
      "/var/folders/xd/39vn4ttx5239g2gxfkr0tm_r0000gn/T/ipykernel_47487/2820687247.py:21: FutureWarning: The frame.append method is deprecated and will be removed from pandas in a future version. Use pandas.concat instead.\n",
      "  results.append({\"mse\":mse, \"accuracy\":acc},ignore_index=True )\n",
      "/var/folders/xd/39vn4ttx5239g2gxfkr0tm_r0000gn/T/ipykernel_47487/2820687247.py:21: FutureWarning: The frame.append method is deprecated and will be removed from pandas in a future version. Use pandas.concat instead.\n",
      "  results.append({\"mse\":mse, \"accuracy\":acc},ignore_index=True )\n",
      "/var/folders/xd/39vn4ttx5239g2gxfkr0tm_r0000gn/T/ipykernel_47487/2820687247.py:21: FutureWarning: The frame.append method is deprecated and will be removed from pandas in a future version. Use pandas.concat instead.\n",
      "  results.append({\"mse\":mse, \"accuracy\":acc},ignore_index=True )\n"
     ]
    },
    {
     "name": "stdout",
     "output_type": "stream",
     "text": [
      "1.7717987045341306 0.009466865969108122\n",
      "1.7717987045341306 0.009466865969108122\n",
      "1.7717987045341306 0.009466865969108122\n",
      "1.7717987045341306 0.009466865969108122\n",
      "1.7717987045341306 0.009466865969108122\n",
      "1.7717987045341306 0.009466865969108122\n",
      "1.7717987045341306 0.009466865969108122\n",
      "1.7717987045341306 0.009466865969108122\n",
      "1.7717987045341306 0.009466865969108122\n",
      "1.7717987045341306 0.009466865969108122\n"
     ]
    },
    {
     "name": "stderr",
     "output_type": "stream",
     "text": [
      "/var/folders/xd/39vn4ttx5239g2gxfkr0tm_r0000gn/T/ipykernel_47487/2820687247.py:21: FutureWarning: The frame.append method is deprecated and will be removed from pandas in a future version. Use pandas.concat instead.\n",
      "  results.append({\"mse\":mse, \"accuracy\":acc},ignore_index=True )\n",
      "/var/folders/xd/39vn4ttx5239g2gxfkr0tm_r0000gn/T/ipykernel_47487/2820687247.py:21: FutureWarning: The frame.append method is deprecated and will be removed from pandas in a future version. Use pandas.concat instead.\n",
      "  results.append({\"mse\":mse, \"accuracy\":acc},ignore_index=True )\n",
      "/var/folders/xd/39vn4ttx5239g2gxfkr0tm_r0000gn/T/ipykernel_47487/2820687247.py:21: FutureWarning: The frame.append method is deprecated and will be removed from pandas in a future version. Use pandas.concat instead.\n",
      "  results.append({\"mse\":mse, \"accuracy\":acc},ignore_index=True )\n",
      "/var/folders/xd/39vn4ttx5239g2gxfkr0tm_r0000gn/T/ipykernel_47487/2820687247.py:21: FutureWarning: The frame.append method is deprecated and will be removed from pandas in a future version. Use pandas.concat instead.\n",
      "  results.append({\"mse\":mse, \"accuracy\":acc},ignore_index=True )\n",
      "/var/folders/xd/39vn4ttx5239g2gxfkr0tm_r0000gn/T/ipykernel_47487/2820687247.py:21: FutureWarning: The frame.append method is deprecated and will be removed from pandas in a future version. Use pandas.concat instead.\n",
      "  results.append({\"mse\":mse, \"accuracy\":acc},ignore_index=True )\n",
      "/var/folders/xd/39vn4ttx5239g2gxfkr0tm_r0000gn/T/ipykernel_47487/2820687247.py:21: FutureWarning: The frame.append method is deprecated and will be removed from pandas in a future version. Use pandas.concat instead.\n",
      "  results.append({\"mse\":mse, \"accuracy\":acc},ignore_index=True )\n",
      "/var/folders/xd/39vn4ttx5239g2gxfkr0tm_r0000gn/T/ipykernel_47487/2820687247.py:21: FutureWarning: The frame.append method is deprecated and will be removed from pandas in a future version. Use pandas.concat instead.\n",
      "  results.append({\"mse\":mse, \"accuracy\":acc},ignore_index=True )\n",
      "/var/folders/xd/39vn4ttx5239g2gxfkr0tm_r0000gn/T/ipykernel_47487/2820687247.py:21: FutureWarning: The frame.append method is deprecated and will be removed from pandas in a future version. Use pandas.concat instead.\n",
      "  results.append({\"mse\":mse, \"accuracy\":acc},ignore_index=True )\n",
      "/var/folders/xd/39vn4ttx5239g2gxfkr0tm_r0000gn/T/ipykernel_47487/2820687247.py:21: FutureWarning: The frame.append method is deprecated and will be removed from pandas in a future version. Use pandas.concat instead.\n",
      "  results.append({\"mse\":mse, \"accuracy\":acc},ignore_index=True )\n",
      "/var/folders/xd/39vn4ttx5239g2gxfkr0tm_r0000gn/T/ipykernel_47487/2820687247.py:21: FutureWarning: The frame.append method is deprecated and will be removed from pandas in a future version. Use pandas.concat instead.\n",
      "  results.append({\"mse\":mse, \"accuracy\":acc},ignore_index=True )\n"
     ]
    },
    {
     "name": "stdout",
     "output_type": "stream",
     "text": [
      "1.7717987045341306 0.009466865969108122\n",
      "1.7717987045341306 0.009466865969108122\n",
      "1.7717987045341306 0.009466865969108122\n",
      "1.7717987045341306 0.009466865969108122\n",
      "1.7717987045341306 0.009466865969108122\n",
      "1.7717987045341306 0.009466865969108122\n",
      "1.7717987045341306 0.009466865969108122\n",
      "1.7717987045341306 0.009466865969108122\n",
      "1.7717987045341306 0.009466865969108122\n",
      "1.7717987045341306 0.009466865969108122\n"
     ]
    },
    {
     "name": "stderr",
     "output_type": "stream",
     "text": [
      "/var/folders/xd/39vn4ttx5239g2gxfkr0tm_r0000gn/T/ipykernel_47487/2820687247.py:21: FutureWarning: The frame.append method is deprecated and will be removed from pandas in a future version. Use pandas.concat instead.\n",
      "  results.append({\"mse\":mse, \"accuracy\":acc},ignore_index=True )\n",
      "/var/folders/xd/39vn4ttx5239g2gxfkr0tm_r0000gn/T/ipykernel_47487/2820687247.py:21: FutureWarning: The frame.append method is deprecated and will be removed from pandas in a future version. Use pandas.concat instead.\n",
      "  results.append({\"mse\":mse, \"accuracy\":acc},ignore_index=True )\n",
      "/var/folders/xd/39vn4ttx5239g2gxfkr0tm_r0000gn/T/ipykernel_47487/2820687247.py:21: FutureWarning: The frame.append method is deprecated and will be removed from pandas in a future version. Use pandas.concat instead.\n",
      "  results.append({\"mse\":mse, \"accuracy\":acc},ignore_index=True )\n",
      "/var/folders/xd/39vn4ttx5239g2gxfkr0tm_r0000gn/T/ipykernel_47487/2820687247.py:21: FutureWarning: The frame.append method is deprecated and will be removed from pandas in a future version. Use pandas.concat instead.\n",
      "  results.append({\"mse\":mse, \"accuracy\":acc},ignore_index=True )\n",
      "/var/folders/xd/39vn4ttx5239g2gxfkr0tm_r0000gn/T/ipykernel_47487/2820687247.py:21: FutureWarning: The frame.append method is deprecated and will be removed from pandas in a future version. Use pandas.concat instead.\n",
      "  results.append({\"mse\":mse, \"accuracy\":acc},ignore_index=True )\n",
      "/var/folders/xd/39vn4ttx5239g2gxfkr0tm_r0000gn/T/ipykernel_47487/2820687247.py:21: FutureWarning: The frame.append method is deprecated and will be removed from pandas in a future version. Use pandas.concat instead.\n",
      "  results.append({\"mse\":mse, \"accuracy\":acc},ignore_index=True )\n",
      "/var/folders/xd/39vn4ttx5239g2gxfkr0tm_r0000gn/T/ipykernel_47487/2820687247.py:21: FutureWarning: The frame.append method is deprecated and will be removed from pandas in a future version. Use pandas.concat instead.\n",
      "  results.append({\"mse\":mse, \"accuracy\":acc},ignore_index=True )\n",
      "/var/folders/xd/39vn4ttx5239g2gxfkr0tm_r0000gn/T/ipykernel_47487/2820687247.py:21: FutureWarning: The frame.append method is deprecated and will be removed from pandas in a future version. Use pandas.concat instead.\n",
      "  results.append({\"mse\":mse, \"accuracy\":acc},ignore_index=True )\n",
      "/var/folders/xd/39vn4ttx5239g2gxfkr0tm_r0000gn/T/ipykernel_47487/2820687247.py:21: FutureWarning: The frame.append method is deprecated and will be removed from pandas in a future version. Use pandas.concat instead.\n",
      "  results.append({\"mse\":mse, \"accuracy\":acc},ignore_index=True )\n",
      "/var/folders/xd/39vn4ttx5239g2gxfkr0tm_r0000gn/T/ipykernel_47487/2820687247.py:21: FutureWarning: The frame.append method is deprecated and will be removed from pandas in a future version. Use pandas.concat instead.\n",
      "  results.append({\"mse\":mse, \"accuracy\":acc},ignore_index=True )\n"
     ]
    },
    {
     "name": "stdout",
     "output_type": "stream",
     "text": [
      "1.7717987045341306 0.009466865969108122\n",
      "1.7717987045341306 0.009466865969108122\n",
      "1.7717987045341306 0.009466865969108122\n",
      "1.7717987045341306 0.009466865969108122\n",
      "1.7717987045341306 0.009466865969108122\n",
      "1.7717987045341306 0.009466865969108122\n",
      "1.7717987045341306 0.009466865969108122\n",
      "1.7717987045341306 0.009466865969108122\n",
      "1.7717987045341306 0.009466865969108122\n",
      "1.7717987045341306 0.009466865969108122\n"
     ]
    },
    {
     "name": "stderr",
     "output_type": "stream",
     "text": [
      "/var/folders/xd/39vn4ttx5239g2gxfkr0tm_r0000gn/T/ipykernel_47487/2820687247.py:21: FutureWarning: The frame.append method is deprecated and will be removed from pandas in a future version. Use pandas.concat instead.\n",
      "  results.append({\"mse\":mse, \"accuracy\":acc},ignore_index=True )\n",
      "/var/folders/xd/39vn4ttx5239g2gxfkr0tm_r0000gn/T/ipykernel_47487/2820687247.py:21: FutureWarning: The frame.append method is deprecated and will be removed from pandas in a future version. Use pandas.concat instead.\n",
      "  results.append({\"mse\":mse, \"accuracy\":acc},ignore_index=True )\n",
      "/var/folders/xd/39vn4ttx5239g2gxfkr0tm_r0000gn/T/ipykernel_47487/2820687247.py:21: FutureWarning: The frame.append method is deprecated and will be removed from pandas in a future version. Use pandas.concat instead.\n",
      "  results.append({\"mse\":mse, \"accuracy\":acc},ignore_index=True )\n",
      "/var/folders/xd/39vn4ttx5239g2gxfkr0tm_r0000gn/T/ipykernel_47487/2820687247.py:21: FutureWarning: The frame.append method is deprecated and will be removed from pandas in a future version. Use pandas.concat instead.\n",
      "  results.append({\"mse\":mse, \"accuracy\":acc},ignore_index=True )\n",
      "/var/folders/xd/39vn4ttx5239g2gxfkr0tm_r0000gn/T/ipykernel_47487/2820687247.py:21: FutureWarning: The frame.append method is deprecated and will be removed from pandas in a future version. Use pandas.concat instead.\n",
      "  results.append({\"mse\":mse, \"accuracy\":acc},ignore_index=True )\n",
      "/var/folders/xd/39vn4ttx5239g2gxfkr0tm_r0000gn/T/ipykernel_47487/2820687247.py:21: FutureWarning: The frame.append method is deprecated and will be removed from pandas in a future version. Use pandas.concat instead.\n",
      "  results.append({\"mse\":mse, \"accuracy\":acc},ignore_index=True )\n",
      "/var/folders/xd/39vn4ttx5239g2gxfkr0tm_r0000gn/T/ipykernel_47487/2820687247.py:21: FutureWarning: The frame.append method is deprecated and will be removed from pandas in a future version. Use pandas.concat instead.\n",
      "  results.append({\"mse\":mse, \"accuracy\":acc},ignore_index=True )\n",
      "/var/folders/xd/39vn4ttx5239g2gxfkr0tm_r0000gn/T/ipykernel_47487/2820687247.py:21: FutureWarning: The frame.append method is deprecated and will be removed from pandas in a future version. Use pandas.concat instead.\n",
      "  results.append({\"mse\":mse, \"accuracy\":acc},ignore_index=True )\n",
      "/var/folders/xd/39vn4ttx5239g2gxfkr0tm_r0000gn/T/ipykernel_47487/2820687247.py:21: FutureWarning: The frame.append method is deprecated and will be removed from pandas in a future version. Use pandas.concat instead.\n",
      "  results.append({\"mse\":mse, \"accuracy\":acc},ignore_index=True )\n"
     ]
    },
    {
     "name": "stdout",
     "output_type": "stream",
     "text": [
      "1.7717987045341306 0.009466865969108122\n",
      "1.7717987045341306 0.009466865969108122\n",
      "1.7717987045341306 0.009466865969108122\n",
      "1.7717987045341306 0.009466865969108122\n",
      "1.7717987045341306 0.009466865969108122\n",
      "1.7717987045341306 0.009466865969108122\n",
      "1.7717987045341306 0.009466865969108122\n",
      "1.7717987045341306 0.009466865969108122\n",
      "1.7717987045341306 0.009466865969108122\n"
     ]
    },
    {
     "name": "stderr",
     "output_type": "stream",
     "text": [
      "/var/folders/xd/39vn4ttx5239g2gxfkr0tm_r0000gn/T/ipykernel_47487/2820687247.py:21: FutureWarning: The frame.append method is deprecated and will be removed from pandas in a future version. Use pandas.concat instead.\n",
      "  results.append({\"mse\":mse, \"accuracy\":acc},ignore_index=True )\n",
      "/var/folders/xd/39vn4ttx5239g2gxfkr0tm_r0000gn/T/ipykernel_47487/2820687247.py:21: FutureWarning: The frame.append method is deprecated and will be removed from pandas in a future version. Use pandas.concat instead.\n",
      "  results.append({\"mse\":mse, \"accuracy\":acc},ignore_index=True )\n",
      "/var/folders/xd/39vn4ttx5239g2gxfkr0tm_r0000gn/T/ipykernel_47487/2820687247.py:21: FutureWarning: The frame.append method is deprecated and will be removed from pandas in a future version. Use pandas.concat instead.\n",
      "  results.append({\"mse\":mse, \"accuracy\":acc},ignore_index=True )\n",
      "/var/folders/xd/39vn4ttx5239g2gxfkr0tm_r0000gn/T/ipykernel_47487/2820687247.py:21: FutureWarning: The frame.append method is deprecated and will be removed from pandas in a future version. Use pandas.concat instead.\n",
      "  results.append({\"mse\":mse, \"accuracy\":acc},ignore_index=True )\n",
      "/var/folders/xd/39vn4ttx5239g2gxfkr0tm_r0000gn/T/ipykernel_47487/2820687247.py:21: FutureWarning: The frame.append method is deprecated and will be removed from pandas in a future version. Use pandas.concat instead.\n",
      "  results.append({\"mse\":mse, \"accuracy\":acc},ignore_index=True )\n",
      "/var/folders/xd/39vn4ttx5239g2gxfkr0tm_r0000gn/T/ipykernel_47487/2820687247.py:21: FutureWarning: The frame.append method is deprecated and will be removed from pandas in a future version. Use pandas.concat instead.\n",
      "  results.append({\"mse\":mse, \"accuracy\":acc},ignore_index=True )\n",
      "/var/folders/xd/39vn4ttx5239g2gxfkr0tm_r0000gn/T/ipykernel_47487/2820687247.py:21: FutureWarning: The frame.append method is deprecated and will be removed from pandas in a future version. Use pandas.concat instead.\n",
      "  results.append({\"mse\":mse, \"accuracy\":acc},ignore_index=True )\n",
      "/var/folders/xd/39vn4ttx5239g2gxfkr0tm_r0000gn/T/ipykernel_47487/2820687247.py:21: FutureWarning: The frame.append method is deprecated and will be removed from pandas in a future version. Use pandas.concat instead.\n",
      "  results.append({\"mse\":mse, \"accuracy\":acc},ignore_index=True )\n",
      "/var/folders/xd/39vn4ttx5239g2gxfkr0tm_r0000gn/T/ipykernel_47487/2820687247.py:21: FutureWarning: The frame.append method is deprecated and will be removed from pandas in a future version. Use pandas.concat instead.\n",
      "  results.append({\"mse\":mse, \"accuracy\":acc},ignore_index=True )\n",
      "/var/folders/xd/39vn4ttx5239g2gxfkr0tm_r0000gn/T/ipykernel_47487/2820687247.py:21: FutureWarning: The frame.append method is deprecated and will be removed from pandas in a future version. Use pandas.concat instead.\n",
      "  results.append({\"mse\":mse, \"accuracy\":acc},ignore_index=True )\n"
     ]
    },
    {
     "name": "stdout",
     "output_type": "stream",
     "text": [
      "1.7717987045341306 0.009466865969108122\n",
      "1.7717987045341306 0.009466865969108122\n",
      "1.7717987045341306 0.009466865969108122\n",
      "1.7717987045341306 0.009466865969108122\n",
      "1.7717987045341306 0.009466865969108122\n",
      "1.7717987045341306 0.009466865969108122\n",
      "1.7717987045341306 0.009466865969108122\n",
      "1.7717987045341306 0.009466865969108122\n",
      "1.7717987045341306 0.009466865969108122\n",
      "1.7717987045341306 0.009466865969108122\n",
      "1.7717987045341306 0.009466865969108122\n"
     ]
    },
    {
     "name": "stderr",
     "output_type": "stream",
     "text": [
      "/var/folders/xd/39vn4ttx5239g2gxfkr0tm_r0000gn/T/ipykernel_47487/2820687247.py:21: FutureWarning: The frame.append method is deprecated and will be removed from pandas in a future version. Use pandas.concat instead.\n",
      "  results.append({\"mse\":mse, \"accuracy\":acc},ignore_index=True )\n",
      "/var/folders/xd/39vn4ttx5239g2gxfkr0tm_r0000gn/T/ipykernel_47487/2820687247.py:21: FutureWarning: The frame.append method is deprecated and will be removed from pandas in a future version. Use pandas.concat instead.\n",
      "  results.append({\"mse\":mse, \"accuracy\":acc},ignore_index=True )\n",
      "/var/folders/xd/39vn4ttx5239g2gxfkr0tm_r0000gn/T/ipykernel_47487/2820687247.py:21: FutureWarning: The frame.append method is deprecated and will be removed from pandas in a future version. Use pandas.concat instead.\n",
      "  results.append({\"mse\":mse, \"accuracy\":acc},ignore_index=True )\n",
      "/var/folders/xd/39vn4ttx5239g2gxfkr0tm_r0000gn/T/ipykernel_47487/2820687247.py:21: FutureWarning: The frame.append method is deprecated and will be removed from pandas in a future version. Use pandas.concat instead.\n",
      "  results.append({\"mse\":mse, \"accuracy\":acc},ignore_index=True )\n",
      "/var/folders/xd/39vn4ttx5239g2gxfkr0tm_r0000gn/T/ipykernel_47487/2820687247.py:21: FutureWarning: The frame.append method is deprecated and will be removed from pandas in a future version. Use pandas.concat instead.\n",
      "  results.append({\"mse\":mse, \"accuracy\":acc},ignore_index=True )\n",
      "/var/folders/xd/39vn4ttx5239g2gxfkr0tm_r0000gn/T/ipykernel_47487/2820687247.py:21: FutureWarning: The frame.append method is deprecated and will be removed from pandas in a future version. Use pandas.concat instead.\n",
      "  results.append({\"mse\":mse, \"accuracy\":acc},ignore_index=True )\n",
      "/var/folders/xd/39vn4ttx5239g2gxfkr0tm_r0000gn/T/ipykernel_47487/2820687247.py:21: FutureWarning: The frame.append method is deprecated and will be removed from pandas in a future version. Use pandas.concat instead.\n",
      "  results.append({\"mse\":mse, \"accuracy\":acc},ignore_index=True )\n",
      "/var/folders/xd/39vn4ttx5239g2gxfkr0tm_r0000gn/T/ipykernel_47487/2820687247.py:21: FutureWarning: The frame.append method is deprecated and will be removed from pandas in a future version. Use pandas.concat instead.\n",
      "  results.append({\"mse\":mse, \"accuracy\":acc},ignore_index=True )\n",
      "/var/folders/xd/39vn4ttx5239g2gxfkr0tm_r0000gn/T/ipykernel_47487/2820687247.py:21: FutureWarning: The frame.append method is deprecated and will be removed from pandas in a future version. Use pandas.concat instead.\n",
      "  results.append({\"mse\":mse, \"accuracy\":acc},ignore_index=True )\n",
      "/var/folders/xd/39vn4ttx5239g2gxfkr0tm_r0000gn/T/ipykernel_47487/2820687247.py:21: FutureWarning: The frame.append method is deprecated and will be removed from pandas in a future version. Use pandas.concat instead.\n",
      "  results.append({\"mse\":mse, \"accuracy\":acc},ignore_index=True )\n"
     ]
    },
    {
     "name": "stdout",
     "output_type": "stream",
     "text": [
      "1.7717987045341306 0.009466865969108122\n",
      "1.7717987045341306 0.009466865969108122\n",
      "1.7717987045341306 0.009466865969108122\n",
      "1.7717987045341306 0.009466865969108122\n",
      "1.7717987045341306 0.009466865969108122\n",
      "1.7717987045341306 0.009466865969108122\n",
      "1.7717987045341306 0.009466865969108122\n",
      "1.7717987045341306 0.009466865969108122\n",
      "1.7717987045341306 0.009466865969108122\n"
     ]
    },
    {
     "name": "stderr",
     "output_type": "stream",
     "text": [
      "/var/folders/xd/39vn4ttx5239g2gxfkr0tm_r0000gn/T/ipykernel_47487/2820687247.py:21: FutureWarning: The frame.append method is deprecated and will be removed from pandas in a future version. Use pandas.concat instead.\n",
      "  results.append({\"mse\":mse, \"accuracy\":acc},ignore_index=True )\n",
      "/var/folders/xd/39vn4ttx5239g2gxfkr0tm_r0000gn/T/ipykernel_47487/2820687247.py:21: FutureWarning: The frame.append method is deprecated and will be removed from pandas in a future version. Use pandas.concat instead.\n",
      "  results.append({\"mse\":mse, \"accuracy\":acc},ignore_index=True )\n",
      "/var/folders/xd/39vn4ttx5239g2gxfkr0tm_r0000gn/T/ipykernel_47487/2820687247.py:21: FutureWarning: The frame.append method is deprecated and will be removed from pandas in a future version. Use pandas.concat instead.\n",
      "  results.append({\"mse\":mse, \"accuracy\":acc},ignore_index=True )\n",
      "/var/folders/xd/39vn4ttx5239g2gxfkr0tm_r0000gn/T/ipykernel_47487/2820687247.py:21: FutureWarning: The frame.append method is deprecated and will be removed from pandas in a future version. Use pandas.concat instead.\n",
      "  results.append({\"mse\":mse, \"accuracy\":acc},ignore_index=True )\n",
      "/var/folders/xd/39vn4ttx5239g2gxfkr0tm_r0000gn/T/ipykernel_47487/2820687247.py:21: FutureWarning: The frame.append method is deprecated and will be removed from pandas in a future version. Use pandas.concat instead.\n",
      "  results.append({\"mse\":mse, \"accuracy\":acc},ignore_index=True )\n",
      "/var/folders/xd/39vn4ttx5239g2gxfkr0tm_r0000gn/T/ipykernel_47487/2820687247.py:21: FutureWarning: The frame.append method is deprecated and will be removed from pandas in a future version. Use pandas.concat instead.\n",
      "  results.append({\"mse\":mse, \"accuracy\":acc},ignore_index=True )\n",
      "/var/folders/xd/39vn4ttx5239g2gxfkr0tm_r0000gn/T/ipykernel_47487/2820687247.py:21: FutureWarning: The frame.append method is deprecated and will be removed from pandas in a future version. Use pandas.concat instead.\n",
      "  results.append({\"mse\":mse, \"accuracy\":acc},ignore_index=True )\n",
      "/var/folders/xd/39vn4ttx5239g2gxfkr0tm_r0000gn/T/ipykernel_47487/2820687247.py:21: FutureWarning: The frame.append method is deprecated and will be removed from pandas in a future version. Use pandas.concat instead.\n",
      "  results.append({\"mse\":mse, \"accuracy\":acc},ignore_index=True )\n",
      "/var/folders/xd/39vn4ttx5239g2gxfkr0tm_r0000gn/T/ipykernel_47487/2820687247.py:21: FutureWarning: The frame.append method is deprecated and will be removed from pandas in a future version. Use pandas.concat instead.\n",
      "  results.append({\"mse\":mse, \"accuracy\":acc},ignore_index=True )\n"
     ]
    },
    {
     "name": "stdout",
     "output_type": "stream",
     "text": [
      "1.7717987045341306 0.009466865969108122\n",
      "1.7717987045341306 0.009466865969108122\n",
      "1.7717987045341306 0.009466865969108122\n",
      "1.7717987045341306 0.009466865969108122\n",
      "1.7717987045341306 0.009466865969108122\n",
      "1.7717987045341306 0.009466865969108122\n",
      "1.7717987045341306 0.009466865969108122\n",
      "1.7717987045341306 0.009466865969108122\n",
      "1.7717987045341306 0.009466865969108122\n",
      "1.7717987045341306 0.009466865969108122\n"
     ]
    },
    {
     "name": "stderr",
     "output_type": "stream",
     "text": [
      "/var/folders/xd/39vn4ttx5239g2gxfkr0tm_r0000gn/T/ipykernel_47487/2820687247.py:21: FutureWarning: The frame.append method is deprecated and will be removed from pandas in a future version. Use pandas.concat instead.\n",
      "  results.append({\"mse\":mse, \"accuracy\":acc},ignore_index=True )\n",
      "/var/folders/xd/39vn4ttx5239g2gxfkr0tm_r0000gn/T/ipykernel_47487/2820687247.py:21: FutureWarning: The frame.append method is deprecated and will be removed from pandas in a future version. Use pandas.concat instead.\n",
      "  results.append({\"mse\":mse, \"accuracy\":acc},ignore_index=True )\n",
      "/var/folders/xd/39vn4ttx5239g2gxfkr0tm_r0000gn/T/ipykernel_47487/2820687247.py:21: FutureWarning: The frame.append method is deprecated and will be removed from pandas in a future version. Use pandas.concat instead.\n",
      "  results.append({\"mse\":mse, \"accuracy\":acc},ignore_index=True )\n",
      "/var/folders/xd/39vn4ttx5239g2gxfkr0tm_r0000gn/T/ipykernel_47487/2820687247.py:21: FutureWarning: The frame.append method is deprecated and will be removed from pandas in a future version. Use pandas.concat instead.\n",
      "  results.append({\"mse\":mse, \"accuracy\":acc},ignore_index=True )\n",
      "/var/folders/xd/39vn4ttx5239g2gxfkr0tm_r0000gn/T/ipykernel_47487/2820687247.py:21: FutureWarning: The frame.append method is deprecated and will be removed from pandas in a future version. Use pandas.concat instead.\n",
      "  results.append({\"mse\":mse, \"accuracy\":acc},ignore_index=True )\n",
      "/var/folders/xd/39vn4ttx5239g2gxfkr0tm_r0000gn/T/ipykernel_47487/2820687247.py:21: FutureWarning: The frame.append method is deprecated and will be removed from pandas in a future version. Use pandas.concat instead.\n",
      "  results.append({\"mse\":mse, \"accuracy\":acc},ignore_index=True )\n",
      "/var/folders/xd/39vn4ttx5239g2gxfkr0tm_r0000gn/T/ipykernel_47487/2820687247.py:21: FutureWarning: The frame.append method is deprecated and will be removed from pandas in a future version. Use pandas.concat instead.\n",
      "  results.append({\"mse\":mse, \"accuracy\":acc},ignore_index=True )\n",
      "/var/folders/xd/39vn4ttx5239g2gxfkr0tm_r0000gn/T/ipykernel_47487/2820687247.py:21: FutureWarning: The frame.append method is deprecated and will be removed from pandas in a future version. Use pandas.concat instead.\n",
      "  results.append({\"mse\":mse, \"accuracy\":acc},ignore_index=True )\n",
      "/var/folders/xd/39vn4ttx5239g2gxfkr0tm_r0000gn/T/ipykernel_47487/2820687247.py:21: FutureWarning: The frame.append method is deprecated and will be removed from pandas in a future version. Use pandas.concat instead.\n",
      "  results.append({\"mse\":mse, \"accuracy\":acc},ignore_index=True )\n",
      "/var/folders/xd/39vn4ttx5239g2gxfkr0tm_r0000gn/T/ipykernel_47487/2820687247.py:21: FutureWarning: The frame.append method is deprecated and will be removed from pandas in a future version. Use pandas.concat instead.\n",
      "  results.append({\"mse\":mse, \"accuracy\":acc},ignore_index=True )\n"
     ]
    },
    {
     "name": "stdout",
     "output_type": "stream",
     "text": [
      "1.7717987045341306 0.009466865969108122\n",
      "1.7717987045341306 0.009466865969108122\n",
      "1.7717987045341306 0.009466865969108122\n",
      "1.7717987045341306 0.009466865969108122\n",
      "1.7717987045341306 0.009466865969108122\n",
      "1.7717987045341306 0.009466865969108122\n",
      "1.7717987045341306 0.009466865969108122\n",
      "1.7717987045341306 0.009466865969108122\n",
      "1.7717987045341306 0.009466865969108122\n",
      "1.7717987045341306 0.009466865969108122\n"
     ]
    },
    {
     "name": "stderr",
     "output_type": "stream",
     "text": [
      "/var/folders/xd/39vn4ttx5239g2gxfkr0tm_r0000gn/T/ipykernel_47487/2820687247.py:21: FutureWarning: The frame.append method is deprecated and will be removed from pandas in a future version. Use pandas.concat instead.\n",
      "  results.append({\"mse\":mse, \"accuracy\":acc},ignore_index=True )\n",
      "/var/folders/xd/39vn4ttx5239g2gxfkr0tm_r0000gn/T/ipykernel_47487/2820687247.py:21: FutureWarning: The frame.append method is deprecated and will be removed from pandas in a future version. Use pandas.concat instead.\n",
      "  results.append({\"mse\":mse, \"accuracy\":acc},ignore_index=True )\n",
      "/var/folders/xd/39vn4ttx5239g2gxfkr0tm_r0000gn/T/ipykernel_47487/2820687247.py:21: FutureWarning: The frame.append method is deprecated and will be removed from pandas in a future version. Use pandas.concat instead.\n",
      "  results.append({\"mse\":mse, \"accuracy\":acc},ignore_index=True )\n",
      "/var/folders/xd/39vn4ttx5239g2gxfkr0tm_r0000gn/T/ipykernel_47487/2820687247.py:21: FutureWarning: The frame.append method is deprecated and will be removed from pandas in a future version. Use pandas.concat instead.\n",
      "  results.append({\"mse\":mse, \"accuracy\":acc},ignore_index=True )\n",
      "/var/folders/xd/39vn4ttx5239g2gxfkr0tm_r0000gn/T/ipykernel_47487/2820687247.py:21: FutureWarning: The frame.append method is deprecated and will be removed from pandas in a future version. Use pandas.concat instead.\n",
      "  results.append({\"mse\":mse, \"accuracy\":acc},ignore_index=True )\n",
      "/var/folders/xd/39vn4ttx5239g2gxfkr0tm_r0000gn/T/ipykernel_47487/2820687247.py:21: FutureWarning: The frame.append method is deprecated and will be removed from pandas in a future version. Use pandas.concat instead.\n",
      "  results.append({\"mse\":mse, \"accuracy\":acc},ignore_index=True )\n",
      "/var/folders/xd/39vn4ttx5239g2gxfkr0tm_r0000gn/T/ipykernel_47487/2820687247.py:21: FutureWarning: The frame.append method is deprecated and will be removed from pandas in a future version. Use pandas.concat instead.\n",
      "  results.append({\"mse\":mse, \"accuracy\":acc},ignore_index=True )\n",
      "/var/folders/xd/39vn4ttx5239g2gxfkr0tm_r0000gn/T/ipykernel_47487/2820687247.py:21: FutureWarning: The frame.append method is deprecated and will be removed from pandas in a future version. Use pandas.concat instead.\n",
      "  results.append({\"mse\":mse, \"accuracy\":acc},ignore_index=True )\n",
      "/var/folders/xd/39vn4ttx5239g2gxfkr0tm_r0000gn/T/ipykernel_47487/2820687247.py:21: FutureWarning: The frame.append method is deprecated and will be removed from pandas in a future version. Use pandas.concat instead.\n",
      "  results.append({\"mse\":mse, \"accuracy\":acc},ignore_index=True )\n",
      "/var/folders/xd/39vn4ttx5239g2gxfkr0tm_r0000gn/T/ipykernel_47487/2820687247.py:21: FutureWarning: The frame.append method is deprecated and will be removed from pandas in a future version. Use pandas.concat instead.\n",
      "  results.append({\"mse\":mse, \"accuracy\":acc},ignore_index=True )\n"
     ]
    },
    {
     "name": "stdout",
     "output_type": "stream",
     "text": [
      "1.7717987045341306 0.009466865969108122\n",
      "1.7717987045341306 0.009466865969108122\n",
      "1.7717987045341306 0.009466865969108122\n",
      "1.7717987045341306 0.009466865969108122\n",
      "1.7717987045341306 0.009466865969108122\n",
      "1.7717987045341306 0.009466865969108122\n",
      "1.7717987045341306 0.009466865969108122\n",
      "1.7717987045341306 0.009466865969108122\n",
      "1.7717987045341306 0.009466865969108122\n"
     ]
    },
    {
     "name": "stderr",
     "output_type": "stream",
     "text": [
      "/var/folders/xd/39vn4ttx5239g2gxfkr0tm_r0000gn/T/ipykernel_47487/2820687247.py:21: FutureWarning: The frame.append method is deprecated and will be removed from pandas in a future version. Use pandas.concat instead.\n",
      "  results.append({\"mse\":mse, \"accuracy\":acc},ignore_index=True )\n",
      "/var/folders/xd/39vn4ttx5239g2gxfkr0tm_r0000gn/T/ipykernel_47487/2820687247.py:21: FutureWarning: The frame.append method is deprecated and will be removed from pandas in a future version. Use pandas.concat instead.\n",
      "  results.append({\"mse\":mse, \"accuracy\":acc},ignore_index=True )\n",
      "/var/folders/xd/39vn4ttx5239g2gxfkr0tm_r0000gn/T/ipykernel_47487/2820687247.py:21: FutureWarning: The frame.append method is deprecated and will be removed from pandas in a future version. Use pandas.concat instead.\n",
      "  results.append({\"mse\":mse, \"accuracy\":acc},ignore_index=True )\n",
      "/var/folders/xd/39vn4ttx5239g2gxfkr0tm_r0000gn/T/ipykernel_47487/2820687247.py:21: FutureWarning: The frame.append method is deprecated and will be removed from pandas in a future version. Use pandas.concat instead.\n",
      "  results.append({\"mse\":mse, \"accuracy\":acc},ignore_index=True )\n",
      "/var/folders/xd/39vn4ttx5239g2gxfkr0tm_r0000gn/T/ipykernel_47487/2820687247.py:21: FutureWarning: The frame.append method is deprecated and will be removed from pandas in a future version. Use pandas.concat instead.\n",
      "  results.append({\"mse\":mse, \"accuracy\":acc},ignore_index=True )\n",
      "/var/folders/xd/39vn4ttx5239g2gxfkr0tm_r0000gn/T/ipykernel_47487/2820687247.py:21: FutureWarning: The frame.append method is deprecated and will be removed from pandas in a future version. Use pandas.concat instead.\n",
      "  results.append({\"mse\":mse, \"accuracy\":acc},ignore_index=True )\n",
      "/var/folders/xd/39vn4ttx5239g2gxfkr0tm_r0000gn/T/ipykernel_47487/2820687247.py:21: FutureWarning: The frame.append method is deprecated and will be removed from pandas in a future version. Use pandas.concat instead.\n",
      "  results.append({\"mse\":mse, \"accuracy\":acc},ignore_index=True )\n",
      "/var/folders/xd/39vn4ttx5239g2gxfkr0tm_r0000gn/T/ipykernel_47487/2820687247.py:21: FutureWarning: The frame.append method is deprecated and will be removed from pandas in a future version. Use pandas.concat instead.\n",
      "  results.append({\"mse\":mse, \"accuracy\":acc},ignore_index=True )\n",
      "/var/folders/xd/39vn4ttx5239g2gxfkr0tm_r0000gn/T/ipykernel_47487/2820687247.py:21: FutureWarning: The frame.append method is deprecated and will be removed from pandas in a future version. Use pandas.concat instead.\n",
      "  results.append({\"mse\":mse, \"accuracy\":acc},ignore_index=True )\n"
     ]
    },
    {
     "name": "stdout",
     "output_type": "stream",
     "text": [
      "1.7717987045341306 0.009466865969108122\n",
      "1.7717987045341306 0.009466865969108122\n",
      "1.7717987045341306 0.009466865969108122\n",
      "1.7717987045341306 0.009466865969108122\n",
      "1.7717987045341306 0.009466865969108122\n",
      "1.7717987045341306 0.009466865969108122\n",
      "1.7717987045341306 0.009466865969108122\n",
      "1.7717987045341306 0.009466865969108122\n",
      "1.7717987045341306 0.009466865969108122\n",
      "1.7717987045341306 0.009466865969108122\n"
     ]
    },
    {
     "name": "stderr",
     "output_type": "stream",
     "text": [
      "/var/folders/xd/39vn4ttx5239g2gxfkr0tm_r0000gn/T/ipykernel_47487/2820687247.py:21: FutureWarning: The frame.append method is deprecated and will be removed from pandas in a future version. Use pandas.concat instead.\n",
      "  results.append({\"mse\":mse, \"accuracy\":acc},ignore_index=True )\n",
      "/var/folders/xd/39vn4ttx5239g2gxfkr0tm_r0000gn/T/ipykernel_47487/2820687247.py:21: FutureWarning: The frame.append method is deprecated and will be removed from pandas in a future version. Use pandas.concat instead.\n",
      "  results.append({\"mse\":mse, \"accuracy\":acc},ignore_index=True )\n",
      "/var/folders/xd/39vn4ttx5239g2gxfkr0tm_r0000gn/T/ipykernel_47487/2820687247.py:21: FutureWarning: The frame.append method is deprecated and will be removed from pandas in a future version. Use pandas.concat instead.\n",
      "  results.append({\"mse\":mse, \"accuracy\":acc},ignore_index=True )\n",
      "/var/folders/xd/39vn4ttx5239g2gxfkr0tm_r0000gn/T/ipykernel_47487/2820687247.py:21: FutureWarning: The frame.append method is deprecated and will be removed from pandas in a future version. Use pandas.concat instead.\n",
      "  results.append({\"mse\":mse, \"accuracy\":acc},ignore_index=True )\n",
      "/var/folders/xd/39vn4ttx5239g2gxfkr0tm_r0000gn/T/ipykernel_47487/2820687247.py:21: FutureWarning: The frame.append method is deprecated and will be removed from pandas in a future version. Use pandas.concat instead.\n",
      "  results.append({\"mse\":mse, \"accuracy\":acc},ignore_index=True )\n",
      "/var/folders/xd/39vn4ttx5239g2gxfkr0tm_r0000gn/T/ipykernel_47487/2820687247.py:21: FutureWarning: The frame.append method is deprecated and will be removed from pandas in a future version. Use pandas.concat instead.\n",
      "  results.append({\"mse\":mse, \"accuracy\":acc},ignore_index=True )\n",
      "/var/folders/xd/39vn4ttx5239g2gxfkr0tm_r0000gn/T/ipykernel_47487/2820687247.py:21: FutureWarning: The frame.append method is deprecated and will be removed from pandas in a future version. Use pandas.concat instead.\n",
      "  results.append({\"mse\":mse, \"accuracy\":acc},ignore_index=True )\n",
      "/var/folders/xd/39vn4ttx5239g2gxfkr0tm_r0000gn/T/ipykernel_47487/2820687247.py:21: FutureWarning: The frame.append method is deprecated and will be removed from pandas in a future version. Use pandas.concat instead.\n",
      "  results.append({\"mse\":mse, \"accuracy\":acc},ignore_index=True )\n",
      "/var/folders/xd/39vn4ttx5239g2gxfkr0tm_r0000gn/T/ipykernel_47487/2820687247.py:21: FutureWarning: The frame.append method is deprecated and will be removed from pandas in a future version. Use pandas.concat instead.\n",
      "  results.append({\"mse\":mse, \"accuracy\":acc},ignore_index=True )\n",
      "/var/folders/xd/39vn4ttx5239g2gxfkr0tm_r0000gn/T/ipykernel_47487/2820687247.py:21: FutureWarning: The frame.append method is deprecated and will be removed from pandas in a future version. Use pandas.concat instead.\n",
      "  results.append({\"mse\":mse, \"accuracy\":acc},ignore_index=True )\n"
     ]
    },
    {
     "name": "stdout",
     "output_type": "stream",
     "text": [
      "1.7717987045341306 0.009466865969108122\n",
      "1.7717987045341306 0.009466865969108122\n",
      "1.7717987045341306 0.009466865969108122\n",
      "1.7717987045341306 0.009466865969108122\n",
      "1.7717987045341306 0.009466865969108122\n",
      "1.7717987045341306 0.009466865969108122\n",
      "1.7717987045341306 0.009466865969108122\n",
      "1.7717987045341306 0.009466865969108122\n",
      "1.7717987045341306 0.009466865969108122\n",
      "1.7717987045341306 0.009466865969108122\n"
     ]
    },
    {
     "name": "stderr",
     "output_type": "stream",
     "text": [
      "/var/folders/xd/39vn4ttx5239g2gxfkr0tm_r0000gn/T/ipykernel_47487/2820687247.py:21: FutureWarning: The frame.append method is deprecated and will be removed from pandas in a future version. Use pandas.concat instead.\n",
      "  results.append({\"mse\":mse, \"accuracy\":acc},ignore_index=True )\n",
      "/var/folders/xd/39vn4ttx5239g2gxfkr0tm_r0000gn/T/ipykernel_47487/2820687247.py:21: FutureWarning: The frame.append method is deprecated and will be removed from pandas in a future version. Use pandas.concat instead.\n",
      "  results.append({\"mse\":mse, \"accuracy\":acc},ignore_index=True )\n",
      "/var/folders/xd/39vn4ttx5239g2gxfkr0tm_r0000gn/T/ipykernel_47487/2820687247.py:21: FutureWarning: The frame.append method is deprecated and will be removed from pandas in a future version. Use pandas.concat instead.\n",
      "  results.append({\"mse\":mse, \"accuracy\":acc},ignore_index=True )\n",
      "/var/folders/xd/39vn4ttx5239g2gxfkr0tm_r0000gn/T/ipykernel_47487/2820687247.py:21: FutureWarning: The frame.append method is deprecated and will be removed from pandas in a future version. Use pandas.concat instead.\n",
      "  results.append({\"mse\":mse, \"accuracy\":acc},ignore_index=True )\n",
      "/var/folders/xd/39vn4ttx5239g2gxfkr0tm_r0000gn/T/ipykernel_47487/2820687247.py:21: FutureWarning: The frame.append method is deprecated and will be removed from pandas in a future version. Use pandas.concat instead.\n",
      "  results.append({\"mse\":mse, \"accuracy\":acc},ignore_index=True )\n",
      "/var/folders/xd/39vn4ttx5239g2gxfkr0tm_r0000gn/T/ipykernel_47487/2820687247.py:21: FutureWarning: The frame.append method is deprecated and will be removed from pandas in a future version. Use pandas.concat instead.\n",
      "  results.append({\"mse\":mse, \"accuracy\":acc},ignore_index=True )\n",
      "/var/folders/xd/39vn4ttx5239g2gxfkr0tm_r0000gn/T/ipykernel_47487/2820687247.py:21: FutureWarning: The frame.append method is deprecated and will be removed from pandas in a future version. Use pandas.concat instead.\n",
      "  results.append({\"mse\":mse, \"accuracy\":acc},ignore_index=True )\n",
      "/var/folders/xd/39vn4ttx5239g2gxfkr0tm_r0000gn/T/ipykernel_47487/2820687247.py:21: FutureWarning: The frame.append method is deprecated and will be removed from pandas in a future version. Use pandas.concat instead.\n",
      "  results.append({\"mse\":mse, \"accuracy\":acc},ignore_index=True )\n",
      "/var/folders/xd/39vn4ttx5239g2gxfkr0tm_r0000gn/T/ipykernel_47487/2820687247.py:21: FutureWarning: The frame.append method is deprecated and will be removed from pandas in a future version. Use pandas.concat instead.\n",
      "  results.append({\"mse\":mse, \"accuracy\":acc},ignore_index=True )\n",
      "/var/folders/xd/39vn4ttx5239g2gxfkr0tm_r0000gn/T/ipykernel_47487/2820687247.py:21: FutureWarning: The frame.append method is deprecated and will be removed from pandas in a future version. Use pandas.concat instead.\n",
      "  results.append({\"mse\":mse, \"accuracy\":acc},ignore_index=True )\n"
     ]
    },
    {
     "name": "stdout",
     "output_type": "stream",
     "text": [
      "1.7717987045341306 0.009466865969108122\n",
      "1.7717987045341306 0.009466865969108122\n",
      "1.7717987045341306 0.009466865969108122\n",
      "1.7717987045341306 0.009466865969108122\n",
      "1.7717987045341306 0.009466865969108122\n",
      "1.7717987045341306 0.009466865969108122\n",
      "1.7717987045341306 0.009466865969108122\n",
      "1.7717987045341306 0.009466865969108122\n",
      "1.7717987045341306 0.009466865969108122\n",
      "1.7717987045341306 0.009466865969108122\n"
     ]
    },
    {
     "name": "stderr",
     "output_type": "stream",
     "text": [
      "/var/folders/xd/39vn4ttx5239g2gxfkr0tm_r0000gn/T/ipykernel_47487/2820687247.py:21: FutureWarning: The frame.append method is deprecated and will be removed from pandas in a future version. Use pandas.concat instead.\n",
      "  results.append({\"mse\":mse, \"accuracy\":acc},ignore_index=True )\n",
      "/var/folders/xd/39vn4ttx5239g2gxfkr0tm_r0000gn/T/ipykernel_47487/2820687247.py:21: FutureWarning: The frame.append method is deprecated and will be removed from pandas in a future version. Use pandas.concat instead.\n",
      "  results.append({\"mse\":mse, \"accuracy\":acc},ignore_index=True )\n",
      "/var/folders/xd/39vn4ttx5239g2gxfkr0tm_r0000gn/T/ipykernel_47487/2820687247.py:21: FutureWarning: The frame.append method is deprecated and will be removed from pandas in a future version. Use pandas.concat instead.\n",
      "  results.append({\"mse\":mse, \"accuracy\":acc},ignore_index=True )\n",
      "/var/folders/xd/39vn4ttx5239g2gxfkr0tm_r0000gn/T/ipykernel_47487/2820687247.py:21: FutureWarning: The frame.append method is deprecated and will be removed from pandas in a future version. Use pandas.concat instead.\n",
      "  results.append({\"mse\":mse, \"accuracy\":acc},ignore_index=True )\n",
      "/var/folders/xd/39vn4ttx5239g2gxfkr0tm_r0000gn/T/ipykernel_47487/2820687247.py:21: FutureWarning: The frame.append method is deprecated and will be removed from pandas in a future version. Use pandas.concat instead.\n",
      "  results.append({\"mse\":mse, \"accuracy\":acc},ignore_index=True )\n",
      "/var/folders/xd/39vn4ttx5239g2gxfkr0tm_r0000gn/T/ipykernel_47487/2820687247.py:21: FutureWarning: The frame.append method is deprecated and will be removed from pandas in a future version. Use pandas.concat instead.\n",
      "  results.append({\"mse\":mse, \"accuracy\":acc},ignore_index=True )\n",
      "/var/folders/xd/39vn4ttx5239g2gxfkr0tm_r0000gn/T/ipykernel_47487/2820687247.py:21: FutureWarning: The frame.append method is deprecated and will be removed from pandas in a future version. Use pandas.concat instead.\n",
      "  results.append({\"mse\":mse, \"accuracy\":acc},ignore_index=True )\n",
      "/var/folders/xd/39vn4ttx5239g2gxfkr0tm_r0000gn/T/ipykernel_47487/2820687247.py:21: FutureWarning: The frame.append method is deprecated and will be removed from pandas in a future version. Use pandas.concat instead.\n",
      "  results.append({\"mse\":mse, \"accuracy\":acc},ignore_index=True )\n",
      "/var/folders/xd/39vn4ttx5239g2gxfkr0tm_r0000gn/T/ipykernel_47487/2820687247.py:21: FutureWarning: The frame.append method is deprecated and will be removed from pandas in a future version. Use pandas.concat instead.\n",
      "  results.append({\"mse\":mse, \"accuracy\":acc},ignore_index=True )\n",
      "/var/folders/xd/39vn4ttx5239g2gxfkr0tm_r0000gn/T/ipykernel_47487/2820687247.py:21: FutureWarning: The frame.append method is deprecated and will be removed from pandas in a future version. Use pandas.concat instead.\n",
      "  results.append({\"mse\":mse, \"accuracy\":acc},ignore_index=True )\n"
     ]
    },
    {
     "name": "stdout",
     "output_type": "stream",
     "text": [
      "1.7717987045341306 0.009466865969108122\n",
      "1.7717987045341306 0.009466865969108122\n",
      "1.7717987045341306 0.009466865969108122\n",
      "1.7717987045341306 0.009466865969108122\n",
      "1.7717987045341306 0.009466865969108122\n",
      "1.7717987045341306 0.009466865969108122\n",
      "1.7717987045341306 0.009466865969108122\n",
      "1.7717987045341306 0.009466865969108122\n",
      "1.7717987045341306 0.009466865969108122\n",
      "1.7717987045341306 0.009466865969108122\n"
     ]
    },
    {
     "name": "stderr",
     "output_type": "stream",
     "text": [
      "/var/folders/xd/39vn4ttx5239g2gxfkr0tm_r0000gn/T/ipykernel_47487/2820687247.py:21: FutureWarning: The frame.append method is deprecated and will be removed from pandas in a future version. Use pandas.concat instead.\n",
      "  results.append({\"mse\":mse, \"accuracy\":acc},ignore_index=True )\n",
      "/var/folders/xd/39vn4ttx5239g2gxfkr0tm_r0000gn/T/ipykernel_47487/2820687247.py:21: FutureWarning: The frame.append method is deprecated and will be removed from pandas in a future version. Use pandas.concat instead.\n",
      "  results.append({\"mse\":mse, \"accuracy\":acc},ignore_index=True )\n",
      "/var/folders/xd/39vn4ttx5239g2gxfkr0tm_r0000gn/T/ipykernel_47487/2820687247.py:21: FutureWarning: The frame.append method is deprecated and will be removed from pandas in a future version. Use pandas.concat instead.\n",
      "  results.append({\"mse\":mse, \"accuracy\":acc},ignore_index=True )\n",
      "/var/folders/xd/39vn4ttx5239g2gxfkr0tm_r0000gn/T/ipykernel_47487/2820687247.py:21: FutureWarning: The frame.append method is deprecated and will be removed from pandas in a future version. Use pandas.concat instead.\n",
      "  results.append({\"mse\":mse, \"accuracy\":acc},ignore_index=True )\n",
      "/var/folders/xd/39vn4ttx5239g2gxfkr0tm_r0000gn/T/ipykernel_47487/2820687247.py:21: FutureWarning: The frame.append method is deprecated and will be removed from pandas in a future version. Use pandas.concat instead.\n",
      "  results.append({\"mse\":mse, \"accuracy\":acc},ignore_index=True )\n",
      "/var/folders/xd/39vn4ttx5239g2gxfkr0tm_r0000gn/T/ipykernel_47487/2820687247.py:21: FutureWarning: The frame.append method is deprecated and will be removed from pandas in a future version. Use pandas.concat instead.\n",
      "  results.append({\"mse\":mse, \"accuracy\":acc},ignore_index=True )\n",
      "/var/folders/xd/39vn4ttx5239g2gxfkr0tm_r0000gn/T/ipykernel_47487/2820687247.py:21: FutureWarning: The frame.append method is deprecated and will be removed from pandas in a future version. Use pandas.concat instead.\n",
      "  results.append({\"mse\":mse, \"accuracy\":acc},ignore_index=True )\n",
      "/var/folders/xd/39vn4ttx5239g2gxfkr0tm_r0000gn/T/ipykernel_47487/2820687247.py:21: FutureWarning: The frame.append method is deprecated and will be removed from pandas in a future version. Use pandas.concat instead.\n",
      "  results.append({\"mse\":mse, \"accuracy\":acc},ignore_index=True )\n",
      "/var/folders/xd/39vn4ttx5239g2gxfkr0tm_r0000gn/T/ipykernel_47487/2820687247.py:21: FutureWarning: The frame.append method is deprecated and will be removed from pandas in a future version. Use pandas.concat instead.\n",
      "  results.append({\"mse\":mse, \"accuracy\":acc},ignore_index=True )\n",
      "/var/folders/xd/39vn4ttx5239g2gxfkr0tm_r0000gn/T/ipykernel_47487/2820687247.py:21: FutureWarning: The frame.append method is deprecated and will be removed from pandas in a future version. Use pandas.concat instead.\n",
      "  results.append({\"mse\":mse, \"accuracy\":acc},ignore_index=True )\n"
     ]
    },
    {
     "name": "stdout",
     "output_type": "stream",
     "text": [
      "1.7717987045341306 0.009466865969108122\n",
      "1.7717987045341306 0.009466865969108122\n",
      "1.7717987045341306 0.009466865969108122\n",
      "1.7717987045341306 0.009466865969108122\n",
      "1.7717987045341306 0.009466865969108122\n",
      "1.7717987045341306 0.009466865969108122\n",
      "1.7717987045341306 0.009466865969108122\n",
      "1.7717987045341306 0.009466865969108122\n",
      "1.7717987045341306 0.009466865969108122\n",
      "1.7717987045341306 0.009466865969108122\n"
     ]
    },
    {
     "name": "stderr",
     "output_type": "stream",
     "text": [
      "/var/folders/xd/39vn4ttx5239g2gxfkr0tm_r0000gn/T/ipykernel_47487/2820687247.py:21: FutureWarning: The frame.append method is deprecated and will be removed from pandas in a future version. Use pandas.concat instead.\n",
      "  results.append({\"mse\":mse, \"accuracy\":acc},ignore_index=True )\n",
      "/var/folders/xd/39vn4ttx5239g2gxfkr0tm_r0000gn/T/ipykernel_47487/2820687247.py:21: FutureWarning: The frame.append method is deprecated and will be removed from pandas in a future version. Use pandas.concat instead.\n",
      "  results.append({\"mse\":mse, \"accuracy\":acc},ignore_index=True )\n",
      "/var/folders/xd/39vn4ttx5239g2gxfkr0tm_r0000gn/T/ipykernel_47487/2820687247.py:21: FutureWarning: The frame.append method is deprecated and will be removed from pandas in a future version. Use pandas.concat instead.\n",
      "  results.append({\"mse\":mse, \"accuracy\":acc},ignore_index=True )\n",
      "/var/folders/xd/39vn4ttx5239g2gxfkr0tm_r0000gn/T/ipykernel_47487/2820687247.py:21: FutureWarning: The frame.append method is deprecated and will be removed from pandas in a future version. Use pandas.concat instead.\n",
      "  results.append({\"mse\":mse, \"accuracy\":acc},ignore_index=True )\n",
      "/var/folders/xd/39vn4ttx5239g2gxfkr0tm_r0000gn/T/ipykernel_47487/2820687247.py:21: FutureWarning: The frame.append method is deprecated and will be removed from pandas in a future version. Use pandas.concat instead.\n",
      "  results.append({\"mse\":mse, \"accuracy\":acc},ignore_index=True )\n",
      "/var/folders/xd/39vn4ttx5239g2gxfkr0tm_r0000gn/T/ipykernel_47487/2820687247.py:21: FutureWarning: The frame.append method is deprecated and will be removed from pandas in a future version. Use pandas.concat instead.\n",
      "  results.append({\"mse\":mse, \"accuracy\":acc},ignore_index=True )\n",
      "/var/folders/xd/39vn4ttx5239g2gxfkr0tm_r0000gn/T/ipykernel_47487/2820687247.py:21: FutureWarning: The frame.append method is deprecated and will be removed from pandas in a future version. Use pandas.concat instead.\n",
      "  results.append({\"mse\":mse, \"accuracy\":acc},ignore_index=True )\n",
      "/var/folders/xd/39vn4ttx5239g2gxfkr0tm_r0000gn/T/ipykernel_47487/2820687247.py:21: FutureWarning: The frame.append method is deprecated and will be removed from pandas in a future version. Use pandas.concat instead.\n",
      "  results.append({\"mse\":mse, \"accuracy\":acc},ignore_index=True )\n",
      "/var/folders/xd/39vn4ttx5239g2gxfkr0tm_r0000gn/T/ipykernel_47487/2820687247.py:21: FutureWarning: The frame.append method is deprecated and will be removed from pandas in a future version. Use pandas.concat instead.\n",
      "  results.append({\"mse\":mse, \"accuracy\":acc},ignore_index=True )\n",
      "/var/folders/xd/39vn4ttx5239g2gxfkr0tm_r0000gn/T/ipykernel_47487/2820687247.py:21: FutureWarning: The frame.append method is deprecated and will be removed from pandas in a future version. Use pandas.concat instead.\n",
      "  results.append({\"mse\":mse, \"accuracy\":acc},ignore_index=True )\n"
     ]
    },
    {
     "name": "stdout",
     "output_type": "stream",
     "text": [
      "1.7717987045341306 0.009466865969108122\n",
      "1.7717987045341306 0.009466865969108122\n",
      "1.7717987045341306 0.009466865969108122\n",
      "1.7717987045341306 0.009466865969108122\n",
      "1.7717987045341306 0.009466865969108122\n",
      "1.7717987045341306 0.009466865969108122\n",
      "1.7717987045341306 0.009466865969108122\n",
      "1.7717987045341306 0.009466865969108122\n",
      "1.7717987045341306 0.009466865969108122\n"
     ]
    },
    {
     "name": "stderr",
     "output_type": "stream",
     "text": [
      "/var/folders/xd/39vn4ttx5239g2gxfkr0tm_r0000gn/T/ipykernel_47487/2820687247.py:21: FutureWarning: The frame.append method is deprecated and will be removed from pandas in a future version. Use pandas.concat instead.\n",
      "  results.append({\"mse\":mse, \"accuracy\":acc},ignore_index=True )\n",
      "/var/folders/xd/39vn4ttx5239g2gxfkr0tm_r0000gn/T/ipykernel_47487/2820687247.py:21: FutureWarning: The frame.append method is deprecated and will be removed from pandas in a future version. Use pandas.concat instead.\n",
      "  results.append({\"mse\":mse, \"accuracy\":acc},ignore_index=True )\n",
      "/var/folders/xd/39vn4ttx5239g2gxfkr0tm_r0000gn/T/ipykernel_47487/2820687247.py:21: FutureWarning: The frame.append method is deprecated and will be removed from pandas in a future version. Use pandas.concat instead.\n",
      "  results.append({\"mse\":mse, \"accuracy\":acc},ignore_index=True )\n",
      "/var/folders/xd/39vn4ttx5239g2gxfkr0tm_r0000gn/T/ipykernel_47487/2820687247.py:21: FutureWarning: The frame.append method is deprecated and will be removed from pandas in a future version. Use pandas.concat instead.\n",
      "  results.append({\"mse\":mse, \"accuracy\":acc},ignore_index=True )\n",
      "/var/folders/xd/39vn4ttx5239g2gxfkr0tm_r0000gn/T/ipykernel_47487/2820687247.py:21: FutureWarning: The frame.append method is deprecated and will be removed from pandas in a future version. Use pandas.concat instead.\n",
      "  results.append({\"mse\":mse, \"accuracy\":acc},ignore_index=True )\n",
      "/var/folders/xd/39vn4ttx5239g2gxfkr0tm_r0000gn/T/ipykernel_47487/2820687247.py:21: FutureWarning: The frame.append method is deprecated and will be removed from pandas in a future version. Use pandas.concat instead.\n",
      "  results.append({\"mse\":mse, \"accuracy\":acc},ignore_index=True )\n",
      "/var/folders/xd/39vn4ttx5239g2gxfkr0tm_r0000gn/T/ipykernel_47487/2820687247.py:21: FutureWarning: The frame.append method is deprecated and will be removed from pandas in a future version. Use pandas.concat instead.\n",
      "  results.append({\"mse\":mse, \"accuracy\":acc},ignore_index=True )\n",
      "/var/folders/xd/39vn4ttx5239g2gxfkr0tm_r0000gn/T/ipykernel_47487/2820687247.py:21: FutureWarning: The frame.append method is deprecated and will be removed from pandas in a future version. Use pandas.concat instead.\n",
      "  results.append({\"mse\":mse, \"accuracy\":acc},ignore_index=True )\n",
      "/var/folders/xd/39vn4ttx5239g2gxfkr0tm_r0000gn/T/ipykernel_47487/2820687247.py:21: FutureWarning: The frame.append method is deprecated and will be removed from pandas in a future version. Use pandas.concat instead.\n",
      "  results.append({\"mse\":mse, \"accuracy\":acc},ignore_index=True )\n"
     ]
    },
    {
     "name": "stdout",
     "output_type": "stream",
     "text": [
      "1.7717987045341306 0.009466865969108122\n",
      "1.7717987045341306 0.009466865969108122\n",
      "1.7717987045341306 0.009466865969108122\n",
      "1.7717987045341306 0.009466865969108122\n",
      "1.7717987045341306 0.009466865969108122\n",
      "1.7717987045341306 0.009466865969108122\n",
      "1.7717987045341306 0.009466865969108122\n",
      "1.7717987045341306 0.009466865969108122\n",
      "1.7717987045341306 0.009466865969108122\n",
      "1.7717987045341306 0.009466865969108122\n"
     ]
    },
    {
     "name": "stderr",
     "output_type": "stream",
     "text": [
      "/var/folders/xd/39vn4ttx5239g2gxfkr0tm_r0000gn/T/ipykernel_47487/2820687247.py:21: FutureWarning: The frame.append method is deprecated and will be removed from pandas in a future version. Use pandas.concat instead.\n",
      "  results.append({\"mse\":mse, \"accuracy\":acc},ignore_index=True )\n",
      "/var/folders/xd/39vn4ttx5239g2gxfkr0tm_r0000gn/T/ipykernel_47487/2820687247.py:21: FutureWarning: The frame.append method is deprecated and will be removed from pandas in a future version. Use pandas.concat instead.\n",
      "  results.append({\"mse\":mse, \"accuracy\":acc},ignore_index=True )\n",
      "/var/folders/xd/39vn4ttx5239g2gxfkr0tm_r0000gn/T/ipykernel_47487/2820687247.py:21: FutureWarning: The frame.append method is deprecated and will be removed from pandas in a future version. Use pandas.concat instead.\n",
      "  results.append({\"mse\":mse, \"accuracy\":acc},ignore_index=True )\n",
      "/var/folders/xd/39vn4ttx5239g2gxfkr0tm_r0000gn/T/ipykernel_47487/2820687247.py:21: FutureWarning: The frame.append method is deprecated and will be removed from pandas in a future version. Use pandas.concat instead.\n",
      "  results.append({\"mse\":mse, \"accuracy\":acc},ignore_index=True )\n",
      "/var/folders/xd/39vn4ttx5239g2gxfkr0tm_r0000gn/T/ipykernel_47487/2820687247.py:21: FutureWarning: The frame.append method is deprecated and will be removed from pandas in a future version. Use pandas.concat instead.\n",
      "  results.append({\"mse\":mse, \"accuracy\":acc},ignore_index=True )\n",
      "/var/folders/xd/39vn4ttx5239g2gxfkr0tm_r0000gn/T/ipykernel_47487/2820687247.py:21: FutureWarning: The frame.append method is deprecated and will be removed from pandas in a future version. Use pandas.concat instead.\n",
      "  results.append({\"mse\":mse, \"accuracy\":acc},ignore_index=True )\n",
      "/var/folders/xd/39vn4ttx5239g2gxfkr0tm_r0000gn/T/ipykernel_47487/2820687247.py:21: FutureWarning: The frame.append method is deprecated and will be removed from pandas in a future version. Use pandas.concat instead.\n",
      "  results.append({\"mse\":mse, \"accuracy\":acc},ignore_index=True )\n",
      "/var/folders/xd/39vn4ttx5239g2gxfkr0tm_r0000gn/T/ipykernel_47487/2820687247.py:21: FutureWarning: The frame.append method is deprecated and will be removed from pandas in a future version. Use pandas.concat instead.\n",
      "  results.append({\"mse\":mse, \"accuracy\":acc},ignore_index=True )\n",
      "/var/folders/xd/39vn4ttx5239g2gxfkr0tm_r0000gn/T/ipykernel_47487/2820687247.py:21: FutureWarning: The frame.append method is deprecated and will be removed from pandas in a future version. Use pandas.concat instead.\n",
      "  results.append({\"mse\":mse, \"accuracy\":acc},ignore_index=True )\n",
      "/var/folders/xd/39vn4ttx5239g2gxfkr0tm_r0000gn/T/ipykernel_47487/2820687247.py:21: FutureWarning: The frame.append method is deprecated and will be removed from pandas in a future version. Use pandas.concat instead.\n",
      "  results.append({\"mse\":mse, \"accuracy\":acc},ignore_index=True )\n"
     ]
    },
    {
     "name": "stdout",
     "output_type": "stream",
     "text": [
      "1.7717987045341306 0.009466865969108122\n",
      "1.7717987045341306 0.009466865969108122\n",
      "1.7717987045341306 0.009466865969108122\n",
      "1.7717987045341306 0.009466865969108122\n",
      "1.7717987045341306 0.009466865969108122\n",
      "1.7717987045341306 0.009466865969108122\n",
      "1.7717987045341306 0.009466865969108122\n",
      "1.7717987045341306 0.009466865969108122\n",
      "1.7717987045341306 0.009466865969108122\n",
      "1.7717987045341306 0.009466865969108122\n"
     ]
    },
    {
     "name": "stderr",
     "output_type": "stream",
     "text": [
      "/var/folders/xd/39vn4ttx5239g2gxfkr0tm_r0000gn/T/ipykernel_47487/2820687247.py:21: FutureWarning: The frame.append method is deprecated and will be removed from pandas in a future version. Use pandas.concat instead.\n",
      "  results.append({\"mse\":mse, \"accuracy\":acc},ignore_index=True )\n",
      "/var/folders/xd/39vn4ttx5239g2gxfkr0tm_r0000gn/T/ipykernel_47487/2820687247.py:21: FutureWarning: The frame.append method is deprecated and will be removed from pandas in a future version. Use pandas.concat instead.\n",
      "  results.append({\"mse\":mse, \"accuracy\":acc},ignore_index=True )\n",
      "/var/folders/xd/39vn4ttx5239g2gxfkr0tm_r0000gn/T/ipykernel_47487/2820687247.py:21: FutureWarning: The frame.append method is deprecated and will be removed from pandas in a future version. Use pandas.concat instead.\n",
      "  results.append({\"mse\":mse, \"accuracy\":acc},ignore_index=True )\n",
      "/var/folders/xd/39vn4ttx5239g2gxfkr0tm_r0000gn/T/ipykernel_47487/2820687247.py:21: FutureWarning: The frame.append method is deprecated and will be removed from pandas in a future version. Use pandas.concat instead.\n",
      "  results.append({\"mse\":mse, \"accuracy\":acc},ignore_index=True )\n",
      "/var/folders/xd/39vn4ttx5239g2gxfkr0tm_r0000gn/T/ipykernel_47487/2820687247.py:21: FutureWarning: The frame.append method is deprecated and will be removed from pandas in a future version. Use pandas.concat instead.\n",
      "  results.append({\"mse\":mse, \"accuracy\":acc},ignore_index=True )\n",
      "/var/folders/xd/39vn4ttx5239g2gxfkr0tm_r0000gn/T/ipykernel_47487/2820687247.py:21: FutureWarning: The frame.append method is deprecated and will be removed from pandas in a future version. Use pandas.concat instead.\n",
      "  results.append({\"mse\":mse, \"accuracy\":acc},ignore_index=True )\n",
      "/var/folders/xd/39vn4ttx5239g2gxfkr0tm_r0000gn/T/ipykernel_47487/2820687247.py:21: FutureWarning: The frame.append method is deprecated and will be removed from pandas in a future version. Use pandas.concat instead.\n",
      "  results.append({\"mse\":mse, \"accuracy\":acc},ignore_index=True )\n",
      "/var/folders/xd/39vn4ttx5239g2gxfkr0tm_r0000gn/T/ipykernel_47487/2820687247.py:21: FutureWarning: The frame.append method is deprecated and will be removed from pandas in a future version. Use pandas.concat instead.\n",
      "  results.append({\"mse\":mse, \"accuracy\":acc},ignore_index=True )\n",
      "/var/folders/xd/39vn4ttx5239g2gxfkr0tm_r0000gn/T/ipykernel_47487/2820687247.py:21: FutureWarning: The frame.append method is deprecated and will be removed from pandas in a future version. Use pandas.concat instead.\n",
      "  results.append({\"mse\":mse, \"accuracy\":acc},ignore_index=True )\n",
      "/var/folders/xd/39vn4ttx5239g2gxfkr0tm_r0000gn/T/ipykernel_47487/2820687247.py:21: FutureWarning: The frame.append method is deprecated and will be removed from pandas in a future version. Use pandas.concat instead.\n",
      "  results.append({\"mse\":mse, \"accuracy\":acc},ignore_index=True )\n"
     ]
    },
    {
     "name": "stdout",
     "output_type": "stream",
     "text": [
      "1.7717987045341306 0.009466865969108122\n",
      "1.7717987045341306 0.009466865969108122\n",
      "1.7717987045341306 0.009466865969108122\n",
      "1.7717987045341306 0.009466865969108122\n",
      "1.7717987045341306 0.009466865969108122\n",
      "1.7717987045341306 0.009466865969108122\n",
      "1.7717987045341306 0.009466865969108122\n",
      "1.7717987045341306 0.009466865969108122\n",
      "1.7717987045341306 0.009466865969108122\n"
     ]
    },
    {
     "name": "stderr",
     "output_type": "stream",
     "text": [
      "/var/folders/xd/39vn4ttx5239g2gxfkr0tm_r0000gn/T/ipykernel_47487/2820687247.py:21: FutureWarning: The frame.append method is deprecated and will be removed from pandas in a future version. Use pandas.concat instead.\n",
      "  results.append({\"mse\":mse, \"accuracy\":acc},ignore_index=True )\n",
      "/var/folders/xd/39vn4ttx5239g2gxfkr0tm_r0000gn/T/ipykernel_47487/2820687247.py:21: FutureWarning: The frame.append method is deprecated and will be removed from pandas in a future version. Use pandas.concat instead.\n",
      "  results.append({\"mse\":mse, \"accuracy\":acc},ignore_index=True )\n",
      "/var/folders/xd/39vn4ttx5239g2gxfkr0tm_r0000gn/T/ipykernel_47487/2820687247.py:21: FutureWarning: The frame.append method is deprecated and will be removed from pandas in a future version. Use pandas.concat instead.\n",
      "  results.append({\"mse\":mse, \"accuracy\":acc},ignore_index=True )\n",
      "/var/folders/xd/39vn4ttx5239g2gxfkr0tm_r0000gn/T/ipykernel_47487/2820687247.py:21: FutureWarning: The frame.append method is deprecated and will be removed from pandas in a future version. Use pandas.concat instead.\n",
      "  results.append({\"mse\":mse, \"accuracy\":acc},ignore_index=True )\n",
      "/var/folders/xd/39vn4ttx5239g2gxfkr0tm_r0000gn/T/ipykernel_47487/2820687247.py:21: FutureWarning: The frame.append method is deprecated and will be removed from pandas in a future version. Use pandas.concat instead.\n",
      "  results.append({\"mse\":mse, \"accuracy\":acc},ignore_index=True )\n",
      "/var/folders/xd/39vn4ttx5239g2gxfkr0tm_r0000gn/T/ipykernel_47487/2820687247.py:21: FutureWarning: The frame.append method is deprecated and will be removed from pandas in a future version. Use pandas.concat instead.\n",
      "  results.append({\"mse\":mse, \"accuracy\":acc},ignore_index=True )\n",
      "/var/folders/xd/39vn4ttx5239g2gxfkr0tm_r0000gn/T/ipykernel_47487/2820687247.py:21: FutureWarning: The frame.append method is deprecated and will be removed from pandas in a future version. Use pandas.concat instead.\n",
      "  results.append({\"mse\":mse, \"accuracy\":acc},ignore_index=True )\n",
      "/var/folders/xd/39vn4ttx5239g2gxfkr0tm_r0000gn/T/ipykernel_47487/2820687247.py:21: FutureWarning: The frame.append method is deprecated and will be removed from pandas in a future version. Use pandas.concat instead.\n",
      "  results.append({\"mse\":mse, \"accuracy\":acc},ignore_index=True )\n",
      "/var/folders/xd/39vn4ttx5239g2gxfkr0tm_r0000gn/T/ipykernel_47487/2820687247.py:21: FutureWarning: The frame.append method is deprecated and will be removed from pandas in a future version. Use pandas.concat instead.\n",
      "  results.append({\"mse\":mse, \"accuracy\":acc},ignore_index=True )\n"
     ]
    },
    {
     "name": "stdout",
     "output_type": "stream",
     "text": [
      "1.7717987045341306 0.009466865969108122\n",
      "1.7717987045341306 0.009466865969108122\n",
      "1.7717987045341306 0.009466865969108122\n",
      "1.7717987045341306 0.009466865969108122\n",
      "1.7717987045341306 0.009466865969108122\n",
      "1.7717987045341306 0.009466865969108122\n",
      "1.7717987045341306 0.009466865969108122\n",
      "1.7717987045341306 0.009466865969108122\n",
      "1.7717987045341306 0.009466865969108122\n",
      "1.7717987045341306 0.009466865969108122\n"
     ]
    },
    {
     "name": "stderr",
     "output_type": "stream",
     "text": [
      "/var/folders/xd/39vn4ttx5239g2gxfkr0tm_r0000gn/T/ipykernel_47487/2820687247.py:21: FutureWarning: The frame.append method is deprecated and will be removed from pandas in a future version. Use pandas.concat instead.\n",
      "  results.append({\"mse\":mse, \"accuracy\":acc},ignore_index=True )\n",
      "/var/folders/xd/39vn4ttx5239g2gxfkr0tm_r0000gn/T/ipykernel_47487/2820687247.py:21: FutureWarning: The frame.append method is deprecated and will be removed from pandas in a future version. Use pandas.concat instead.\n",
      "  results.append({\"mse\":mse, \"accuracy\":acc},ignore_index=True )\n",
      "/var/folders/xd/39vn4ttx5239g2gxfkr0tm_r0000gn/T/ipykernel_47487/2820687247.py:21: FutureWarning: The frame.append method is deprecated and will be removed from pandas in a future version. Use pandas.concat instead.\n",
      "  results.append({\"mse\":mse, \"accuracy\":acc},ignore_index=True )\n",
      "/var/folders/xd/39vn4ttx5239g2gxfkr0tm_r0000gn/T/ipykernel_47487/2820687247.py:21: FutureWarning: The frame.append method is deprecated and will be removed from pandas in a future version. Use pandas.concat instead.\n",
      "  results.append({\"mse\":mse, \"accuracy\":acc},ignore_index=True )\n",
      "/var/folders/xd/39vn4ttx5239g2gxfkr0tm_r0000gn/T/ipykernel_47487/2820687247.py:21: FutureWarning: The frame.append method is deprecated and will be removed from pandas in a future version. Use pandas.concat instead.\n",
      "  results.append({\"mse\":mse, \"accuracy\":acc},ignore_index=True )\n",
      "/var/folders/xd/39vn4ttx5239g2gxfkr0tm_r0000gn/T/ipykernel_47487/2820687247.py:21: FutureWarning: The frame.append method is deprecated and will be removed from pandas in a future version. Use pandas.concat instead.\n",
      "  results.append({\"mse\":mse, \"accuracy\":acc},ignore_index=True )\n",
      "/var/folders/xd/39vn4ttx5239g2gxfkr0tm_r0000gn/T/ipykernel_47487/2820687247.py:21: FutureWarning: The frame.append method is deprecated and will be removed from pandas in a future version. Use pandas.concat instead.\n",
      "  results.append({\"mse\":mse, \"accuracy\":acc},ignore_index=True )\n",
      "/var/folders/xd/39vn4ttx5239g2gxfkr0tm_r0000gn/T/ipykernel_47487/2820687247.py:21: FutureWarning: The frame.append method is deprecated and will be removed from pandas in a future version. Use pandas.concat instead.\n",
      "  results.append({\"mse\":mse, \"accuracy\":acc},ignore_index=True )\n",
      "/var/folders/xd/39vn4ttx5239g2gxfkr0tm_r0000gn/T/ipykernel_47487/2820687247.py:21: FutureWarning: The frame.append method is deprecated and will be removed from pandas in a future version. Use pandas.concat instead.\n",
      "  results.append({\"mse\":mse, \"accuracy\":acc},ignore_index=True )\n",
      "/var/folders/xd/39vn4ttx5239g2gxfkr0tm_r0000gn/T/ipykernel_47487/2820687247.py:21: FutureWarning: The frame.append method is deprecated and will be removed from pandas in a future version. Use pandas.concat instead.\n",
      "  results.append({\"mse\":mse, \"accuracy\":acc},ignore_index=True )\n"
     ]
    },
    {
     "name": "stdout",
     "output_type": "stream",
     "text": [
      "1.7717987045341306 0.009466865969108122\n",
      "1.7717987045341306 0.009466865969108122\n",
      "1.7717987045341306 0.009466865969108122\n",
      "1.7717987045341306 0.009466865969108122\n",
      "1.7717987045341306 0.009466865969108122\n",
      "1.7717987045341306 0.009466865969108122\n",
      "1.7717987045341306 0.009466865969108122\n",
      "1.7717987045341306 0.009466865969108122\n",
      "1.7717987045341306 0.009466865969108122\n"
     ]
    },
    {
     "name": "stderr",
     "output_type": "stream",
     "text": [
      "/var/folders/xd/39vn4ttx5239g2gxfkr0tm_r0000gn/T/ipykernel_47487/2820687247.py:21: FutureWarning: The frame.append method is deprecated and will be removed from pandas in a future version. Use pandas.concat instead.\n",
      "  results.append({\"mse\":mse, \"accuracy\":acc},ignore_index=True )\n",
      "/var/folders/xd/39vn4ttx5239g2gxfkr0tm_r0000gn/T/ipykernel_47487/2820687247.py:21: FutureWarning: The frame.append method is deprecated and will be removed from pandas in a future version. Use pandas.concat instead.\n",
      "  results.append({\"mse\":mse, \"accuracy\":acc},ignore_index=True )\n",
      "/var/folders/xd/39vn4ttx5239g2gxfkr0tm_r0000gn/T/ipykernel_47487/2820687247.py:21: FutureWarning: The frame.append method is deprecated and will be removed from pandas in a future version. Use pandas.concat instead.\n",
      "  results.append({\"mse\":mse, \"accuracy\":acc},ignore_index=True )\n",
      "/var/folders/xd/39vn4ttx5239g2gxfkr0tm_r0000gn/T/ipykernel_47487/2820687247.py:21: FutureWarning: The frame.append method is deprecated and will be removed from pandas in a future version. Use pandas.concat instead.\n",
      "  results.append({\"mse\":mse, \"accuracy\":acc},ignore_index=True )\n",
      "/var/folders/xd/39vn4ttx5239g2gxfkr0tm_r0000gn/T/ipykernel_47487/2820687247.py:21: FutureWarning: The frame.append method is deprecated and will be removed from pandas in a future version. Use pandas.concat instead.\n",
      "  results.append({\"mse\":mse, \"accuracy\":acc},ignore_index=True )\n",
      "/var/folders/xd/39vn4ttx5239g2gxfkr0tm_r0000gn/T/ipykernel_47487/2820687247.py:21: FutureWarning: The frame.append method is deprecated and will be removed from pandas in a future version. Use pandas.concat instead.\n",
      "  results.append({\"mse\":mse, \"accuracy\":acc},ignore_index=True )\n",
      "/var/folders/xd/39vn4ttx5239g2gxfkr0tm_r0000gn/T/ipykernel_47487/2820687247.py:21: FutureWarning: The frame.append method is deprecated and will be removed from pandas in a future version. Use pandas.concat instead.\n",
      "  results.append({\"mse\":mse, \"accuracy\":acc},ignore_index=True )\n",
      "/var/folders/xd/39vn4ttx5239g2gxfkr0tm_r0000gn/T/ipykernel_47487/2820687247.py:21: FutureWarning: The frame.append method is deprecated and will be removed from pandas in a future version. Use pandas.concat instead.\n",
      "  results.append({\"mse\":mse, \"accuracy\":acc},ignore_index=True )\n",
      "/var/folders/xd/39vn4ttx5239g2gxfkr0tm_r0000gn/T/ipykernel_47487/2820687247.py:21: FutureWarning: The frame.append method is deprecated and will be removed from pandas in a future version. Use pandas.concat instead.\n",
      "  results.append({\"mse\":mse, \"accuracy\":acc},ignore_index=True )\n"
     ]
    },
    {
     "name": "stdout",
     "output_type": "stream",
     "text": [
      "1.7717987045341306 0.009466865969108122\n",
      "1.7717987045341306 0.009466865969108122\n",
      "1.7717987045341306 0.009466865969108122\n",
      "1.7717987045341306 0.009466865969108122\n",
      "1.7717987045341306 0.009466865969108122\n",
      "1.7717987045341306 0.009466865969108122\n",
      "1.7717987045341306 0.009466865969108122\n",
      "1.7717987045341306 0.009466865969108122\n",
      "1.7717987045341306 0.009466865969108122\n"
     ]
    },
    {
     "name": "stderr",
     "output_type": "stream",
     "text": [
      "/var/folders/xd/39vn4ttx5239g2gxfkr0tm_r0000gn/T/ipykernel_47487/2820687247.py:21: FutureWarning: The frame.append method is deprecated and will be removed from pandas in a future version. Use pandas.concat instead.\n",
      "  results.append({\"mse\":mse, \"accuracy\":acc},ignore_index=True )\n",
      "/var/folders/xd/39vn4ttx5239g2gxfkr0tm_r0000gn/T/ipykernel_47487/2820687247.py:21: FutureWarning: The frame.append method is deprecated and will be removed from pandas in a future version. Use pandas.concat instead.\n",
      "  results.append({\"mse\":mse, \"accuracy\":acc},ignore_index=True )\n",
      "/var/folders/xd/39vn4ttx5239g2gxfkr0tm_r0000gn/T/ipykernel_47487/2820687247.py:21: FutureWarning: The frame.append method is deprecated and will be removed from pandas in a future version. Use pandas.concat instead.\n",
      "  results.append({\"mse\":mse, \"accuracy\":acc},ignore_index=True )\n",
      "/var/folders/xd/39vn4ttx5239g2gxfkr0tm_r0000gn/T/ipykernel_47487/2820687247.py:21: FutureWarning: The frame.append method is deprecated and will be removed from pandas in a future version. Use pandas.concat instead.\n",
      "  results.append({\"mse\":mse, \"accuracy\":acc},ignore_index=True )\n",
      "/var/folders/xd/39vn4ttx5239g2gxfkr0tm_r0000gn/T/ipykernel_47487/2820687247.py:21: FutureWarning: The frame.append method is deprecated and will be removed from pandas in a future version. Use pandas.concat instead.\n",
      "  results.append({\"mse\":mse, \"accuracy\":acc},ignore_index=True )\n",
      "/var/folders/xd/39vn4ttx5239g2gxfkr0tm_r0000gn/T/ipykernel_47487/2820687247.py:21: FutureWarning: The frame.append method is deprecated and will be removed from pandas in a future version. Use pandas.concat instead.\n",
      "  results.append({\"mse\":mse, \"accuracy\":acc},ignore_index=True )\n",
      "/var/folders/xd/39vn4ttx5239g2gxfkr0tm_r0000gn/T/ipykernel_47487/2820687247.py:21: FutureWarning: The frame.append method is deprecated and will be removed from pandas in a future version. Use pandas.concat instead.\n",
      "  results.append({\"mse\":mse, \"accuracy\":acc},ignore_index=True )\n",
      "/var/folders/xd/39vn4ttx5239g2gxfkr0tm_r0000gn/T/ipykernel_47487/2820687247.py:21: FutureWarning: The frame.append method is deprecated and will be removed from pandas in a future version. Use pandas.concat instead.\n",
      "  results.append({\"mse\":mse, \"accuracy\":acc},ignore_index=True )\n",
      "/var/folders/xd/39vn4ttx5239g2gxfkr0tm_r0000gn/T/ipykernel_47487/2820687247.py:21: FutureWarning: The frame.append method is deprecated and will be removed from pandas in a future version. Use pandas.concat instead.\n",
      "  results.append({\"mse\":mse, \"accuracy\":acc},ignore_index=True )\n"
     ]
    },
    {
     "name": "stdout",
     "output_type": "stream",
     "text": [
      "1.7717987045341306 0.009466865969108122\n",
      "1.7717987045341306 0.009466865969108122\n",
      "1.7717987045341306 0.009466865969108122\n",
      "1.7717987045341306 0.009466865969108122\n",
      "1.7717987045341306 0.009466865969108122\n",
      "1.7717987045341306 0.009466865969108122\n",
      "1.7717987045341306 0.009466865969108122\n",
      "1.7717987045341306 0.009466865969108122\n",
      "1.7717987045341306 0.009466865969108122\n",
      "1.7717987045341306 0.009466865969108122\n"
     ]
    },
    {
     "name": "stderr",
     "output_type": "stream",
     "text": [
      "/var/folders/xd/39vn4ttx5239g2gxfkr0tm_r0000gn/T/ipykernel_47487/2820687247.py:21: FutureWarning: The frame.append method is deprecated and will be removed from pandas in a future version. Use pandas.concat instead.\n",
      "  results.append({\"mse\":mse, \"accuracy\":acc},ignore_index=True )\n",
      "/var/folders/xd/39vn4ttx5239g2gxfkr0tm_r0000gn/T/ipykernel_47487/2820687247.py:21: FutureWarning: The frame.append method is deprecated and will be removed from pandas in a future version. Use pandas.concat instead.\n",
      "  results.append({\"mse\":mse, \"accuracy\":acc},ignore_index=True )\n",
      "/var/folders/xd/39vn4ttx5239g2gxfkr0tm_r0000gn/T/ipykernel_47487/2820687247.py:21: FutureWarning: The frame.append method is deprecated and will be removed from pandas in a future version. Use pandas.concat instead.\n",
      "  results.append({\"mse\":mse, \"accuracy\":acc},ignore_index=True )\n",
      "/var/folders/xd/39vn4ttx5239g2gxfkr0tm_r0000gn/T/ipykernel_47487/2820687247.py:21: FutureWarning: The frame.append method is deprecated and will be removed from pandas in a future version. Use pandas.concat instead.\n",
      "  results.append({\"mse\":mse, \"accuracy\":acc},ignore_index=True )\n",
      "/var/folders/xd/39vn4ttx5239g2gxfkr0tm_r0000gn/T/ipykernel_47487/2820687247.py:21: FutureWarning: The frame.append method is deprecated and will be removed from pandas in a future version. Use pandas.concat instead.\n",
      "  results.append({\"mse\":mse, \"accuracy\":acc},ignore_index=True )\n",
      "/var/folders/xd/39vn4ttx5239g2gxfkr0tm_r0000gn/T/ipykernel_47487/2820687247.py:21: FutureWarning: The frame.append method is deprecated and will be removed from pandas in a future version. Use pandas.concat instead.\n",
      "  results.append({\"mse\":mse, \"accuracy\":acc},ignore_index=True )\n",
      "/var/folders/xd/39vn4ttx5239g2gxfkr0tm_r0000gn/T/ipykernel_47487/2820687247.py:21: FutureWarning: The frame.append method is deprecated and will be removed from pandas in a future version. Use pandas.concat instead.\n",
      "  results.append({\"mse\":mse, \"accuracy\":acc},ignore_index=True )\n",
      "/var/folders/xd/39vn4ttx5239g2gxfkr0tm_r0000gn/T/ipykernel_47487/2820687247.py:21: FutureWarning: The frame.append method is deprecated and will be removed from pandas in a future version. Use pandas.concat instead.\n",
      "  results.append({\"mse\":mse, \"accuracy\":acc},ignore_index=True )\n",
      "/var/folders/xd/39vn4ttx5239g2gxfkr0tm_r0000gn/T/ipykernel_47487/2820687247.py:21: FutureWarning: The frame.append method is deprecated and will be removed from pandas in a future version. Use pandas.concat instead.\n",
      "  results.append({\"mse\":mse, \"accuracy\":acc},ignore_index=True )\n",
      "/var/folders/xd/39vn4ttx5239g2gxfkr0tm_r0000gn/T/ipykernel_47487/2820687247.py:21: FutureWarning: The frame.append method is deprecated and will be removed from pandas in a future version. Use pandas.concat instead.\n",
      "  results.append({\"mse\":mse, \"accuracy\":acc},ignore_index=True )\n"
     ]
    },
    {
     "name": "stdout",
     "output_type": "stream",
     "text": [
      "1.7717987045341306 0.009466865969108122\n",
      "1.7717987045341306 0.009466865969108122\n",
      "1.7717987045341306 0.009466865969108122\n",
      "1.7717987045341306 0.009466865969108122\n",
      "1.7717987045341306 0.009466865969108122\n",
      "1.7717987045341306 0.009466865969108122\n",
      "1.7717987045341306 0.009466865969108122\n",
      "1.7717987045341306 0.009466865969108122\n",
      "1.7717987045341306 0.009466865969108122\n",
      "1.7717987045341306 0.009466865969108122\n"
     ]
    },
    {
     "name": "stderr",
     "output_type": "stream",
     "text": [
      "/var/folders/xd/39vn4ttx5239g2gxfkr0tm_r0000gn/T/ipykernel_47487/2820687247.py:21: FutureWarning: The frame.append method is deprecated and will be removed from pandas in a future version. Use pandas.concat instead.\n",
      "  results.append({\"mse\":mse, \"accuracy\":acc},ignore_index=True )\n",
      "/var/folders/xd/39vn4ttx5239g2gxfkr0tm_r0000gn/T/ipykernel_47487/2820687247.py:21: FutureWarning: The frame.append method is deprecated and will be removed from pandas in a future version. Use pandas.concat instead.\n",
      "  results.append({\"mse\":mse, \"accuracy\":acc},ignore_index=True )\n",
      "/var/folders/xd/39vn4ttx5239g2gxfkr0tm_r0000gn/T/ipykernel_47487/2820687247.py:21: FutureWarning: The frame.append method is deprecated and will be removed from pandas in a future version. Use pandas.concat instead.\n",
      "  results.append({\"mse\":mse, \"accuracy\":acc},ignore_index=True )\n",
      "/var/folders/xd/39vn4ttx5239g2gxfkr0tm_r0000gn/T/ipykernel_47487/2820687247.py:21: FutureWarning: The frame.append method is deprecated and will be removed from pandas in a future version. Use pandas.concat instead.\n",
      "  results.append({\"mse\":mse, \"accuracy\":acc},ignore_index=True )\n",
      "/var/folders/xd/39vn4ttx5239g2gxfkr0tm_r0000gn/T/ipykernel_47487/2820687247.py:21: FutureWarning: The frame.append method is deprecated and will be removed from pandas in a future version. Use pandas.concat instead.\n",
      "  results.append({\"mse\":mse, \"accuracy\":acc},ignore_index=True )\n",
      "/var/folders/xd/39vn4ttx5239g2gxfkr0tm_r0000gn/T/ipykernel_47487/2820687247.py:21: FutureWarning: The frame.append method is deprecated and will be removed from pandas in a future version. Use pandas.concat instead.\n",
      "  results.append({\"mse\":mse, \"accuracy\":acc},ignore_index=True )\n",
      "/var/folders/xd/39vn4ttx5239g2gxfkr0tm_r0000gn/T/ipykernel_47487/2820687247.py:21: FutureWarning: The frame.append method is deprecated and will be removed from pandas in a future version. Use pandas.concat instead.\n",
      "  results.append({\"mse\":mse, \"accuracy\":acc},ignore_index=True )\n",
      "/var/folders/xd/39vn4ttx5239g2gxfkr0tm_r0000gn/T/ipykernel_47487/2820687247.py:21: FutureWarning: The frame.append method is deprecated and will be removed from pandas in a future version. Use pandas.concat instead.\n",
      "  results.append({\"mse\":mse, \"accuracy\":acc},ignore_index=True )\n",
      "/var/folders/xd/39vn4ttx5239g2gxfkr0tm_r0000gn/T/ipykernel_47487/2820687247.py:21: FutureWarning: The frame.append method is deprecated and will be removed from pandas in a future version. Use pandas.concat instead.\n",
      "  results.append({\"mse\":mse, \"accuracy\":acc},ignore_index=True )\n",
      "/var/folders/xd/39vn4ttx5239g2gxfkr0tm_r0000gn/T/ipykernel_47487/2820687247.py:21: FutureWarning: The frame.append method is deprecated and will be removed from pandas in a future version. Use pandas.concat instead.\n",
      "  results.append({\"mse\":mse, \"accuracy\":acc},ignore_index=True )\n"
     ]
    },
    {
     "name": "stdout",
     "output_type": "stream",
     "text": [
      "1.7717987045341306 0.009466865969108122\n",
      "1.7717987045341306 0.009466865969108122\n",
      "1.7717987045341306 0.009466865969108122\n",
      "1.7717987045341306 0.009466865969108122\n",
      "1.7717987045341306 0.009466865969108122\n",
      "1.7717987045341306 0.009466865969108122\n",
      "1.7717987045341306 0.009466865969108122\n",
      "1.7717987045341306 0.009466865969108122\n",
      "1.7717987045341306 0.009466865969108122\n",
      "1.7717987045341306 0.009466865969108122\n"
     ]
    },
    {
     "name": "stderr",
     "output_type": "stream",
     "text": [
      "/var/folders/xd/39vn4ttx5239g2gxfkr0tm_r0000gn/T/ipykernel_47487/2820687247.py:21: FutureWarning: The frame.append method is deprecated and will be removed from pandas in a future version. Use pandas.concat instead.\n",
      "  results.append({\"mse\":mse, \"accuracy\":acc},ignore_index=True )\n",
      "/var/folders/xd/39vn4ttx5239g2gxfkr0tm_r0000gn/T/ipykernel_47487/2820687247.py:21: FutureWarning: The frame.append method is deprecated and will be removed from pandas in a future version. Use pandas.concat instead.\n",
      "  results.append({\"mse\":mse, \"accuracy\":acc},ignore_index=True )\n",
      "/var/folders/xd/39vn4ttx5239g2gxfkr0tm_r0000gn/T/ipykernel_47487/2820687247.py:21: FutureWarning: The frame.append method is deprecated and will be removed from pandas in a future version. Use pandas.concat instead.\n",
      "  results.append({\"mse\":mse, \"accuracy\":acc},ignore_index=True )\n",
      "/var/folders/xd/39vn4ttx5239g2gxfkr0tm_r0000gn/T/ipykernel_47487/2820687247.py:21: FutureWarning: The frame.append method is deprecated and will be removed from pandas in a future version. Use pandas.concat instead.\n",
      "  results.append({\"mse\":mse, \"accuracy\":acc},ignore_index=True )\n",
      "/var/folders/xd/39vn4ttx5239g2gxfkr0tm_r0000gn/T/ipykernel_47487/2820687247.py:21: FutureWarning: The frame.append method is deprecated and will be removed from pandas in a future version. Use pandas.concat instead.\n",
      "  results.append({\"mse\":mse, \"accuracy\":acc},ignore_index=True )\n",
      "/var/folders/xd/39vn4ttx5239g2gxfkr0tm_r0000gn/T/ipykernel_47487/2820687247.py:21: FutureWarning: The frame.append method is deprecated and will be removed from pandas in a future version. Use pandas.concat instead.\n",
      "  results.append({\"mse\":mse, \"accuracy\":acc},ignore_index=True )\n",
      "/var/folders/xd/39vn4ttx5239g2gxfkr0tm_r0000gn/T/ipykernel_47487/2820687247.py:21: FutureWarning: The frame.append method is deprecated and will be removed from pandas in a future version. Use pandas.concat instead.\n",
      "  results.append({\"mse\":mse, \"accuracy\":acc},ignore_index=True )\n",
      "/var/folders/xd/39vn4ttx5239g2gxfkr0tm_r0000gn/T/ipykernel_47487/2820687247.py:21: FutureWarning: The frame.append method is deprecated and will be removed from pandas in a future version. Use pandas.concat instead.\n",
      "  results.append({\"mse\":mse, \"accuracy\":acc},ignore_index=True )\n",
      "/var/folders/xd/39vn4ttx5239g2gxfkr0tm_r0000gn/T/ipykernel_47487/2820687247.py:21: FutureWarning: The frame.append method is deprecated and will be removed from pandas in a future version. Use pandas.concat instead.\n",
      "  results.append({\"mse\":mse, \"accuracy\":acc},ignore_index=True )\n",
      "/var/folders/xd/39vn4ttx5239g2gxfkr0tm_r0000gn/T/ipykernel_47487/2820687247.py:21: FutureWarning: The frame.append method is deprecated and will be removed from pandas in a future version. Use pandas.concat instead.\n",
      "  results.append({\"mse\":mse, \"accuracy\":acc},ignore_index=True )\n"
     ]
    },
    {
     "name": "stdout",
     "output_type": "stream",
     "text": [
      "1.7717987045341306 0.009466865969108122\n",
      "1.7717987045341306 0.009466865969108122\n",
      "1.7717987045341306 0.009466865969108122\n",
      "1.7717987045341306 0.009466865969108122\n",
      "1.7717987045341306 0.009466865969108122\n",
      "1.7717987045341306 0.009466865969108122\n",
      "1.7717987045341306 0.009466865969108122\n",
      "1.7717987045341306 0.009466865969108122\n"
     ]
    },
    {
     "name": "stderr",
     "output_type": "stream",
     "text": [
      "/var/folders/xd/39vn4ttx5239g2gxfkr0tm_r0000gn/T/ipykernel_47487/2820687247.py:21: FutureWarning: The frame.append method is deprecated and will be removed from pandas in a future version. Use pandas.concat instead.\n",
      "  results.append({\"mse\":mse, \"accuracy\":acc},ignore_index=True )\n",
      "/var/folders/xd/39vn4ttx5239g2gxfkr0tm_r0000gn/T/ipykernel_47487/2820687247.py:21: FutureWarning: The frame.append method is deprecated and will be removed from pandas in a future version. Use pandas.concat instead.\n",
      "  results.append({\"mse\":mse, \"accuracy\":acc},ignore_index=True )\n",
      "/var/folders/xd/39vn4ttx5239g2gxfkr0tm_r0000gn/T/ipykernel_47487/2820687247.py:21: FutureWarning: The frame.append method is deprecated and will be removed from pandas in a future version. Use pandas.concat instead.\n",
      "  results.append({\"mse\":mse, \"accuracy\":acc},ignore_index=True )\n",
      "/var/folders/xd/39vn4ttx5239g2gxfkr0tm_r0000gn/T/ipykernel_47487/2820687247.py:21: FutureWarning: The frame.append method is deprecated and will be removed from pandas in a future version. Use pandas.concat instead.\n",
      "  results.append({\"mse\":mse, \"accuracy\":acc},ignore_index=True )\n",
      "/var/folders/xd/39vn4ttx5239g2gxfkr0tm_r0000gn/T/ipykernel_47487/2820687247.py:21: FutureWarning: The frame.append method is deprecated and will be removed from pandas in a future version. Use pandas.concat instead.\n",
      "  results.append({\"mse\":mse, \"accuracy\":acc},ignore_index=True )\n",
      "/var/folders/xd/39vn4ttx5239g2gxfkr0tm_r0000gn/T/ipykernel_47487/2820687247.py:21: FutureWarning: The frame.append method is deprecated and will be removed from pandas in a future version. Use pandas.concat instead.\n",
      "  results.append({\"mse\":mse, \"accuracy\":acc},ignore_index=True )\n",
      "/var/folders/xd/39vn4ttx5239g2gxfkr0tm_r0000gn/T/ipykernel_47487/2820687247.py:21: FutureWarning: The frame.append method is deprecated and will be removed from pandas in a future version. Use pandas.concat instead.\n",
      "  results.append({\"mse\":mse, \"accuracy\":acc},ignore_index=True )\n",
      "/var/folders/xd/39vn4ttx5239g2gxfkr0tm_r0000gn/T/ipykernel_47487/2820687247.py:21: FutureWarning: The frame.append method is deprecated and will be removed from pandas in a future version. Use pandas.concat instead.\n",
      "  results.append({\"mse\":mse, \"accuracy\":acc},ignore_index=True )\n"
     ]
    }
   ],
   "source": [
    "#Backpropagation\n",
    "\n",
    "for itr in range(iterations):    \n",
    "     \n",
    "    # Implementing feedforward propagation on hidden layer\n",
    "    Z1 = np.dot(X_train, W1)\n",
    "    #print(Z1, Z1.shape)\n",
    "    A1 = linear_unit(Z1)\n",
    " \n",
    "    # Implementing feed forward propagation on output layer\n",
    "    Z2 = np.dot(A1, W2)\n",
    "    A2 = linear_unit(Z2)\n",
    "    #print(A2, A2.shape)\n",
    "    #A2 = A2.T[0]\n",
    "    #print(A2, A2.shape)\n",
    "    # Calculating the error\n",
    "    \n",
    "    mse = mean_squared_error(A2.T[0], y_train)\n",
    "    acc = accuracy(A2.T[0], y_train)\n",
    "    print(mse,acc)\n",
    "    results.append({\"mse\":mse, \"accuracy\":acc},ignore_index=True )\n",
    "    #print(results)\n",
    "    # Backpropagation phase\n",
    "    #print(A2, A2.shape, y_train.shape)\n",
    "    E1 = A2.T[0] - y_train\n",
    "    dW1 = E1 * A2.T[0] * (1 - A2.T[0])\n",
    "    \n",
    "    #print(dW1.shape, dW2.shape)\n",
    "    E2 = np.dot(pd.DataFrame(dW1), W2.T)\n",
    "    dW2 = E2 * A1 * (1 - A1)\n",
    "    \n",
    "    #print(A1.T.shape, pd.DataFrame(dW1).shape)\n",
    "    # Updating the weights\n",
    "    W2_update = np.dot(A1.T, pd.DataFrame(dW1)) / N\n",
    "    #print(W2_update.shape,W2.shape)\n",
    "    W1_update = np.dot(X_train.T, dW2) / N\n",
    " \n",
    "    W2 = W2 - learning_rate * W2_update\n",
    "    W1 = W1 - learning_rate * W1_update\n"
   ]
  },
  {
   "cell_type": "code",
   "execution_count": 464,
   "id": "6b93a968",
   "metadata": {},
   "outputs": [
    {
     "data": {
      "text/html": [
       "<div>\n",
       "<style scoped>\n",
       "    .dataframe tbody tr th:only-of-type {\n",
       "        vertical-align: middle;\n",
       "    }\n",
       "\n",
       "    .dataframe tbody tr th {\n",
       "        vertical-align: top;\n",
       "    }\n",
       "\n",
       "    .dataframe thead th {\n",
       "        text-align: right;\n",
       "    }\n",
       "</style>\n",
       "<table border=\"1\" class=\"dataframe\">\n",
       "  <thead>\n",
       "    <tr style=\"text-align: right;\">\n",
       "      <th></th>\n",
       "      <th>mse</th>\n",
       "      <th>accuracy</th>\n",
       "    </tr>\n",
       "  </thead>\n",
       "  <tbody>\n",
       "  </tbody>\n",
       "</table>\n",
       "</div>"
      ],
      "text/plain": [
       "Empty DataFrame\n",
       "Columns: [mse, accuracy]\n",
       "Index: []"
      ]
     },
     "execution_count": 464,
     "metadata": {},
     "output_type": "execute_result"
    }
   ],
   "source": [
    "results"
   ]
  },
  {
   "cell_type": "code",
   "execution_count": 375,
   "id": "082c2908",
   "metadata": {},
   "outputs": [
    {
     "data": {
      "text/plain": [
       "(2007, 18)"
      ]
     },
     "execution_count": 375,
     "metadata": {},
     "output_type": "execute_result"
    }
   ],
   "source": [
    "X_train.shape"
   ]
  },
  {
   "cell_type": "code",
   "execution_count": null,
   "id": "5be5fc0b",
   "metadata": {},
   "outputs": [],
   "source": []
  },
  {
   "cell_type": "code",
   "execution_count": 59,
   "id": "1096690e",
   "metadata": {},
   "outputs": [
    {
     "name": "stdout",
     "output_type": "stream",
     "text": [
      "5 125 338 33 1\n"
     ]
    }
   ],
   "source": [
    "print(sum(y_test==0),sum(y_test==1),sum(y_test==2),sum(y_test==3),sum(y_test==4))"
   ]
  },
  {
   "cell_type": "code",
   "execution_count": null,
   "id": "b38ad549",
   "metadata": {},
   "outputs": [],
   "source": [
    "# Random Forest"
   ]
  },
  {
   "cell_type": "code",
   "execution_count": null,
   "id": "72d88868",
   "metadata": {},
   "outputs": [],
   "source": [
    "np.mean(cross_val_score(clf, X_train, y_train, cv=10))"
   ]
  },
  {
   "cell_type": "code",
   "execution_count": null,
   "id": "b294c8da",
   "metadata": {},
   "outputs": [],
   "source": [
    "\n",
    "ax.scatter(i,j, cv_score, color = \"black\")"
   ]
  },
  {
   "cell_type": "code",
   "execution_count": 67,
   "id": "3589c808",
   "metadata": {},
   "outputs": [
    {
     "data": {
      "image/png": "[encoded data removed]",
      "text/plain": [
       "<Figure size 432x288 with 1 Axes>"
      ]
     },
     "metadata": {
      "needs_background": "light"
     },
     "output_type": "display_data"
    }
   ],
   "source": [
    "\n",
    "\n",
    "fig = plt.figure()\n",
    "ax=fig.add_subplot(projection='3d')\n",
    "\n",
    "best_score_nn = 0\n",
    "\n",
    "for i in range(10,16):\n",
    "    for j in range(2,8):\n",
    "        clf = MLPClassifier(random_state=42, max_iter=2000,solver='adam',hidden_layer_sizes=(i,j,)).fit(X_train, y_train)\n",
    "        #y_pred = clf.predict(X_test)\n",
    "        #cv.append(np.mean(cross_val_score(clf, X_train, y_train, cv=10)))\n",
    "        cv_score = cross_val_score(clf, X_train, y_train, cv=10).mean()\n",
    "        ax.scatter(i,j, cv_score, color = \"black\")\n",
    "        if cv_score > best_score_nn:\n",
    "            best_firstlayer = i\n",
    "            best_secondlayer=j\n",
    "            best_score_nn = cv_score\n",
    "    ax.scatter(best_firstlayer,best_secondlayer, best_score_nn, color = \"red\")\n",
    "l = ax.set(title = \"Firstlayer : \" + str(best_firstlayer)+ \" Secondlayer: \" + str(best_secondlayer) + \" Best CV : \" + str(\"{:.2f}\".format(best_score_nn)),\n",
    "       xlabel = \"Firstlayer\", \n",
    "       ylabel = \"Secondlayer\",\n",
    "       zlabel = \"CV Score\")"
   ]
  },
  {
   "cell_type": "code",
   "execution_count": 80,
   "id": "4928eefd",
   "metadata": {},
   "outputs": [
    {
     "ename": "AttributeError",
     "evalue": "'RandomForestClassifier' object has no attribute 'params'",
     "output_type": "error",
     "traceback": [
      "\u001b[0;31m---------------------------------------------------------------------------\u001b[0m",
      "\u001b[0;31mAttributeError\u001b[0m                            Traceback (most recent call last)",
      "Input \u001b[0;32mIn [80]\u001b[0m, in \u001b[0;36m<cell line: 1>\u001b[0;34m()\u001b[0m\n\u001b[0;32m----> 1\u001b[0m \u001b[43mclf\u001b[49m\u001b[38;5;241;43m.\u001b[39;49m\u001b[43mparams\u001b[49m\n",
      "\u001b[0;31mAttributeError\u001b[0m: 'RandomForestClassifier' object has no attribute 'params'"
     ]
    }
   ],
   "source": [
    "clf.params"
   ]
  },
  {
   "cell_type": "code",
   "execution_count": 77,
   "id": "c8de2c4c",
   "metadata": {},
   "outputs": [
    {
     "data": {
      "text/plain": [
       "0.8748398406374502"
      ]
     },
     "execution_count": 77,
     "metadata": {},
     "output_type": "execute_result"
    }
   ],
   "source": [
    "clf = RandomForestClassifier(random_state=0)\n",
    "clf.fit(X_train, y_train)\n",
    "np.mean(cross_val_score(clf, update_data, Y, cv=10))"
   ]
  },
  {
   "cell_type": "code",
   "execution_count": 58,
   "id": "a6ebcbef",
   "metadata": {},
   "outputs": [
    {
     "name": "stdout",
     "output_type": "stream",
     "text": [
      "Correct Test Classification Rate is: 81.69999999999999 %\n",
      "MSE: 0.21912350597609562\n",
      "0 92 410 0 0\n",
      "Correct Test Classification Rate is: 83.5 %\n",
      "MSE: 0.20119521912350596\n",
      "0 100 399 3 0\n",
      "Correct Test Classification Rate is: 83.89999999999999 %\n",
      "MSE: 0.19721115537848605\n",
      "0 101 395 6 0\n",
      "Correct Test Classification Rate is: 84.1 %\n",
      "MSE: 0.20119521912350596\n",
      "0 103 391 8 0\n",
      "Correct Test Classification Rate is: 85.7 %\n",
      "MSE: 0.1553784860557769\n",
      "5 107 381 9 0\n",
      "Correct Test Classification Rate is: 85.5 %\n",
      "MSE: 0.15139442231075698\n",
      "5 110 379 8 0\n",
      "Correct Test Classification Rate is: 86.1 %\n",
      "MSE: 0.1454183266932271\n",
      "5 111 374 12 0\n",
      "Correct Test Classification Rate is: 86.1 %\n",
      "MSE: 0.15139442231075698\n",
      "5 116 371 10 0\n",
      "Correct Test Classification Rate is: 86.3 %\n",
      "MSE: 0.13745019920318724\n",
      "5 117 366 14 0\n",
      "Correct Test Classification Rate is: 86.7 %\n",
      "MSE: 0.1394422310756972\n",
      "5 117 365 15 0\n",
      "Correct Test Classification Rate is: 87.6 %\n",
      "MSE: 0.1294820717131474\n",
      "5 123 358 16 0\n",
      "Correct Test Classification Rate is: 88.4 %\n",
      "MSE: 0.11553784860557768\n",
      "5 119 361 17 0\n",
      "Correct Test Classification Rate is: 87.3 %\n",
      "MSE: 0.13346613545816732\n",
      "5 119 362 16 0\n",
      "Correct Test Classification Rate is: 88.2 %\n",
      "MSE: 0.11752988047808766\n",
      "5 122 358 17 0\n",
      "Correct Test Classification Rate is: 87.6 %\n",
      "MSE: 0.12350597609561753\n",
      "5 119 363 15 0\n",
      "Correct Test Classification Rate is: 88.0 %\n",
      "MSE: 0.1254980079681275\n",
      "5 121 360 16 0\n",
      "Correct Test Classification Rate is: 88.2 %\n",
      "MSE: 0.11752988047808766\n",
      "5 120 360 17 0\n",
      "Correct Test Classification Rate is: 87.3 %\n",
      "MSE: 0.13346613545816732\n",
      "5 120 358 19 0\n",
      "Correct Test Classification Rate is: 87.5 %\n",
      "MSE: 0.13147410358565736\n",
      "5 118 363 16 0\n",
      "Correct Test Classification Rate is: 87.6 %\n",
      "MSE: 0.1294820717131474\n",
      "5 119 360 18 0\n",
      "Correct Test Classification Rate is: 87.8 %\n",
      "MSE: 0.12151394422310757\n",
      "5 118 362 17 0\n",
      "Correct Test Classification Rate is: 87.6 %\n",
      "MSE: 0.13545816733067728\n",
      "5 120 361 16 0\n",
      "Correct Test Classification Rate is: 87.8 %\n",
      "MSE: 0.13346613545816732\n",
      "5 120 360 17 0\n",
      "Correct Test Classification Rate is: 87.8 %\n",
      "MSE: 0.13346613545816732\n",
      "5 120 360 17 0\n",
      "Correct Test Classification Rate is: 87.8 %\n",
      "MSE: 0.13346613545816732\n",
      "5 120 360 17 0\n",
      "Correct Test Classification Rate is: 87.8 %\n",
      "MSE: 0.13346613545816732\n",
      "5 120 360 17 0\n",
      "Correct Test Classification Rate is: 87.8 %\n",
      "MSE: 0.13346613545816732\n",
      "5 120 360 17 0\n"
     ]
    }
   ],
   "source": [
    "from sklearn.ensemble import RandomForestClassifier\n",
    "from sklearn.datasets import make_classification\n",
    "mse = []\n",
    "cv = []\n",
    "lo = 1\n",
    "for i in range(3,30):\n",
    "    clf = RandomForestClassifier(max_depth=i, random_state=0)\n",
    "    clf.fit(X_train, y_train)\n",
    "\n",
    "    y_pred = clf.predict(X_test)\n",
    "    print('Correct Test Classification Rate is:',round(sum(y_pred==y_test)/len(y_pred),3) *100 ,'%')\n",
    "    print('MSE:',mean_squared_error(y_test,y_pred))\n",
    "    mse.append(mean_squared_error(y_test,y_pred))\n",
    "    if lo > np.mean(cross_val_score(clf, update_data, Y, cv=10)):\n",
    "        lo = np.mean(cross_val_score(clf, update_data, Y, cv=10))\n",
    "        lo_x = i\n",
    "    cv.append(np.mean(cross_val_score(clf, X_train, y_train, cv=10)))\n",
    "    print(sum(y_pred==0),sum(np.array(y_pred)==1),sum(y_pred==2),sum(y_pred==3),sum(y_pred==4))"
   ]
  },
  {
   "cell_type": "code",
   "execution_count": 61,
   "id": "4f5da8b5",
   "metadata": {},
   "outputs": [
    {
     "data": {
      "text/plain": [
       "1"
      ]
     },
     "execution_count": 61,
     "metadata": {},
     "output_type": "execute_result"
    }
   ],
   "source": [
    "1"
   ]
  },
  {
   "cell_type": "code",
   "execution_count": null,
   "id": "1ec6f8ef",
   "metadata": {},
   "outputs": [],
   "source": [
    "clf = RandomForestClassifier(max_depth=i, random_state=0)"
   ]
  },
  {
   "cell_type": "code",
   "execution_count": 603,
   "id": "b8305f8e",
   "metadata": {},
   "outputs": [
    {
     "data": {
      "text/plain": [
       "0.8868756218905472"
      ]
     },
     "execution_count": 603,
     "metadata": {},
     "output_type": "execute_result"
    }
   ],
   "source": [
    "max(cv)"
   ]
  },
  {
   "cell_type": "code",
   "execution_count": 602,
   "id": "988c4258",
   "metadata": {},
   "outputs": [
    {
     "data": {
      "text/plain": [
       "Text(0.5, 1.0, 'Random Forest CV score')"
      ]
     },
     "execution_count": 602,
     "metadata": {},
     "output_type": "execute_result"
    },
    {
     "data": {
      "image/png": "[encoded data removed]",
      "text/plain": [
       "<Figure size 432x288 with 1 Axes>"
      ]
     },
     "metadata": {
      "needs_background": "light"
     },
     "output_type": "display_data"
    }
   ],
   "source": [
    "plt.scatter(range(3,30),cv)\n",
    "plt.scatter(15,max(cv),color='red')\n",
    "plt.title('Random Forest CV score')"
   ]
  },
  {
   "cell_type": "code",
   "execution_count": 598,
   "id": "b646d40c",
   "metadata": {},
   "outputs": [
    {
     "data": {
      "text/plain": [
       "Text(0.5, 1.0, 'Random Forest MSE')"
      ]
     },
     "execution_count": 598,
     "metadata": {},
     "output_type": "execute_result"
    },
    {
     "data": {
      "image/png": "[encoded data removed]",
      "text/plain": [
       "<Figure size 432x288 with 1 Axes>"
      ]
     },
     "metadata": {
      "needs_background": "light"
     },
     "output_type": "display_data"
    }
   ],
   "source": [
    "plt.scatter(range(3,30),mse)\n",
    "plt.scatter(14,0.05776892430278884,color='red')\n",
    "plt.title('Random Forest MSE')"
   ]
  },
  {
   "cell_type": "code",
   "execution_count": 525,
   "id": "38404305",
   "metadata": {},
   "outputs": [
    {
     "ename": "AttributeError",
     "evalue": "'RandomForestClassifier' object has no attribute 'tree_'",
     "output_type": "error",
     "traceback": [
      "\u001b[0;31m---------------------------------------------------------------------------\u001b[0m",
      "\u001b[0;31mAttributeError\u001b[0m                            Traceback (most recent call last)",
      "Input \u001b[0;32mIn [525]\u001b[0m, in \u001b[0;36m<cell line: 2>\u001b[0;34m()\u001b[0m\n\u001b[1;32m      1\u001b[0m fig \u001b[38;5;241m=\u001b[39m plt\u001b[38;5;241m.\u001b[39mfigure(figsize\u001b[38;5;241m=\u001b[39m(\u001b[38;5;241m25\u001b[39m,\u001b[38;5;241m20\u001b[39m))\n\u001b[0;32m----> 2\u001b[0m _ \u001b[38;5;241m=\u001b[39m \u001b[43mtree\u001b[49m\u001b[38;5;241;43m.\u001b[39;49m\u001b[43mplot_tree\u001b[49m\u001b[43m(\u001b[49m\u001b[43mclf\u001b[49m\u001b[43m,\u001b[49m\u001b[43m \u001b[49m\n\u001b[1;32m      3\u001b[0m \u001b[43m                   \u001b[49m\u001b[43mfeature_names\u001b[49m\u001b[43m \u001b[49m\u001b[38;5;241;43m=\u001b[39;49m\u001b[43m \u001b[49m\u001b[43mX_train\u001b[49m\u001b[38;5;241;43m.\u001b[39;49m\u001b[43mcolumns\u001b[49m\u001b[43m,\u001b[49m\n\u001b[1;32m      4\u001b[0m \u001b[43m                \u001b[49m\u001b[43mclass_names\u001b[49m\u001b[43m \u001b[49m\u001b[38;5;241;43m=\u001b[39;49m\u001b[43m \u001b[49m\u001b[38;5;124;43m'\u001b[39;49m\u001b[38;5;124;43mTumor Stage\u001b[39;49m\u001b[38;5;124;43m'\u001b[39;49m\u001b[43m,\u001b[49m\n\u001b[1;32m      5\u001b[0m \u001b[43m                   \u001b[49m\u001b[43mfilled\u001b[49m\u001b[38;5;241;43m=\u001b[39;49m\u001b[38;5;28;43;01mTrue\u001b[39;49;00m\u001b[43m)\u001b[49m\n",
      "File \u001b[0;32m~/opt/anaconda3/lib/python3.9/site-packages/sklearn/tree/_export.py:195\u001b[0m, in \u001b[0;36mplot_tree\u001b[0;34m(decision_tree, max_depth, feature_names, class_names, label, filled, impurity, node_ids, proportion, rounded, precision, ax, fontsize)\u001b[0m\n\u001b[1;32m    180\u001b[0m check_is_fitted(decision_tree)\n\u001b[1;32m    182\u001b[0m exporter \u001b[38;5;241m=\u001b[39m _MPLTreeExporter(\n\u001b[1;32m    183\u001b[0m     max_depth\u001b[38;5;241m=\u001b[39mmax_depth,\n\u001b[1;32m    184\u001b[0m     feature_names\u001b[38;5;241m=\u001b[39mfeature_names,\n\u001b[0;32m   (...)\u001b[0m\n\u001b[1;32m    193\u001b[0m     fontsize\u001b[38;5;241m=\u001b[39mfontsize,\n\u001b[1;32m    194\u001b[0m )\n\u001b[0;32m--> 195\u001b[0m \u001b[38;5;28;01mreturn\u001b[39;00m \u001b[43mexporter\u001b[49m\u001b[38;5;241;43m.\u001b[39;49m\u001b[43mexport\u001b[49m\u001b[43m(\u001b[49m\u001b[43mdecision_tree\u001b[49m\u001b[43m,\u001b[49m\u001b[43m \u001b[49m\u001b[43max\u001b[49m\u001b[38;5;241;43m=\u001b[39;49m\u001b[43max\u001b[49m\u001b[43m)\u001b[49m\n",
      "File \u001b[0;32m~/opt/anaconda3/lib/python3.9/site-packages/sklearn/tree/_export.py:656\u001b[0m, in \u001b[0;36m_MPLTreeExporter.export\u001b[0;34m(self, decision_tree, ax)\u001b[0m\n\u001b[1;32m    654\u001b[0m ax\u001b[38;5;241m.\u001b[39mclear()\n\u001b[1;32m    655\u001b[0m ax\u001b[38;5;241m.\u001b[39mset_axis_off()\n\u001b[0;32m--> 656\u001b[0m my_tree \u001b[38;5;241m=\u001b[39m \u001b[38;5;28mself\u001b[39m\u001b[38;5;241m.\u001b[39m_make_tree(\u001b[38;5;241m0\u001b[39m, \u001b[43mdecision_tree\u001b[49m\u001b[38;5;241;43m.\u001b[39;49m\u001b[43mtree_\u001b[49m, decision_tree\u001b[38;5;241m.\u001b[39mcriterion)\n\u001b[1;32m    657\u001b[0m draw_tree \u001b[38;5;241m=\u001b[39m buchheim(my_tree)\n\u001b[1;32m    659\u001b[0m \u001b[38;5;66;03m# important to make sure we're still\u001b[39;00m\n\u001b[1;32m    660\u001b[0m \u001b[38;5;66;03m# inside the axis after drawing the box\u001b[39;00m\n\u001b[1;32m    661\u001b[0m \u001b[38;5;66;03m# this makes sense because the width of a box\u001b[39;00m\n\u001b[1;32m    662\u001b[0m \u001b[38;5;66;03m# is about the same as the distance between boxes\u001b[39;00m\n",
      "\u001b[0;31mAttributeError\u001b[0m: 'RandomForestClassifier' object has no attribute 'tree_'"
     ]
    },
    {
     "data": {
      "image/png": "[encoded data removed]",
      "text/plain": [
       "<Figure size 1800x1440 with 1 Axes>"
      ]
     },
     "metadata": {
      "needs_background": "light"
     },
     "output_type": "display_data"
    }
   ],
   "source": [
    "fig = plt.figure(figsize=(25,20))\n",
    "_ = tree.plot_tree(clf, \n",
    "                   feature_names = X_train.columns,\n",
    "                class_names = 'Tumor Stage',\n",
    "                   filled=True)"
   ]
  },
  {
   "cell_type": "code",
   "execution_count": 532,
   "id": "5a34a200",
   "metadata": {},
   "outputs": [],
   "source": [
    "import os\n",
    "os.environ[\"PATH\"] += os.pathsep + 'C:/GraphViz/bin'"
   ]
  },
  {
   "cell_type": "code",
   "execution_count": 531,
   "id": "204eb0b2",
   "metadata": {},
   "outputs": [
    {
     "ename": "ExecutableNotFound",
     "evalue": "failed to execute PosixPath('dot'), make sure the Graphviz executables are on your systems' PATH",
     "output_type": "error",
     "traceback": [
      "\u001b[0;31m---------------------------------------------------------------------------\u001b[0m",
      "\u001b[0;31mFileNotFoundError\u001b[0m                         Traceback (most recent call last)",
      "File \u001b[0;32m~/opt/anaconda3/lib/python3.9/site-packages/graphviz/backend/execute.py:79\u001b[0m, in \u001b[0;36mrun_check\u001b[0;34m(cmd, input_lines, encoding, quiet, **kwargs)\u001b[0m\n\u001b[1;32m     78\u001b[0m         kwargs[\u001b[38;5;124m'\u001b[39m\u001b[38;5;124mstdout\u001b[39m\u001b[38;5;124m'\u001b[39m] \u001b[38;5;241m=\u001b[39m kwargs[\u001b[38;5;124m'\u001b[39m\u001b[38;5;124mstderr\u001b[39m\u001b[38;5;124m'\u001b[39m] \u001b[38;5;241m=\u001b[39m subprocess\u001b[38;5;241m.\u001b[39mPIPE\n\u001b[0;32m---> 79\u001b[0m     proc \u001b[38;5;241m=\u001b[39m \u001b[43m_run_input_lines\u001b[49m\u001b[43m(\u001b[49m\u001b[43mcmd\u001b[49m\u001b[43m,\u001b[49m\u001b[43m \u001b[49m\u001b[43minput_lines\u001b[49m\u001b[43m,\u001b[49m\u001b[43m \u001b[49m\u001b[43mkwargs\u001b[49m\u001b[38;5;241;43m=\u001b[39;49m\u001b[43mkwargs\u001b[49m\u001b[43m)\u001b[49m\n\u001b[1;32m     80\u001b[0m \u001b[38;5;28;01melse\u001b[39;00m:\n",
      "File \u001b[0;32m~/opt/anaconda3/lib/python3.9/site-packages/graphviz/backend/execute.py:99\u001b[0m, in \u001b[0;36m_run_input_lines\u001b[0;34m(cmd, input_lines, kwargs)\u001b[0m\n\u001b[1;32m     98\u001b[0m \u001b[38;5;28;01mdef\u001b[39;00m \u001b[38;5;21m_run_input_lines\u001b[39m(cmd, input_lines, \u001b[38;5;241m*\u001b[39m, kwargs):\n\u001b[0;32m---> 99\u001b[0m     popen \u001b[38;5;241m=\u001b[39m \u001b[43msubprocess\u001b[49m\u001b[38;5;241;43m.\u001b[39;49m\u001b[43mPopen\u001b[49m\u001b[43m(\u001b[49m\u001b[43mcmd\u001b[49m\u001b[43m,\u001b[49m\u001b[43m \u001b[49m\u001b[43mstdin\u001b[49m\u001b[38;5;241;43m=\u001b[39;49m\u001b[43msubprocess\u001b[49m\u001b[38;5;241;43m.\u001b[39;49m\u001b[43mPIPE\u001b[49m\u001b[43m,\u001b[49m\u001b[43m \u001b[49m\u001b[38;5;241;43m*\u001b[39;49m\u001b[38;5;241;43m*\u001b[39;49m\u001b[43mkwargs\u001b[49m\u001b[43m)\u001b[49m\n\u001b[1;32m    101\u001b[0m     stdin_write \u001b[38;5;241m=\u001b[39m popen\u001b[38;5;241m.\u001b[39mstdin\u001b[38;5;241m.\u001b[39mwrite\n",
      "File \u001b[0;32m~/opt/anaconda3/lib/python3.9/subprocess.py:951\u001b[0m, in \u001b[0;36mPopen.__init__\u001b[0;34m(self, args, bufsize, executable, stdin, stdout, stderr, preexec_fn, close_fds, shell, cwd, env, universal_newlines, startupinfo, creationflags, restore_signals, start_new_session, pass_fds, user, group, extra_groups, encoding, errors, text, umask)\u001b[0m\n\u001b[1;32m    948\u001b[0m             \u001b[38;5;28mself\u001b[39m\u001b[38;5;241m.\u001b[39mstderr \u001b[38;5;241m=\u001b[39m io\u001b[38;5;241m.\u001b[39mTextIOWrapper(\u001b[38;5;28mself\u001b[39m\u001b[38;5;241m.\u001b[39mstderr,\n\u001b[1;32m    949\u001b[0m                     encoding\u001b[38;5;241m=\u001b[39mencoding, errors\u001b[38;5;241m=\u001b[39merrors)\n\u001b[0;32m--> 951\u001b[0m     \u001b[38;5;28;43mself\u001b[39;49m\u001b[38;5;241;43m.\u001b[39;49m\u001b[43m_execute_child\u001b[49m\u001b[43m(\u001b[49m\u001b[43margs\u001b[49m\u001b[43m,\u001b[49m\u001b[43m \u001b[49m\u001b[43mexecutable\u001b[49m\u001b[43m,\u001b[49m\u001b[43m \u001b[49m\u001b[43mpreexec_fn\u001b[49m\u001b[43m,\u001b[49m\u001b[43m \u001b[49m\u001b[43mclose_fds\u001b[49m\u001b[43m,\u001b[49m\n\u001b[1;32m    952\u001b[0m \u001b[43m                        \u001b[49m\u001b[43mpass_fds\u001b[49m\u001b[43m,\u001b[49m\u001b[43m \u001b[49m\u001b[43mcwd\u001b[49m\u001b[43m,\u001b[49m\u001b[43m \u001b[49m\u001b[43menv\u001b[49m\u001b[43m,\u001b[49m\n\u001b[1;32m    953\u001b[0m \u001b[43m                        \u001b[49m\u001b[43mstartupinfo\u001b[49m\u001b[43m,\u001b[49m\u001b[43m \u001b[49m\u001b[43mcreationflags\u001b[49m\u001b[43m,\u001b[49m\u001b[43m \u001b[49m\u001b[43mshell\u001b[49m\u001b[43m,\u001b[49m\n\u001b[1;32m    954\u001b[0m \u001b[43m                        \u001b[49m\u001b[43mp2cread\u001b[49m\u001b[43m,\u001b[49m\u001b[43m \u001b[49m\u001b[43mp2cwrite\u001b[49m\u001b[43m,\u001b[49m\n\u001b[1;32m    955\u001b[0m \u001b[43m                        \u001b[49m\u001b[43mc2pread\u001b[49m\u001b[43m,\u001b[49m\u001b[43m \u001b[49m\u001b[43mc2pwrite\u001b[49m\u001b[43m,\u001b[49m\n\u001b[1;32m    956\u001b[0m \u001b[43m                        \u001b[49m\u001b[43merrread\u001b[49m\u001b[43m,\u001b[49m\u001b[43m \u001b[49m\u001b[43merrwrite\u001b[49m\u001b[43m,\u001b[49m\n\u001b[1;32m    957\u001b[0m \u001b[43m                        \u001b[49m\u001b[43mrestore_signals\u001b[49m\u001b[43m,\u001b[49m\n\u001b[1;32m    958\u001b[0m \u001b[43m                        \u001b[49m\u001b[43mgid\u001b[49m\u001b[43m,\u001b[49m\u001b[43m \u001b[49m\u001b[43mgids\u001b[49m\u001b[43m,\u001b[49m\u001b[43m \u001b[49m\u001b[43muid\u001b[49m\u001b[43m,\u001b[49m\u001b[43m \u001b[49m\u001b[43mumask\u001b[49m\u001b[43m,\u001b[49m\n\u001b[1;32m    959\u001b[0m \u001b[43m                        \u001b[49m\u001b[43mstart_new_session\u001b[49m\u001b[43m)\u001b[49m\n\u001b[1;32m    960\u001b[0m \u001b[38;5;28;01mexcept\u001b[39;00m:\n\u001b[1;32m    961\u001b[0m     \u001b[38;5;66;03m# Cleanup if the child failed starting.\u001b[39;00m\n",
      "File \u001b[0;32m~/opt/anaconda3/lib/python3.9/subprocess.py:1821\u001b[0m, in \u001b[0;36mPopen._execute_child\u001b[0;34m(self, args, executable, preexec_fn, close_fds, pass_fds, cwd, env, startupinfo, creationflags, shell, p2cread, p2cwrite, c2pread, c2pwrite, errread, errwrite, restore_signals, gid, gids, uid, umask, start_new_session)\u001b[0m\n\u001b[1;32m   1820\u001b[0m         err_msg \u001b[38;5;241m=\u001b[39m os\u001b[38;5;241m.\u001b[39mstrerror(errno_num)\n\u001b[0;32m-> 1821\u001b[0m     \u001b[38;5;28;01mraise\u001b[39;00m child_exception_type(errno_num, err_msg, err_filename)\n\u001b[1;32m   1822\u001b[0m \u001b[38;5;28;01mraise\u001b[39;00m child_exception_type(err_msg)\n",
      "\u001b[0;31mFileNotFoundError\u001b[0m: [Errno 2] No such file or directory: PosixPath('dot')",
      "\nThe above exception was the direct cause of the following exception:\n",
      "\u001b[0;31mExecutableNotFound\u001b[0m                        Traceback (most recent call last)",
      "File \u001b[0;32m~/opt/anaconda3/lib/python3.9/site-packages/IPython/core/formatters.py:973\u001b[0m, in \u001b[0;36mMimeBundleFormatter.__call__\u001b[0;34m(self, obj, include, exclude)\u001b[0m\n\u001b[1;32m    970\u001b[0m     method \u001b[38;5;241m=\u001b[39m get_real_method(obj, \u001b[38;5;28mself\u001b[39m\u001b[38;5;241m.\u001b[39mprint_method)\n\u001b[1;32m    972\u001b[0m     \u001b[38;5;28;01mif\u001b[39;00m method \u001b[38;5;129;01mis\u001b[39;00m \u001b[38;5;129;01mnot\u001b[39;00m \u001b[38;5;28;01mNone\u001b[39;00m:\n\u001b[0;32m--> 973\u001b[0m         \u001b[38;5;28;01mreturn\u001b[39;00m \u001b[43mmethod\u001b[49m\u001b[43m(\u001b[49m\u001b[43minclude\u001b[49m\u001b[38;5;241;43m=\u001b[39;49m\u001b[43minclude\u001b[49m\u001b[43m,\u001b[49m\u001b[43m \u001b[49m\u001b[43mexclude\u001b[49m\u001b[38;5;241;43m=\u001b[39;49m\u001b[43mexclude\u001b[49m\u001b[43m)\u001b[49m\n\u001b[1;32m    974\u001b[0m     \u001b[38;5;28;01mreturn\u001b[39;00m \u001b[38;5;28;01mNone\u001b[39;00m\n\u001b[1;32m    975\u001b[0m \u001b[38;5;28;01melse\u001b[39;00m:\n",
      "File \u001b[0;32m~/opt/anaconda3/lib/python3.9/site-packages/graphviz/jupyter_integration.py:98\u001b[0m, in \u001b[0;36mJupyterIntegration._repr_mimebundle_\u001b[0;34m(self, include, exclude, **_)\u001b[0m\n\u001b[1;32m     96\u001b[0m include \u001b[38;5;241m=\u001b[39m \u001b[38;5;28mset\u001b[39m(include) \u001b[38;5;28;01mif\u001b[39;00m include \u001b[38;5;129;01mis\u001b[39;00m \u001b[38;5;129;01mnot\u001b[39;00m \u001b[38;5;28;01mNone\u001b[39;00m \u001b[38;5;28;01melse\u001b[39;00m {\u001b[38;5;28mself\u001b[39m\u001b[38;5;241m.\u001b[39m_jupyter_mimetype}\n\u001b[1;32m     97\u001b[0m include \u001b[38;5;241m-\u001b[39m\u001b[38;5;241m=\u001b[39m \u001b[38;5;28mset\u001b[39m(exclude \u001b[38;5;129;01mor\u001b[39;00m [])\n\u001b[0;32m---> 98\u001b[0m \u001b[38;5;28;01mreturn\u001b[39;00m {mimetype: \u001b[38;5;28mgetattr\u001b[39m(\u001b[38;5;28mself\u001b[39m, method_name)()\n\u001b[1;32m     99\u001b[0m         \u001b[38;5;28;01mfor\u001b[39;00m mimetype, method_name \u001b[38;5;129;01min\u001b[39;00m MIME_TYPES\u001b[38;5;241m.\u001b[39mitems()\n\u001b[1;32m    100\u001b[0m         \u001b[38;5;28;01mif\u001b[39;00m mimetype \u001b[38;5;129;01min\u001b[39;00m include}\n",
      "File \u001b[0;32m~/opt/anaconda3/lib/python3.9/site-packages/graphviz/jupyter_integration.py:98\u001b[0m, in \u001b[0;36m<dictcomp>\u001b[0;34m(.0)\u001b[0m\n\u001b[1;32m     96\u001b[0m include \u001b[38;5;241m=\u001b[39m \u001b[38;5;28mset\u001b[39m(include) \u001b[38;5;28;01mif\u001b[39;00m include \u001b[38;5;129;01mis\u001b[39;00m \u001b[38;5;129;01mnot\u001b[39;00m \u001b[38;5;28;01mNone\u001b[39;00m \u001b[38;5;28;01melse\u001b[39;00m {\u001b[38;5;28mself\u001b[39m\u001b[38;5;241m.\u001b[39m_jupyter_mimetype}\n\u001b[1;32m     97\u001b[0m include \u001b[38;5;241m-\u001b[39m\u001b[38;5;241m=\u001b[39m \u001b[38;5;28mset\u001b[39m(exclude \u001b[38;5;129;01mor\u001b[39;00m [])\n\u001b[0;32m---> 98\u001b[0m \u001b[38;5;28;01mreturn\u001b[39;00m {mimetype: \u001b[38;5;28;43mgetattr\u001b[39;49m\u001b[43m(\u001b[49m\u001b[38;5;28;43mself\u001b[39;49m\u001b[43m,\u001b[49m\u001b[43m \u001b[49m\u001b[43mmethod_name\u001b[49m\u001b[43m)\u001b[49m\u001b[43m(\u001b[49m\u001b[43m)\u001b[49m\n\u001b[1;32m     99\u001b[0m         \u001b[38;5;28;01mfor\u001b[39;00m mimetype, method_name \u001b[38;5;129;01min\u001b[39;00m MIME_TYPES\u001b[38;5;241m.\u001b[39mitems()\n\u001b[1;32m    100\u001b[0m         \u001b[38;5;28;01mif\u001b[39;00m mimetype \u001b[38;5;129;01min\u001b[39;00m include}\n",
      "File \u001b[0;32m~/opt/anaconda3/lib/python3.9/site-packages/graphviz/jupyter_integration.py:112\u001b[0m, in \u001b[0;36mJupyterIntegration._repr_image_svg_xml\u001b[0;34m(self)\u001b[0m\n\u001b[1;32m    110\u001b[0m \u001b[38;5;28;01mdef\u001b[39;00m \u001b[38;5;21m_repr_image_svg_xml\u001b[39m(\u001b[38;5;28mself\u001b[39m) \u001b[38;5;241m-\u001b[39m\u001b[38;5;241m>\u001b[39m \u001b[38;5;28mstr\u001b[39m:\n\u001b[1;32m    111\u001b[0m     \u001b[38;5;124;03m\"\"\"Return the rendered graph as SVG string.\"\"\"\u001b[39;00m\n\u001b[0;32m--> 112\u001b[0m     \u001b[38;5;28;01mreturn\u001b[39;00m \u001b[38;5;28;43mself\u001b[39;49m\u001b[38;5;241;43m.\u001b[39;49m\u001b[43mpipe\u001b[49m\u001b[43m(\u001b[49m\u001b[38;5;28;43mformat\u001b[39;49m\u001b[38;5;241;43m=\u001b[39;49m\u001b[38;5;124;43m'\u001b[39;49m\u001b[38;5;124;43msvg\u001b[39;49m\u001b[38;5;124;43m'\u001b[39;49m\u001b[43m,\u001b[49m\u001b[43m \u001b[49m\u001b[43mencoding\u001b[49m\u001b[38;5;241;43m=\u001b[39;49m\u001b[43mSVG_ENCODING\u001b[49m\u001b[43m)\u001b[49m\n",
      "File \u001b[0;32m~/opt/anaconda3/lib/python3.9/site-packages/graphviz/piping.py:104\u001b[0m, in \u001b[0;36mPipe.pipe\u001b[0;34m(self, format, renderer, formatter, neato_no_op, quiet, engine, encoding)\u001b[0m\n\u001b[1;32m     55\u001b[0m \u001b[38;5;28;01mdef\u001b[39;00m \u001b[38;5;21mpipe\u001b[39m(\u001b[38;5;28mself\u001b[39m,\n\u001b[1;32m     56\u001b[0m          \u001b[38;5;28mformat\u001b[39m: typing\u001b[38;5;241m.\u001b[39mOptional[\u001b[38;5;28mstr\u001b[39m] \u001b[38;5;241m=\u001b[39m \u001b[38;5;28;01mNone\u001b[39;00m,\n\u001b[1;32m     57\u001b[0m          renderer: typing\u001b[38;5;241m.\u001b[39mOptional[\u001b[38;5;28mstr\u001b[39m] \u001b[38;5;241m=\u001b[39m \u001b[38;5;28;01mNone\u001b[39;00m,\n\u001b[0;32m   (...)\u001b[0m\n\u001b[1;32m     61\u001b[0m          engine: typing\u001b[38;5;241m.\u001b[39mOptional[\u001b[38;5;28mstr\u001b[39m] \u001b[38;5;241m=\u001b[39m \u001b[38;5;28;01mNone\u001b[39;00m,\n\u001b[1;32m     62\u001b[0m          encoding: typing\u001b[38;5;241m.\u001b[39mOptional[\u001b[38;5;28mstr\u001b[39m] \u001b[38;5;241m=\u001b[39m \u001b[38;5;28;01mNone\u001b[39;00m) \u001b[38;5;241m-\u001b[39m\u001b[38;5;241m>\u001b[39m typing\u001b[38;5;241m.\u001b[39mUnion[\u001b[38;5;28mbytes\u001b[39m, \u001b[38;5;28mstr\u001b[39m]:\n\u001b[1;32m     63\u001b[0m     \u001b[38;5;124;03m\"\"\"Return the source piped through the Graphviz layout command.\u001b[39;00m\n\u001b[1;32m     64\u001b[0m \n\u001b[1;32m     65\u001b[0m \u001b[38;5;124;03m    Args:\u001b[39;00m\n\u001b[0;32m   (...)\u001b[0m\n\u001b[1;32m    102\u001b[0m \u001b[38;5;124;03m        '<?xml version='\u001b[39;00m\n\u001b[1;32m    103\u001b[0m \u001b[38;5;124;03m    \"\"\"\u001b[39;00m\n\u001b[0;32m--> 104\u001b[0m     \u001b[38;5;28;01mreturn\u001b[39;00m \u001b[38;5;28;43mself\u001b[39;49m\u001b[38;5;241;43m.\u001b[39;49m\u001b[43m_pipe_legacy\u001b[49m\u001b[43m(\u001b[49m\u001b[38;5;28;43mformat\u001b[39;49m\u001b[43m,\u001b[49m\n\u001b[1;32m    105\u001b[0m \u001b[43m                             \u001b[49m\u001b[43mrenderer\u001b[49m\u001b[38;5;241;43m=\u001b[39;49m\u001b[43mrenderer\u001b[49m\u001b[43m,\u001b[49m\n\u001b[1;32m    106\u001b[0m \u001b[43m                             \u001b[49m\u001b[43mformatter\u001b[49m\u001b[38;5;241;43m=\u001b[39;49m\u001b[43mformatter\u001b[49m\u001b[43m,\u001b[49m\n\u001b[1;32m    107\u001b[0m \u001b[43m                             \u001b[49m\u001b[43mneato_no_op\u001b[49m\u001b[38;5;241;43m=\u001b[39;49m\u001b[43mneato_no_op\u001b[49m\u001b[43m,\u001b[49m\n\u001b[1;32m    108\u001b[0m \u001b[43m                             \u001b[49m\u001b[43mquiet\u001b[49m\u001b[38;5;241;43m=\u001b[39;49m\u001b[43mquiet\u001b[49m\u001b[43m,\u001b[49m\n\u001b[1;32m    109\u001b[0m \u001b[43m                             \u001b[49m\u001b[43mengine\u001b[49m\u001b[38;5;241;43m=\u001b[39;49m\u001b[43mengine\u001b[49m\u001b[43m,\u001b[49m\n\u001b[1;32m    110\u001b[0m \u001b[43m                             \u001b[49m\u001b[43mencoding\u001b[49m\u001b[38;5;241;43m=\u001b[39;49m\u001b[43mencoding\u001b[49m\u001b[43m)\u001b[49m\n",
      "File \u001b[0;32m~/opt/anaconda3/lib/python3.9/site-packages/graphviz/_tools.py:171\u001b[0m, in \u001b[0;36mdeprecate_positional_args.<locals>.decorator.<locals>.wrapper\u001b[0;34m(*args, **kwargs)\u001b[0m\n\u001b[1;32m    162\u001b[0m     wanted \u001b[38;5;241m=\u001b[39m \u001b[38;5;124m'\u001b[39m\u001b[38;5;124m, \u001b[39m\u001b[38;5;124m'\u001b[39m\u001b[38;5;241m.\u001b[39mjoin(\u001b[38;5;124mf\u001b[39m\u001b[38;5;124m'\u001b[39m\u001b[38;5;132;01m{\u001b[39;00mname\u001b[38;5;132;01m}\u001b[39;00m\u001b[38;5;124m=\u001b[39m\u001b[38;5;132;01m{\u001b[39;00mvalue\u001b[38;5;132;01m!r}\u001b[39;00m\u001b[38;5;124m'\u001b[39m\n\u001b[1;32m    163\u001b[0m                        \u001b[38;5;28;01mfor\u001b[39;00m name, value \u001b[38;5;129;01min\u001b[39;00m deprecated\u001b[38;5;241m.\u001b[39mitems())\n\u001b[1;32m    164\u001b[0m     warnings\u001b[38;5;241m.\u001b[39mwarn(\u001b[38;5;124mf\u001b[39m\u001b[38;5;124m'\u001b[39m\u001b[38;5;124mThe signature of \u001b[39m\u001b[38;5;132;01m{\u001b[39;00mfunc\u001b[38;5;241m.\u001b[39m\u001b[38;5;18m__name__\u001b[39m\u001b[38;5;132;01m}\u001b[39;00m\u001b[38;5;124m will be reduced\u001b[39m\u001b[38;5;124m'\u001b[39m\n\u001b[1;32m    165\u001b[0m                   \u001b[38;5;124mf\u001b[39m\u001b[38;5;124m'\u001b[39m\u001b[38;5;124m to \u001b[39m\u001b[38;5;132;01m{\u001b[39;00msupported_number\u001b[38;5;132;01m}\u001b[39;00m\u001b[38;5;124m positional args\u001b[39m\u001b[38;5;124m'\u001b[39m\n\u001b[1;32m    166\u001b[0m                   \u001b[38;5;124mf\u001b[39m\u001b[38;5;124m'\u001b[39m\u001b[38;5;124m \u001b[39m\u001b[38;5;132;01m{\u001b[39;00m\u001b[38;5;28mlist\u001b[39m(supported)\u001b[38;5;132;01m}\u001b[39;00m\u001b[38;5;124m: pass \u001b[39m\u001b[38;5;132;01m{\u001b[39;00mwanted\u001b[38;5;132;01m}\u001b[39;00m\u001b[38;5;124m'\u001b[39m\n\u001b[1;32m    167\u001b[0m                   \u001b[38;5;124m'\u001b[39m\u001b[38;5;124m as keyword arg(s)\u001b[39m\u001b[38;5;124m'\u001b[39m,\n\u001b[1;32m    168\u001b[0m                   stacklevel\u001b[38;5;241m=\u001b[39mstacklevel,\n\u001b[1;32m    169\u001b[0m                   category\u001b[38;5;241m=\u001b[39mcategory)\n\u001b[0;32m--> 171\u001b[0m \u001b[38;5;28;01mreturn\u001b[39;00m \u001b[43mfunc\u001b[49m\u001b[43m(\u001b[49m\u001b[38;5;241;43m*\u001b[39;49m\u001b[43margs\u001b[49m\u001b[43m,\u001b[49m\u001b[43m \u001b[49m\u001b[38;5;241;43m*\u001b[39;49m\u001b[38;5;241;43m*\u001b[39;49m\u001b[43mkwargs\u001b[49m\u001b[43m)\u001b[49m\n",
      "File \u001b[0;32m~/opt/anaconda3/lib/python3.9/site-packages/graphviz/piping.py:121\u001b[0m, in \u001b[0;36mPipe._pipe_legacy\u001b[0;34m(self, format, renderer, formatter, neato_no_op, quiet, engine, encoding)\u001b[0m\n\u001b[1;32m    112\u001b[0m \u001b[38;5;129m@_tools\u001b[39m\u001b[38;5;241m.\u001b[39mdeprecate_positional_args(supported_number\u001b[38;5;241m=\u001b[39m\u001b[38;5;241m2\u001b[39m)\n\u001b[1;32m    113\u001b[0m \u001b[38;5;28;01mdef\u001b[39;00m \u001b[38;5;21m_pipe_legacy\u001b[39m(\u001b[38;5;28mself\u001b[39m,\n\u001b[1;32m    114\u001b[0m                  \u001b[38;5;28mformat\u001b[39m: typing\u001b[38;5;241m.\u001b[39mOptional[\u001b[38;5;28mstr\u001b[39m] \u001b[38;5;241m=\u001b[39m \u001b[38;5;28;01mNone\u001b[39;00m,\n\u001b[0;32m   (...)\u001b[0m\n\u001b[1;32m    119\u001b[0m                  engine: typing\u001b[38;5;241m.\u001b[39mOptional[\u001b[38;5;28mstr\u001b[39m] \u001b[38;5;241m=\u001b[39m \u001b[38;5;28;01mNone\u001b[39;00m,\n\u001b[1;32m    120\u001b[0m                  encoding: typing\u001b[38;5;241m.\u001b[39mOptional[\u001b[38;5;28mstr\u001b[39m] \u001b[38;5;241m=\u001b[39m \u001b[38;5;28;01mNone\u001b[39;00m) \u001b[38;5;241m-\u001b[39m\u001b[38;5;241m>\u001b[39m typing\u001b[38;5;241m.\u001b[39mUnion[\u001b[38;5;28mbytes\u001b[39m, \u001b[38;5;28mstr\u001b[39m]:\n\u001b[0;32m--> 121\u001b[0m     \u001b[38;5;28;01mreturn\u001b[39;00m \u001b[38;5;28;43mself\u001b[39;49m\u001b[38;5;241;43m.\u001b[39;49m\u001b[43m_pipe_future\u001b[49m\u001b[43m(\u001b[49m\u001b[38;5;28;43mformat\u001b[39;49m\u001b[43m,\u001b[49m\n\u001b[1;32m    122\u001b[0m \u001b[43m                             \u001b[49m\u001b[43mrenderer\u001b[49m\u001b[38;5;241;43m=\u001b[39;49m\u001b[43mrenderer\u001b[49m\u001b[43m,\u001b[49m\n\u001b[1;32m    123\u001b[0m \u001b[43m                             \u001b[49m\u001b[43mformatter\u001b[49m\u001b[38;5;241;43m=\u001b[39;49m\u001b[43mformatter\u001b[49m\u001b[43m,\u001b[49m\n\u001b[1;32m    124\u001b[0m \u001b[43m                             \u001b[49m\u001b[43mneato_no_op\u001b[49m\u001b[38;5;241;43m=\u001b[39;49m\u001b[43mneato_no_op\u001b[49m\u001b[43m,\u001b[49m\n\u001b[1;32m    125\u001b[0m \u001b[43m                             \u001b[49m\u001b[43mquiet\u001b[49m\u001b[38;5;241;43m=\u001b[39;49m\u001b[43mquiet\u001b[49m\u001b[43m,\u001b[49m\n\u001b[1;32m    126\u001b[0m \u001b[43m                             \u001b[49m\u001b[43mengine\u001b[49m\u001b[38;5;241;43m=\u001b[39;49m\u001b[43mengine\u001b[49m\u001b[43m,\u001b[49m\n\u001b[1;32m    127\u001b[0m \u001b[43m                             \u001b[49m\u001b[43mencoding\u001b[49m\u001b[38;5;241;43m=\u001b[39;49m\u001b[43mencoding\u001b[49m\u001b[43m)\u001b[49m\n",
      "File \u001b[0;32m~/opt/anaconda3/lib/python3.9/site-packages/graphviz/piping.py:149\u001b[0m, in \u001b[0;36mPipe._pipe_future\u001b[0;34m(self, format, renderer, formatter, neato_no_op, quiet, engine, encoding)\u001b[0m\n\u001b[1;32m    146\u001b[0m \u001b[38;5;28;01mif\u001b[39;00m encoding \u001b[38;5;129;01mis\u001b[39;00m \u001b[38;5;129;01mnot\u001b[39;00m \u001b[38;5;28;01mNone\u001b[39;00m:\n\u001b[1;32m    147\u001b[0m     \u001b[38;5;28;01mif\u001b[39;00m codecs\u001b[38;5;241m.\u001b[39mlookup(encoding) \u001b[38;5;129;01mis\u001b[39;00m codecs\u001b[38;5;241m.\u001b[39mlookup(\u001b[38;5;28mself\u001b[39m\u001b[38;5;241m.\u001b[39mencoding):\n\u001b[1;32m    148\u001b[0m         \u001b[38;5;66;03m# common case: both stdin and stdout need the same encoding\u001b[39;00m\n\u001b[0;32m--> 149\u001b[0m         \u001b[38;5;28;01mreturn\u001b[39;00m \u001b[38;5;28;43mself\u001b[39;49m\u001b[38;5;241;43m.\u001b[39;49m\u001b[43m_pipe_lines_string\u001b[49m\u001b[43m(\u001b[49m\u001b[38;5;241;43m*\u001b[39;49m\u001b[43margs\u001b[49m\u001b[43m,\u001b[49m\u001b[43m \u001b[49m\u001b[43mencoding\u001b[49m\u001b[38;5;241;43m=\u001b[39;49m\u001b[43mencoding\u001b[49m\u001b[43m,\u001b[49m\u001b[43m \u001b[49m\u001b[38;5;241;43m*\u001b[39;49m\u001b[38;5;241;43m*\u001b[39;49m\u001b[43mkwargs\u001b[49m\u001b[43m)\u001b[49m\n\u001b[1;32m    150\u001b[0m     \u001b[38;5;28;01mtry\u001b[39;00m:\n\u001b[1;32m    151\u001b[0m         raw \u001b[38;5;241m=\u001b[39m \u001b[38;5;28mself\u001b[39m\u001b[38;5;241m.\u001b[39m_pipe_lines(\u001b[38;5;241m*\u001b[39margs, input_encoding\u001b[38;5;241m=\u001b[39m\u001b[38;5;28mself\u001b[39m\u001b[38;5;241m.\u001b[39mencoding, \u001b[38;5;241m*\u001b[39m\u001b[38;5;241m*\u001b[39mkwargs)\n",
      "File \u001b[0;32m~/opt/anaconda3/lib/python3.9/site-packages/graphviz/backend/piping.py:212\u001b[0m, in \u001b[0;36mpipe_lines_string\u001b[0;34m(engine, format, input_lines, encoding, renderer, formatter, neato_no_op, quiet)\u001b[0m\n\u001b[1;32m    206\u001b[0m cmd \u001b[38;5;241m=\u001b[39m dot_command\u001b[38;5;241m.\u001b[39mcommand(engine, \u001b[38;5;28mformat\u001b[39m,\n\u001b[1;32m    207\u001b[0m                           renderer\u001b[38;5;241m=\u001b[39mrenderer,\n\u001b[1;32m    208\u001b[0m                           formatter\u001b[38;5;241m=\u001b[39mformatter,\n\u001b[1;32m    209\u001b[0m                           neato_no_op\u001b[38;5;241m=\u001b[39mneato_no_op)\n\u001b[1;32m    210\u001b[0m kwargs \u001b[38;5;241m=\u001b[39m {\u001b[38;5;124m'\u001b[39m\u001b[38;5;124minput_lines\u001b[39m\u001b[38;5;124m'\u001b[39m: input_lines, \u001b[38;5;124m'\u001b[39m\u001b[38;5;124mencoding\u001b[39m\u001b[38;5;124m'\u001b[39m: encoding}\n\u001b[0;32m--> 212\u001b[0m proc \u001b[38;5;241m=\u001b[39m \u001b[43mexecute\u001b[49m\u001b[38;5;241;43m.\u001b[39;49m\u001b[43mrun_check\u001b[49m\u001b[43m(\u001b[49m\u001b[43mcmd\u001b[49m\u001b[43m,\u001b[49m\u001b[43m \u001b[49m\u001b[43mcapture_output\u001b[49m\u001b[38;5;241;43m=\u001b[39;49m\u001b[38;5;28;43;01mTrue\u001b[39;49;00m\u001b[43m,\u001b[49m\u001b[43m \u001b[49m\u001b[43mquiet\u001b[49m\u001b[38;5;241;43m=\u001b[39;49m\u001b[43mquiet\u001b[49m\u001b[43m,\u001b[49m\u001b[43m \u001b[49m\u001b[38;5;241;43m*\u001b[39;49m\u001b[38;5;241;43m*\u001b[39;49m\u001b[43mkwargs\u001b[49m\u001b[43m)\u001b[49m\n\u001b[1;32m    213\u001b[0m \u001b[38;5;28;01mreturn\u001b[39;00m proc\u001b[38;5;241m.\u001b[39mstdout\n",
      "File \u001b[0;32m~/opt/anaconda3/lib/python3.9/site-packages/graphviz/backend/execute.py:84\u001b[0m, in \u001b[0;36mrun_check\u001b[0;34m(cmd, input_lines, encoding, quiet, **kwargs)\u001b[0m\n\u001b[1;32m     82\u001b[0m \u001b[38;5;28;01mexcept\u001b[39;00m \u001b[38;5;167;01mOSError\u001b[39;00m \u001b[38;5;28;01mas\u001b[39;00m e:\n\u001b[1;32m     83\u001b[0m     \u001b[38;5;28;01mif\u001b[39;00m e\u001b[38;5;241m.\u001b[39merrno \u001b[38;5;241m==\u001b[39m errno\u001b[38;5;241m.\u001b[39mENOENT:\n\u001b[0;32m---> 84\u001b[0m         \u001b[38;5;28;01mraise\u001b[39;00m ExecutableNotFound(cmd) \u001b[38;5;28;01mfrom\u001b[39;00m \u001b[38;5;21;01me\u001b[39;00m\n\u001b[1;32m     85\u001b[0m     \u001b[38;5;28;01mraise\u001b[39;00m\n\u001b[1;32m     87\u001b[0m \u001b[38;5;28;01mif\u001b[39;00m \u001b[38;5;129;01mnot\u001b[39;00m quiet \u001b[38;5;129;01mand\u001b[39;00m proc\u001b[38;5;241m.\u001b[39mstderr:\n",
      "\u001b[0;31mExecutableNotFound\u001b[0m: failed to execute PosixPath('dot'), make sure the Graphviz executables are on your systems' PATH"
     ]
    },
    {
     "data": {
      "text/plain": [
       "<graphviz.sources.Source at 0x7f8021fe1be0>"
      ]
     },
     "execution_count": 531,
     "metadata": {},
     "output_type": "execute_result"
    }
   ],
   "source": [
    "from sklearn import tree\n",
    "import graphviz\n",
    "dot_data= tree.export_graphviz(clf.estimators_[0], out_file=None, \n",
    "                                feature_names = X_train.columns,\n",
    "                                class_names = 'Tumor Stage',\n",
    "                                filled=True)\n",
    "##tree.plot_tree(clf)\n",
    "\n",
    "# Draw graph\n",
    "graph = graphviz.Source(dot_data, format=\"png\") \n",
    "graph"
   ]
  },
  {
   "cell_type": "code",
   "execution_count": 535,
   "id": "c09eb468",
   "metadata": {},
   "outputs": [
    {
     "name": "stdout",
     "output_type": "stream",
     "text": [
      "Training score: 0.746885899352267\n",
      "Testing score: 0.7470119521912351\n"
     ]
    }
   ],
   "source": [
    "from sklearn import svm\n",
    "\n",
    "clf = svm.SVC()\n",
    "clf.fit(X_train,y_train)\n",
    "\n",
    "training_score = clf.score(X_train,y_train)\n",
    "testing_score = clf.score(X_test,y_test)\n",
    "\n",
    "print(\"Training score: \" + str(training_score) + \"\\nTesting score: \" + str(testing_score))\n",
    "\n",
    "\n",
    "plt.scatter(range(3,30),mse)\n",
    "plt.scatter(14,0.05776892430278884,color='red')\n",
    "plt.title('Random Forest MSE')"
   ]
  },
  {
   "cell_type": "code",
   "execution_count": 53,
   "id": "332aed8a",
   "metadata": {
    "scrolled": true
   },
   "outputs": [
    {
     "data": {
      "image/png": "[encoded data removed]",
      "text/plain": [
       "<Figure size 432x288 with 1 Axes>"
      ]
     },
     "metadata": {
      "needs_background": "light"
     },
     "output_type": "display_data"
    }
   ],
   "source": [
    "from sklearn import svm\n",
    "\n",
    "fig = plt.figure()\n",
    "ax=fig.add_subplot(projection='3d')\n",
    "\n",
    "best_score_svm = 0\n",
    "\n",
    "for i in np.linspace(0.1,5,10):\n",
    "    for j in np.linspace(1,10,10):\n",
    "        SVM = svm.SVC(gamma=i,C=j)\n",
    "        SVM.fit(X_train, y_train)\n",
    "        cv_score = cross_val_score(SVM, X_train, y_train, cv=10).mean()\n",
    "        ax.scatter(i,j, cv_score, color = \"black\")\n",
    "        if cv_score > best_score_svm:\n",
    "            best_depth = i\n",
    "            best_C=j\n",
    "            best_score_svm = cv_score\n",
    "\n",
    "l = ax.set(title = \"Best Gamma : \" + str(\"{:.2f}\".format(best_depth))+ \" Best C : \" + str(\"{:.2f}\".format(best_C)),\n",
    "       xlabel = \"Gamma\", \n",
    "       ylabel = \"C\",\n",
    "       zlabel = \"CV Score\")"
   ]
  },
  {
   "cell_type": "code",
   "execution_count": 60,
   "id": "883a4cbf",
   "metadata": {},
   "outputs": [
    {
     "data": {
      "text/plain": [
       "0.7568233830845771"
      ]
     },
     "execution_count": 60,
     "metadata": {},
     "output_type": "execute_result"
    }
   ],
   "source": [
    "best_score_svm"
   ]
  }
 ],
 "metadata": {
  "kernelspec": {
   "display_name": "Python 3 (ipykernel)",
   "language": "python",
   "name": "python3"
  },
  "language_info": {
   "codemirror_mode": {
    "name": "ipython",
    "version": 3
   },
   "file_extension": ".py",
   "mimetype": "text/x-python",
   "name": "python",
   "nbconvert_exporter": "python",
   "pygments_lexer": "ipython3",
   "version": "3.9.12"
  }
 },
 "nbformat": 4,
 "nbformat_minor": 5
}
